{
 "cells": [
  {
   "cell_type": "code",
   "execution_count": 4,
   "metadata": {
    "colab": {
     "base_uri": "https://localhost:8080/",
     "height": 118
    },
    "colab_type": "code",
    "executionInfo": {
     "elapsed": 31981,
     "status": "ok",
     "timestamp": 1588571410802,
     "user": {
      "displayName": "Thamindu Jayawickrama",
      "photoUrl": "https://lh3.googleusercontent.com/a-/AOh14GjjqO5d7Rx8QIe-jMmmxUH6UihJmmWv_8InY9HO=s64",
      "userId": "13872082558136559787"
     },
     "user_tz": -330
    },
    "id": "nIItSWUi_zk9",
    "outputId": "db139ee0-e87c-4d4b-b6f4-a6b13e7b39d7"
   },
   "outputs": [
    {
     "name": "stdout",
     "output_type": "stream",
     "text": [
      "Go to this URL in a browser: https://accounts.google.com/o/oauth2/auth?client_id=947318989803-6bn6qk8qdgf4n4g3pfee6491hc0brc4i.apps.googleusercontent.com&redirect_uri=urn%3aietf%3awg%3aoauth%3a2.0%3aoob&response_type=code&scope=email%20https%3a%2f%2fwww.googleapis.com%2fauth%2fdocs.test%20https%3a%2f%2fwww.googleapis.com%2fauth%2fdrive%20https%3a%2f%2fwww.googleapis.com%2fauth%2fdrive.photos.readonly%20https%3a%2f%2fwww.googleapis.com%2fauth%2fpeopleapi.readonly\n",
      "\n",
      "Enter your authorization code:\n",
      "··········\n",
      "Mounted at /content/drive\n"
     ]
    }
   ],
   "source": [
    "from google.colab import drive\n",
    "drive.mount('/content/drive')"
   ]
  },
  {
   "cell_type": "markdown",
   "metadata": {
    "colab_type": "text",
    "id": "B5_sLpLNBD8E"
   },
   "source": [
    "## Importing Libraries and Modules"
   ]
  },
  {
   "cell_type": "code",
   "execution_count": 0,
   "metadata": {
    "colab": {},
    "colab_type": "code",
    "id": "P2RH-otqA87Y"
   },
   "outputs": [],
   "source": [
    "import warnings\n",
    "warnings.filterwarnings('ignore')\n",
    "\n",
    "import pandas as pd\n",
    "import numpy as np\n",
    "from matplotlib import pyplot as plt\n",
    "\n",
    "from geopy.distance import great_circle\n",
    "import datetime\n",
    "\n",
    "from sklearn.preprocessing import MinMaxScaler\n",
    "from sklearn.experimental import enable_iterative_imputer\n",
    "from sklearn.impute import IterativeImputer, KNNImputer\n",
    "\n",
    "from sklearn.feature_selection import SelectKBest\n",
    "from sklearn.feature_selection import chi2\n",
    "from sklearn.model_selection import train_test_split\n",
    "\n",
    "from numpy import loadtxt\n",
    "from keras.models import Sequential\n",
    "from keras.layers import Dense\n",
    "from keras.layers import Dropout\n",
    "import keras.backend as K\n",
    "from keras.callbacks import EarlyStopping\n",
    "from keras.callbacks import ModelCheckpoint\n",
    "from keras.models import load_model\n",
    "\n",
    "from sklearn.model_selection import GridSearchCV, cross_val_score, StratifiedKFold, learning_curve, RandomizedSearchCV\n",
    "\n",
    "from sklearn.utils import class_weight\n",
    "from imblearn.over_sampling import SMOTE\n"
   ]
  },
  {
   "cell_type": "markdown",
   "metadata": {
    "colab_type": "text",
    "id": "1uIU6swyBTt5"
   },
   "source": [
    "## Loading the Datasets"
   ]
  },
  {
   "cell_type": "code",
   "execution_count": 0,
   "metadata": {
    "colab": {},
    "colab_type": "code",
    "id": "p4CvDRT4AgmZ"
   },
   "outputs": [],
   "source": [
    "## Loading the Datasets\n",
    "train = pd.read_csv('drive/My Drive/ML/data/weka_processed/train_pro.csv')\n",
    "test = pd.read_csv('drive/My Drive/ML/data/test.csv')\n"
   ]
  },
  {
   "cell_type": "markdown",
   "metadata": {
    "colab_type": "text",
    "id": "OvGnxohQCLTb"
   },
   "source": [
    "## Basic Intuition on the Data"
   ]
  },
  {
   "cell_type": "code",
   "execution_count": 37,
   "metadata": {
    "colab": {
     "base_uri": "https://localhost:8080/",
     "height": 191
    },
    "colab_type": "code",
    "executionInfo": {
     "elapsed": 1863,
     "status": "ok",
     "timestamp": 1588574491414,
     "user": {
      "displayName": "Thamindu Jayawickrama",
      "photoUrl": "https://lh3.googleusercontent.com/a-/AOh14GjjqO5d7Rx8QIe-jMmmxUH6UihJmmWv_8InY9HO=s64",
      "userId": "13872082558136559787"
     },
     "user_tz": -330
    },
    "id": "5FJAcBb5Bnlc",
    "outputId": "25b770cb-8eaa-4575-a6c9-0af58a233e1c"
   },
   "outputs": [
    {
     "data": {
      "text/html": [
       "<div>\n",
       "<style scoped>\n",
       "    .dataframe tbody tr th:only-of-type {\n",
       "        vertical-align: middle;\n",
       "    }\n",
       "\n",
       "    .dataframe tbody tr th {\n",
       "        vertical-align: top;\n",
       "    }\n",
       "\n",
       "    .dataframe thead th {\n",
       "        text-align: right;\n",
       "    }\n",
       "</style>\n",
       "<table border=\"1\" class=\"dataframe\">\n",
       "  <thead>\n",
       "    <tr style=\"text-align: right;\">\n",
       "      <th></th>\n",
       "      <th>tripid</th>\n",
       "      <th>additional_fare</th>\n",
       "      <th>duration</th>\n",
       "      <th>meter_waiting</th>\n",
       "      <th>meter_waiting_fare</th>\n",
       "      <th>meter_waiting_till_pickup</th>\n",
       "      <th>pickup_time</th>\n",
       "      <th>drop_time</th>\n",
       "      <th>pick_lat</th>\n",
       "      <th>pick_lon</th>\n",
       "      <th>drop_lat</th>\n",
       "      <th>drop_lon</th>\n",
       "      <th>fare</th>\n",
       "      <th>label</th>\n",
       "    </tr>\n",
       "  </thead>\n",
       "  <tbody>\n",
       "    <tr>\n",
       "      <th>0</th>\n",
       "      <td>189123628</td>\n",
       "      <td>10.5</td>\n",
       "      <td>834</td>\n",
       "      <td>56</td>\n",
       "      <td>0</td>\n",
       "      <td>64</td>\n",
       "      <td>'11/1/2019 0:20'</td>\n",
       "      <td>'11/1/2019 0:34'</td>\n",
       "      <td>6.86252</td>\n",
       "      <td>79.8993</td>\n",
       "      <td>6.90330</td>\n",
       "      <td>79.8783</td>\n",
       "      <td>270.32</td>\n",
       "      <td>correct</td>\n",
       "    </tr>\n",
       "    <tr>\n",
       "      <th>1</th>\n",
       "      <td>189125358</td>\n",
       "      <td>10.5</td>\n",
       "      <td>791</td>\n",
       "      <td>47</td>\n",
       "      <td>0</td>\n",
       "      <td>134</td>\n",
       "      <td>'11/1/2019 0:56'</td>\n",
       "      <td>'11/1/2019 1:09'</td>\n",
       "      <td>6.88589</td>\n",
       "      <td>79.8984</td>\n",
       "      <td>6.91373</td>\n",
       "      <td>79.8923</td>\n",
       "      <td>197.85</td>\n",
       "      <td>correct</td>\n",
       "    </tr>\n",
       "    <tr>\n",
       "      <th>2</th>\n",
       "      <td>189125719</td>\n",
       "      <td>10.5</td>\n",
       "      <td>1087</td>\n",
       "      <td>80</td>\n",
       "      <td>0</td>\n",
       "      <td>61</td>\n",
       "      <td>'11/1/2019 1:08'</td>\n",
       "      <td>'11/1/2019 1:26'</td>\n",
       "      <td>6.90839</td>\n",
       "      <td>79.8651</td>\n",
       "      <td>6.93669</td>\n",
       "      <td>79.9146</td>\n",
       "      <td>301.64</td>\n",
       "      <td>correct</td>\n",
       "    </tr>\n",
       "    <tr>\n",
       "      <th>3</th>\n",
       "      <td>189127273</td>\n",
       "      <td>10.5</td>\n",
       "      <td>598</td>\n",
       "      <td>271</td>\n",
       "      <td>15.6638</td>\n",
       "      <td>68</td>\n",
       "      <td>'11/1/2019 2:27'</td>\n",
       "      <td>'11/1/2019 2:37'</td>\n",
       "      <td>6.92570</td>\n",
       "      <td>79.8895</td>\n",
       "      <td>6.92748</td>\n",
       "      <td>79.8971</td>\n",
       "      <td>82.3</td>\n",
       "      <td>correct</td>\n",
       "    </tr>\n",
       "    <tr>\n",
       "      <th>4</th>\n",
       "      <td>189128020</td>\n",
       "      <td>?</td>\n",
       "      <td>?</td>\n",
       "      <td>?</td>\n",
       "      <td>?</td>\n",
       "      <td>?</td>\n",
       "      <td>'11/1/2019 3:34'</td>\n",
       "      <td>'11/1/2019 3:51'</td>\n",
       "      <td>6.87441</td>\n",
       "      <td>79.8615</td>\n",
       "      <td>6.84478</td>\n",
       "      <td>79.9290</td>\n",
       "      <td>358.39</td>\n",
       "      <td>correct</td>\n",
       "    </tr>\n",
       "  </tbody>\n",
       "</table>\n",
       "</div>"
      ],
      "text/plain": [
       "      tripid additional_fare duration  ... drop_lon    fare    label\n",
       "0  189123628            10.5      834  ...  79.8783  270.32  correct\n",
       "1  189125358            10.5      791  ...  79.8923  197.85  correct\n",
       "2  189125719            10.5     1087  ...  79.9146  301.64  correct\n",
       "3  189127273            10.5      598  ...  79.8971    82.3  correct\n",
       "4  189128020               ?        ?  ...  79.9290  358.39  correct\n",
       "\n",
       "[5 rows x 14 columns]"
      ]
     },
     "execution_count": 37,
     "metadata": {
      "tags": []
     },
     "output_type": "execute_result"
    }
   ],
   "source": [
    "train.head()"
   ]
  },
  {
   "cell_type": "code",
   "execution_count": 38,
   "metadata": {
    "colab": {
     "base_uri": "https://localhost:8080/",
     "height": 191
    },
    "colab_type": "code",
    "executionInfo": {
     "elapsed": 1699,
     "status": "ok",
     "timestamp": 1588574491415,
     "user": {
      "displayName": "Thamindu Jayawickrama",
      "photoUrl": "https://lh3.googleusercontent.com/a-/AOh14GjjqO5d7Rx8QIe-jMmmxUH6UihJmmWv_8InY9HO=s64",
      "userId": "13872082558136559787"
     },
     "user_tz": -330
    },
    "id": "LSyjWqNHCOMG",
    "outputId": "d45bdc74-cb5c-4dd3-e7dc-aa34552fc551"
   },
   "outputs": [
    {
     "data": {
      "text/html": [
       "<div>\n",
       "<style scoped>\n",
       "    .dataframe tbody tr th:only-of-type {\n",
       "        vertical-align: middle;\n",
       "    }\n",
       "\n",
       "    .dataframe tbody tr th {\n",
       "        vertical-align: top;\n",
       "    }\n",
       "\n",
       "    .dataframe thead th {\n",
       "        text-align: right;\n",
       "    }\n",
       "</style>\n",
       "<table border=\"1\" class=\"dataframe\">\n",
       "  <thead>\n",
       "    <tr style=\"text-align: right;\">\n",
       "      <th></th>\n",
       "      <th>tripid</th>\n",
       "      <th>additional_fare</th>\n",
       "      <th>duration</th>\n",
       "      <th>meter_waiting</th>\n",
       "      <th>meter_waiting_fare</th>\n",
       "      <th>meter_waiting_till_pickup</th>\n",
       "      <th>pickup_time</th>\n",
       "      <th>drop_time</th>\n",
       "      <th>pick_lat</th>\n",
       "      <th>pick_lon</th>\n",
       "      <th>drop_lat</th>\n",
       "      <th>drop_lon</th>\n",
       "      <th>fare</th>\n",
       "    </tr>\n",
       "  </thead>\n",
       "  <tbody>\n",
       "    <tr>\n",
       "      <th>0</th>\n",
       "      <td>213284604</td>\n",
       "      <td>10.5</td>\n",
       "      <td>924</td>\n",
       "      <td>42</td>\n",
       "      <td>2.4486</td>\n",
       "      <td>148</td>\n",
       "      <td>2/1/2020 0:38</td>\n",
       "      <td>2/1/2020 0:53</td>\n",
       "      <td>6.83454</td>\n",
       "      <td>79.8750</td>\n",
       "      <td>6.77490</td>\n",
       "      <td>79.8840</td>\n",
       "      <td>289.27</td>\n",
       "    </tr>\n",
       "    <tr>\n",
       "      <th>1</th>\n",
       "      <td>213286352</td>\n",
       "      <td>10.5</td>\n",
       "      <td>4249</td>\n",
       "      <td>20</td>\n",
       "      <td>0.0000</td>\n",
       "      <td>91</td>\n",
       "      <td>2/1/2020 1:02</td>\n",
       "      <td>2/1/2020 2:13</td>\n",
       "      <td>6.91168</td>\n",
       "      <td>79.8723</td>\n",
       "      <td>6.55091</td>\n",
       "      <td>79.9706</td>\n",
       "      <td>1912.70</td>\n",
       "    </tr>\n",
       "    <tr>\n",
       "      <th>2</th>\n",
       "      <td>213293973</td>\n",
       "      <td>10.5</td>\n",
       "      <td>1552</td>\n",
       "      <td>255</td>\n",
       "      <td>2.6588</td>\n",
       "      <td>23</td>\n",
       "      <td>2/1/2020 5:02</td>\n",
       "      <td>2/1/2020 5:28</td>\n",
       "      <td>6.92145</td>\n",
       "      <td>79.8478</td>\n",
       "      <td>6.90539</td>\n",
       "      <td>79.8989</td>\n",
       "      <td>394.00</td>\n",
       "    </tr>\n",
       "    <tr>\n",
       "      <th>3</th>\n",
       "      <td>213294622</td>\n",
       "      <td>10.5</td>\n",
       "      <td>462</td>\n",
       "      <td>16</td>\n",
       "      <td>0.0000</td>\n",
       "      <td>198</td>\n",
       "      <td>2/1/2020 5:30</td>\n",
       "      <td>2/1/2020 5:38</td>\n",
       "      <td>6.77433</td>\n",
       "      <td>79.9416</td>\n",
       "      <td>6.80401</td>\n",
       "      <td>79.9407</td>\n",
       "      <td>154.32</td>\n",
       "    </tr>\n",
       "    <tr>\n",
       "      <th>4</th>\n",
       "      <td>213298687</td>\n",
       "      <td>10.5</td>\n",
       "      <td>814</td>\n",
       "      <td>392</td>\n",
       "      <td>12.3692</td>\n",
       "      <td>69</td>\n",
       "      <td>2/1/2020 7:00</td>\n",
       "      <td>2/1/2020 7:14</td>\n",
       "      <td>6.97968</td>\n",
       "      <td>79.9130</td>\n",
       "      <td>6.98875</td>\n",
       "      <td>79.8914</td>\n",
       "      <td>147.47</td>\n",
       "    </tr>\n",
       "  </tbody>\n",
       "</table>\n",
       "</div>"
      ],
      "text/plain": [
       "      tripid  additional_fare  duration  ...  drop_lat  drop_lon     fare\n",
       "0  213284604             10.5       924  ...   6.77490   79.8840   289.27\n",
       "1  213286352             10.5      4249  ...   6.55091   79.9706  1912.70\n",
       "2  213293973             10.5      1552  ...   6.90539   79.8989   394.00\n",
       "3  213294622             10.5       462  ...   6.80401   79.9407   154.32\n",
       "4  213298687             10.5       814  ...   6.98875   79.8914   147.47\n",
       "\n",
       "[5 rows x 13 columns]"
      ]
     },
     "execution_count": 38,
     "metadata": {
      "tags": []
     },
     "output_type": "execute_result"
    }
   ],
   "source": [
    "test.head()"
   ]
  },
  {
   "cell_type": "code",
   "execution_count": 39,
   "metadata": {
    "colab": {
     "base_uri": "https://localhost:8080/",
     "height": 358
    },
    "colab_type": "code",
    "executionInfo": {
     "elapsed": 2427,
     "status": "ok",
     "timestamp": 1588574492279,
     "user": {
      "displayName": "Thamindu Jayawickrama",
      "photoUrl": "https://lh3.googleusercontent.com/a-/AOh14GjjqO5d7Rx8QIe-jMmmxUH6UihJmmWv_8InY9HO=s64",
      "userId": "13872082558136559787"
     },
     "user_tz": -330
    },
    "id": "BLlQzTJQCPVl",
    "outputId": "b9775c65-1b70-4a74-ddf1-6eb1a64e4604"
   },
   "outputs": [
    {
     "name": "stdout",
     "output_type": "stream",
     "text": [
      "<class 'pandas.core.frame.DataFrame'>\n",
      "RangeIndex: 15327 entries, 0 to 15326\n",
      "Data columns (total 14 columns):\n",
      " #   Column                     Non-Null Count  Dtype  \n",
      "---  ------                     --------------  -----  \n",
      " 0   tripid                     15327 non-null  int64  \n",
      " 1   additional_fare            15327 non-null  object \n",
      " 2   duration                   15327 non-null  object \n",
      " 3   meter_waiting              15327 non-null  object \n",
      " 4   meter_waiting_fare         15327 non-null  object \n",
      " 5   meter_waiting_till_pickup  15327 non-null  object \n",
      " 6   pickup_time                15327 non-null  object \n",
      " 7   drop_time                  15327 non-null  object \n",
      " 8   pick_lat                   15327 non-null  float64\n",
      " 9   pick_lon                   15327 non-null  float64\n",
      " 10  drop_lat                   15327 non-null  float64\n",
      " 11  drop_lon                   15327 non-null  float64\n",
      " 12  fare                       15327 non-null  object \n",
      " 13  label                      15327 non-null  object \n",
      "dtypes: float64(4), int64(1), object(9)\n",
      "memory usage: 1.6+ MB\n"
     ]
    }
   ],
   "source": [
    "train.info()"
   ]
  },
  {
   "cell_type": "code",
   "execution_count": 40,
   "metadata": {
    "colab": {
     "base_uri": "https://localhost:8080/",
     "height": 33
    },
    "colab_type": "code",
    "executionInfo": {
     "elapsed": 2277,
     "status": "ok",
     "timestamp": 1588574492279,
     "user": {
      "displayName": "Thamindu Jayawickrama",
      "photoUrl": "https://lh3.googleusercontent.com/a-/AOh14GjjqO5d7Rx8QIe-jMmmxUH6UihJmmWv_8InY9HO=s64",
      "userId": "13872082558136559787"
     },
     "user_tz": -330
    },
    "id": "rZRmS0bjCRi0",
    "outputId": "c9fb5488-0ea0-4b93-f402-579ee7ba641f"
   },
   "outputs": [
    {
     "data": {
      "text/plain": [
       "(15327, 14)"
      ]
     },
     "execution_count": 40,
     "metadata": {
      "tags": []
     },
     "output_type": "execute_result"
    }
   ],
   "source": [
    "train.shape"
   ]
  },
  {
   "cell_type": "code",
   "execution_count": 41,
   "metadata": {
    "colab": {
     "base_uri": "https://localhost:8080/",
     "height": 342
    },
    "colab_type": "code",
    "executionInfo": {
     "elapsed": 2169,
     "status": "ok",
     "timestamp": 1588574492280,
     "user": {
      "displayName": "Thamindu Jayawickrama",
      "photoUrl": "https://lh3.googleusercontent.com/a-/AOh14GjjqO5d7Rx8QIe-jMmmxUH6UihJmmWv_8InY9HO=s64",
      "userId": "13872082558136559787"
     },
     "user_tz": -330
    },
    "id": "lcLTfOeICS8O",
    "outputId": "f9540a11-5f27-45b6-b6c1-a92cddc1f354"
   },
   "outputs": [
    {
     "name": "stdout",
     "output_type": "stream",
     "text": [
      "<class 'pandas.core.frame.DataFrame'>\n",
      "RangeIndex: 8576 entries, 0 to 8575\n",
      "Data columns (total 13 columns):\n",
      " #   Column                     Non-Null Count  Dtype  \n",
      "---  ------                     --------------  -----  \n",
      " 0   tripid                     8576 non-null   int64  \n",
      " 1   additional_fare            8576 non-null   float64\n",
      " 2   duration                   8576 non-null   int64  \n",
      " 3   meter_waiting              8576 non-null   int64  \n",
      " 4   meter_waiting_fare         8576 non-null   float64\n",
      " 5   meter_waiting_till_pickup  8576 non-null   int64  \n",
      " 6   pickup_time                8576 non-null   object \n",
      " 7   drop_time                  8576 non-null   object \n",
      " 8   pick_lat                   8576 non-null   float64\n",
      " 9   pick_lon                   8576 non-null   float64\n",
      " 10  drop_lat                   8576 non-null   float64\n",
      " 11  drop_lon                   8576 non-null   float64\n",
      " 12  fare                       8576 non-null   float64\n",
      "dtypes: float64(7), int64(4), object(2)\n",
      "memory usage: 871.1+ KB\n"
     ]
    }
   ],
   "source": [
    "test.info()"
   ]
  },
  {
   "cell_type": "code",
   "execution_count": 42,
   "metadata": {
    "colab": {
     "base_uri": "https://localhost:8080/",
     "height": 33
    },
    "colab_type": "code",
    "executionInfo": {
     "elapsed": 2012,
     "status": "ok",
     "timestamp": 1588574492280,
     "user": {
      "displayName": "Thamindu Jayawickrama",
      "photoUrl": "https://lh3.googleusercontent.com/a-/AOh14GjjqO5d7Rx8QIe-jMmmxUH6UihJmmWv_8InY9HO=s64",
      "userId": "13872082558136559787"
     },
     "user_tz": -330
    },
    "id": "RwRJ6X7xCUJG",
    "outputId": "5d60031c-a56f-42c2-af9e-ea5a0a601571"
   },
   "outputs": [
    {
     "data": {
      "text/plain": [
       "(8576, 13)"
      ]
     },
     "execution_count": 42,
     "metadata": {
      "tags": []
     },
     "output_type": "execute_result"
    }
   ],
   "source": [
    "test.shape"
   ]
  },
  {
   "cell_type": "code",
   "execution_count": 0,
   "metadata": {
    "colab": {},
    "colab_type": "code",
    "id": "nSixeBT0CVsW"
   },
   "outputs": [],
   "source": []
  },
  {
   "cell_type": "markdown",
   "metadata": {
    "colab_type": "text",
    "id": "nNm3Tm80CXKg"
   },
   "source": [
    "## Cleaning the Data"
   ]
  },
  {
   "cell_type": "code",
   "execution_count": 0,
   "metadata": {
    "colab": {},
    "colab_type": "code",
    "id": "A9exv-3KCWRl"
   },
   "outputs": [],
   "source": [
    "## cleaning weka added unnecessary values\n",
    "\n",
    "train = train.replace({'?': np.nan})\n"
   ]
  },
  {
   "cell_type": "code",
   "execution_count": 0,
   "metadata": {
    "colab": {},
    "colab_type": "code",
    "id": "SD1xFj25CcCY"
   },
   "outputs": [],
   "source": [
    "## converting label values into 0,1 instead of correct, incorrect\n",
    "\n",
    "train.label = train.label.map(dict(correct=1, incorrect=0))"
   ]
  },
  {
   "cell_type": "code",
   "execution_count": 45,
   "metadata": {
    "colab": {
     "base_uri": "https://localhost:8080/",
     "height": 261
    },
    "colab_type": "code",
    "executionInfo": {
     "elapsed": 1797,
     "status": "ok",
     "timestamp": 1588574493169,
     "user": {
      "displayName": "Thamindu Jayawickrama",
      "photoUrl": "https://lh3.googleusercontent.com/a-/AOh14GjjqO5d7Rx8QIe-jMmmxUH6UihJmmWv_8InY9HO=s64",
      "userId": "13872082558136559787"
     },
     "user_tz": -330
    },
    "id": "pkIEHZ3uCdPx",
    "outputId": "0e26a88b-780b-4da2-a0a2-05f40fb8c512"
   },
   "outputs": [
    {
     "data": {
      "text/plain": [
       "tripid                         0\n",
       "additional_fare              196\n",
       "duration                     196\n",
       "meter_waiting                196\n",
       "meter_waiting_fare           196\n",
       "meter_waiting_till_pickup    196\n",
       "pickup_time                    0\n",
       "drop_time                      0\n",
       "pick_lat                       0\n",
       "pick_lon                       0\n",
       "drop_lat                       0\n",
       "drop_lon                       0\n",
       "fare                         133\n",
       "label                          0\n",
       "dtype: int64"
      ]
     },
     "execution_count": 45,
     "metadata": {
      "tags": []
     },
     "output_type": "execute_result"
    }
   ],
   "source": [
    "## check for missing values in the dataset\n",
    "\n",
    "# train.isna().head()\n",
    "train.isna().sum()"
   ]
  },
  {
   "cell_type": "code",
   "execution_count": 46,
   "metadata": {
    "colab": {
     "base_uri": "https://localhost:8080/",
     "height": 245
    },
    "colab_type": "code",
    "executionInfo": {
     "elapsed": 2416,
     "status": "ok",
     "timestamp": 1588574494268,
     "user": {
      "displayName": "Thamindu Jayawickrama",
      "photoUrl": "https://lh3.googleusercontent.com/a-/AOh14GjjqO5d7Rx8QIe-jMmmxUH6UihJmmWv_8InY9HO=s64",
      "userId": "13872082558136559787"
     },
     "user_tz": -330
    },
    "id": "CIoWKPGUCefX",
    "outputId": "dcc77458-4d14-4282-c299-8797c6e13f65"
   },
   "outputs": [
    {
     "data": {
      "text/plain": [
       "tripid                       0\n",
       "additional_fare              0\n",
       "duration                     0\n",
       "meter_waiting                0\n",
       "meter_waiting_fare           0\n",
       "meter_waiting_till_pickup    0\n",
       "pickup_time                  0\n",
       "drop_time                    0\n",
       "pick_lat                     0\n",
       "pick_lon                     0\n",
       "drop_lat                     0\n",
       "drop_lon                     0\n",
       "fare                         0\n",
       "dtype: int64"
      ]
     },
     "execution_count": 46,
     "metadata": {
      "tags": []
     },
     "output_type": "execute_result"
    }
   ],
   "source": [
    "test.isna().sum()"
   ]
  },
  {
   "cell_type": "code",
   "execution_count": 0,
   "metadata": {
    "colab": {},
    "colab_type": "code",
    "id": "Bn59t_ZfCfyO"
   },
   "outputs": [],
   "source": [
    "## fill missing values by mean of the column\n",
    "\n",
    "# train.fillna(train.mean(), inplace=True)\n",
    "\n",
    "# imputer = IterativeImputer(max_iter=10, random_state=42)\n",
    "# imputer.fit(train.iloc[:,[1,2,3,4,5,12]])\n",
    "# train.iloc[:,[1,2,3,4,5,12]] = imputer.transform(train.iloc[:,[1,2,3,4,5,12]])\n",
    "\n",
    "imputer = KNNImputer(n_neighbors=5, weights='uniform')\n",
    "train.iloc[:,[1,2,3,4,5,12]] = imputer.fit_transform(train.iloc[:,[1,2,3,4,5,12]])\n"
   ]
  },
  {
   "cell_type": "code",
   "execution_count": 48,
   "metadata": {
    "colab": {
     "base_uri": "https://localhost:8080/",
     "height": 261
    },
    "colab_type": "code",
    "executionInfo": {
     "elapsed": 2106,
     "status": "ok",
     "timestamp": 1588574494271,
     "user": {
      "displayName": "Thamindu Jayawickrama",
      "photoUrl": "https://lh3.googleusercontent.com/a-/AOh14GjjqO5d7Rx8QIe-jMmmxUH6UihJmmWv_8InY9HO=s64",
      "userId": "13872082558136559787"
     },
     "user_tz": -330
    },
    "id": "ePRqzSOcCh25",
    "outputId": "c77fd824-49a0-491e-9b8e-2b7a60477b70"
   },
   "outputs": [
    {
     "data": {
      "text/plain": [
       "tripid                       0\n",
       "additional_fare              0\n",
       "duration                     0\n",
       "meter_waiting                0\n",
       "meter_waiting_fare           0\n",
       "meter_waiting_till_pickup    0\n",
       "pickup_time                  0\n",
       "drop_time                    0\n",
       "pick_lat                     0\n",
       "pick_lon                     0\n",
       "drop_lat                     0\n",
       "drop_lon                     0\n",
       "fare                         0\n",
       "label                        0\n",
       "dtype: int64"
      ]
     },
     "execution_count": 48,
     "metadata": {
      "tags": []
     },
     "output_type": "execute_result"
    }
   ],
   "source": [
    "train.isna().sum()"
   ]
  },
  {
   "cell_type": "code",
   "execution_count": 0,
   "metadata": {
    "colab": {},
    "colab_type": "code",
    "id": "aS_Djw-rm9p4"
   },
   "outputs": [],
   "source": []
  },
  {
   "cell_type": "code",
   "execution_count": 0,
   "metadata": {
    "colab": {},
    "colab_type": "code",
    "id": "zWMEWcoAm9v8"
   },
   "outputs": [],
   "source": [
    "## Dropping date columns\n",
    "train.drop(['pickup_time', 'drop_time'], axis=1, inplace=True)\n",
    "test.drop(['pickup_time', 'drop_time'], axis=1, inplace=True)\n"
   ]
  },
  {
   "cell_type": "markdown",
   "metadata": {
    "colab_type": "text",
    "id": "d9h95k_3CmJ5"
   },
   "source": [
    "## Basic Feature Engineering"
   ]
  },
  {
   "cell_type": "code",
   "execution_count": 0,
   "metadata": {
    "colab": {},
    "colab_type": "code",
    "id": "Yg8QLVeZCppT"
   },
   "outputs": [],
   "source": [
    "## Join train and test datasets in order to obtain the same number of features during categorical conversion\n",
    "train_len = len(train)\n",
    "dataset = pd.concat(objs=[train, test], axis=0).reset_index(drop=True)\n"
   ]
  },
  {
   "cell_type": "markdown",
   "metadata": {
    "colab_type": "text",
    "id": "4FRA7vLECtXy"
   },
   "source": [
    "## Advanced Feature Engineering"
   ]
  },
  {
   "cell_type": "code",
   "execution_count": 0,
   "metadata": {
    "colab": {},
    "colab_type": "code",
    "id": "KPGeZXKPmpT8"
   },
   "outputs": [],
   "source": []
  },
  {
   "cell_type": "markdown",
   "metadata": {
    "colab_type": "text",
    "id": "DD9FY_rbC0-h"
   },
   "source": [
    "## Feature Preprocessing"
   ]
  },
  {
   "cell_type": "code",
   "execution_count": 0,
   "metadata": {
    "colab": {},
    "colab_type": "code",
    "id": "2H58Xzh9C2xe"
   },
   "outputs": [],
   "source": [
    "## Scaling values into 0-1 range\n",
    "\n",
    "scaler = MinMaxScaler(feature_range=(0,1))\n",
    "features = [\n",
    "    'additional_fare',\n",
    "    'duration',\n",
    "    'meter_waiting',\n",
    "    'meter_waiting_fare',\n",
    "    'meter_waiting_till_pickup',\n",
    "    'pick_lat',\n",
    "    'pick_lon',\n",
    "    'drop_lat',\n",
    "    'drop_lon',\n",
    "    'fare'\n",
    "]\n",
    "\n",
    "dataset[features] = scaler.fit_transform(dataset[features])\n"
   ]
  },
  {
   "cell_type": "code",
   "execution_count": 0,
   "metadata": {
    "colab": {},
    "colab_type": "code",
    "id": "kPXNYx2PC4EQ"
   },
   "outputs": [],
   "source": [
    "## Split into training and testing again\n",
    "\n",
    "train = dataset[:train_len]\n",
    "test = dataset[train_len:]\n",
    "test.drop(labels=['label'], axis=1, inplace=True)\n",
    "\n",
    "train['label'] = train['label'].astype(int)\n"
   ]
  },
  {
   "cell_type": "code",
   "execution_count": 0,
   "metadata": {
    "colab": {},
    "colab_type": "code",
    "id": "LD_DUtWyC6nW"
   },
   "outputs": [],
   "source": [
    "## Drop unnecessary columns\n",
    "labels_to_drop = [\n",
    "    'tripid',\n",
    "#     'pick_lat',\n",
    "#     'pick_lon',\n",
    "#     'drop_lat',\n",
    "#     'drop_lon',\n",
    "    # 'pickup_time',\n",
    "    # 'drop_time'\n",
    "]\n",
    "\n",
    "train.drop(labels=labels_to_drop, axis=1, inplace=True)\n"
   ]
  },
  {
   "cell_type": "code",
   "execution_count": 0,
   "metadata": {
    "colab": {},
    "colab_type": "code",
    "id": "-rOl3kndC9q0"
   },
   "outputs": [],
   "source": []
  },
  {
   "cell_type": "markdown",
   "metadata": {
    "colab_type": "text",
    "id": "Axk2O-PAC_rE"
   },
   "source": [
    "## Feature Importance"
   ]
  },
  {
   "cell_type": "code",
   "execution_count": 54,
   "metadata": {
    "colab": {
     "base_uri": "https://localhost:8080/",
     "height": 196
    },
    "colab_type": "code",
    "executionInfo": {
     "elapsed": 2064,
     "status": "ok",
     "timestamp": 1588574505097,
     "user": {
      "displayName": "Thamindu Jayawickrama",
      "photoUrl": "https://lh3.googleusercontent.com/a-/AOh14GjjqO5d7Rx8QIe-jMmmxUH6UihJmmWv_8InY9HO=s64",
      "userId": "13872082558136559787"
     },
     "user_tz": -330
    },
    "id": "shc3mrdQDBfw",
    "outputId": "32ce51df-fa89-4ce7-fb45-517d4fd2f199"
   },
   "outputs": [
    {
     "name": "stdout",
     "output_type": "stream",
     "text": [
      "                       Specs      Score\n",
      "3         meter_waiting_fare  45.763162\n",
      "2              meter_waiting  41.708268\n",
      "9                       fare  16.321160\n",
      "1                   duration  15.022474\n",
      "6                   pick_lon   7.465128\n",
      "0            additional_fare   1.522073\n",
      "4  meter_waiting_till_pickup   0.240755\n",
      "5                   pick_lat   0.161323\n",
      "7                   drop_lat   0.006369\n",
      "8                   drop_lon   0.001578\n"
     ]
    }
   ],
   "source": [
    "y = train['label']\n",
    "X = train.drop(labels=['label'], axis=1)\n",
    "\n",
    "# apply SelectKBest class to extract top 20 best features\n",
    "bestfeatures = SelectKBest(score_func=chi2, k='all')\n",
    "fit = bestfeatures.fit(X, y)\n",
    "dfscores = pd.DataFrame(fit.scores_)\n",
    "dfcolumns = pd.DataFrame(X.columns)\n",
    "\n",
    "# concat two dataframes for better visualization\n",
    "featureScores = pd.concat([dfcolumns, dfscores], axis=1)\n",
    "featureScores.columns = ['Specs', 'Score']  #naming the dataframe columns\n",
    "print(featureScores.nlargest(30, 'Score'))  #print 10 best features\n"
   ]
  },
  {
   "cell_type": "code",
   "execution_count": 0,
   "metadata": {
    "colab": {},
    "colab_type": "code",
    "id": "zZe5gJK5DDDg"
   },
   "outputs": [],
   "source": [
    "# ## Drop less important columns\n",
    "# labels_to_drop = [\n",
    "#     'drop_lon',\n",
    "#     'drop_lat',\n",
    "# ]\n",
    "\n",
    "# train.drop(labels=labels_to_drop, axis=1, inplace=True)\n"
   ]
  },
  {
   "cell_type": "markdown",
   "metadata": {
    "colab_type": "text",
    "id": "4DoEaunxDth5"
   },
   "source": [
    "## Train for the Selected Model"
   ]
  },
  {
   "cell_type": "code",
   "execution_count": 0,
   "metadata": {
    "colab": {},
    "colab_type": "code",
    "id": "rpgavifdLf0Q"
   },
   "outputs": [],
   "source": [
    "## function to calculate F1 score\n",
    "def f1_score(y_true, y_pred):\n",
    "    true_positives = K.sum(K.round(K.clip(y_true*y_pred, 0, 1)))\n",
    "    possible_positives = K.sum(K.round(K.clip(y_true, 0, 1)))\n",
    "    predicted_positives = K.sum(K.round(K.clip(y_pred, 0, 1)))\n",
    "    precision = true_positives / (predicted_positives + K.epsilon())\n",
    "    recall = true_positives / (possible_positives + K.epsilon())\n",
    "    f1_val = 2 * (precision * recall) / (precision + recall + K.epsilon())\n",
    "    return f1_val\n"
   ]
  },
  {
   "cell_type": "code",
   "execution_count": 26,
   "metadata": {
    "colab": {
     "base_uri": "https://localhost:8080/",
     "height": 33
    },
    "colab_type": "code",
    "executionInfo": {
     "elapsed": 1466,
     "status": "ok",
     "timestamp": 1588571430399,
     "user": {
      "displayName": "Thamindu Jayawickrama",
      "photoUrl": "https://lh3.googleusercontent.com/a-/AOh14GjjqO5d7Rx8QIe-jMmmxUH6UihJmmWv_8InY9HO=s64",
      "userId": "13872082558136559787"
     },
     "user_tz": -330
    },
    "id": "y-QH73Hvg1oK",
    "outputId": "d912e798-f20f-4637-ef1f-4ec8dd058368"
   },
   "outputs": [
    {
     "data": {
      "text/plain": [
       "(15327, 11)"
      ]
     },
     "execution_count": 26,
     "metadata": {
      "tags": []
     },
     "output_type": "execute_result"
    }
   ],
   "source": [
    "train.shape"
   ]
  },
  {
   "cell_type": "code",
   "execution_count": 0,
   "metadata": {
    "colab": {},
    "colab_type": "code",
    "id": "j9-0kQaNfjqT"
   },
   "outputs": [],
   "source": [
    "## Seperate train features and label\n",
    "\n",
    "y = train['label']\n",
    "X = train.drop(labels='label', axis=1)\n",
    "\n",
    "# ## Spliting into training and testing\n",
    "# X_train, X_test, y_train, y_test = train_test_split(X, y, test_size=0.2, random_state=42)\n"
   ]
  },
  {
   "cell_type": "code",
   "execution_count": 0,
   "metadata": {
    "colab": {},
    "colab_type": "code",
    "id": "l36_pJa9DK8B"
   },
   "outputs": [],
   "source": [
    "# kfold = StratifiedKFold(n_splits=20, random_state=42, shuffle=False)\n"
   ]
  },
  {
   "cell_type": "code",
   "execution_count": 28,
   "metadata": {
    "colab": {
     "base_uri": "https://localhost:8080/",
     "height": 245
    },
    "colab_type": "code",
    "executionInfo": {
     "elapsed": 9192,
     "status": "ok",
     "timestamp": 1588571439725,
     "user": {
      "displayName": "Thamindu Jayawickrama",
      "photoUrl": "https://lh3.googleusercontent.com/a-/AOh14GjjqO5d7Rx8QIe-jMmmxUH6UihJmmWv_8InY9HO=s64",
      "userId": "13872082558136559787"
     },
     "user_tz": -330
    },
    "id": "DnqdB6_gDzY_",
    "outputId": "357c1710-0bc5-4626-8492-eb9e88054444"
   },
   "outputs": [
    {
     "name": "stdout",
     "output_type": "stream",
     "text": [
      "Model: \"sequential_1\"\n",
      "_________________________________________________________________\n",
      "Layer (type)                 Output Shape              Param #   \n",
      "=================================================================\n",
      "dense_1 (Dense)              (None, 10)                110       \n",
      "_________________________________________________________________\n",
      "dense_2 (Dense)              (None, 5)                 55        \n",
      "_________________________________________________________________\n",
      "dense_3 (Dense)              (None, 1)                 6         \n",
      "=================================================================\n",
      "Total params: 171\n",
      "Trainable params: 171\n",
      "Non-trainable params: 0\n",
      "_________________________________________________________________\n"
     ]
    }
   ],
   "source": [
    "## define the keras model\n",
    "model = Sequential()\n",
    "\n",
    "# model.add(Dense(36, input_dim=23, activation='relu'))\n",
    "# model.add(Dense(18, activation='relu'))\n",
    "# model.add(Dense(1, activation='sigmoid'))\n",
    "# # loss: 0.1550 - get_f1: 0.9739\n",
    "# Accuracy: 97.1872\n",
    "\n",
    "# model.add(Dense(36, input_dim=23, activation='relu'))\n",
    "# model.add(Dense(12, activation='relu'))\n",
    "# model.add(Dense(1, activation='sigmoid'))\n",
    "# # loss: 0.1517 - get_f1: 0.9754\n",
    "# # Accuracy: 97.5980\n",
    "\n",
    "# model.add(Dense(36, input_dim=23, activation='relu'))\n",
    "# model.add(Dense(18, activation='relu'))\n",
    "# model.add(Dense(9, activation='relu'))\n",
    "# model.add(Dense(1, activation='sigmoid'))\n",
    "# # loss: 0.1497 - get_f1: 0.9746\n",
    "# # Accuracy: 97.6440\n",
    "\n",
    "# model.add(Dropout(0.2, input_shape=(23,)))\n",
    "# model.add(Dense(18, activation='relu'))\n",
    "# model.add(Dense(9, activation='relu'))\n",
    "# model.add(Dense(1, activation='sigmoid'))\n",
    "# # loss: 0.2449 - get_f1: 0.9565\n",
    "# # Accuracy: 95.7522\n",
    "\n",
    "# model.add(Dense(36, input_dim=23, activation='relu'))\n",
    "# model.add(Dropout(0.2))\n",
    "# model.add(Dense(18, activation='relu'))\n",
    "# model.add(Dropout(0.2))\n",
    "# model.add(Dense(9, activation='relu'))\n",
    "# model.add(Dropout(0.2))\n",
    "# model.add(Dense(1, activation='sigmoid'))\n",
    "# # loss: 0.1918 - get_f1: 0.9674\n",
    "# # Accuracy: 97.1700\n",
    "\n",
    "# model.add(Dense(23, input_dim=23, activation='relu'))\n",
    "# model.add(Dense(12, activation='relu'))\n",
    "# model.add(Dense(6, activation='relu'))\n",
    "# model.add(Dense(1, activation='sigmoid'))\n",
    "# # loss: 0.1568 - get_f1: 0.9736\n",
    "# # Accuracy: 97.5273\n",
    "\n",
    "\n",
    "model.add(Dense(10, input_dim=10, activation='relu'))\n",
    "model.add(Dense(5, activation='relu'))\n",
    "model.add(Dense(1, activation='sigmoid'))\n",
    "# loss: 0.1680 - f1_score: 0.9686 - val_loss: 0.1758 - val_f1_score: 0.9648\n",
    "# Accuracy: 97.5273\n",
    "\n",
    "\n",
    "## compile the keras model\n",
    "model.compile(loss='binary_crossentropy', optimizer='adam', metrics=[f1_score])\n",
    "model.summary()"
   ]
  },
  {
   "cell_type": "code",
   "execution_count": 0,
   "metadata": {
    "colab": {},
    "colab_type": "code",
    "id": "-MB86st4dMvb"
   },
   "outputs": [],
   "source": [
    "# early stopping and model checkpoint\n",
    "es = EarlyStopping(\n",
    "    monitor='val_loss',\n",
    "    mode='min',\n",
    "    verbose=1,\n",
    "    patience=200\n",
    ")\n",
    "\n",
    "mc = ModelCheckpoint(\n",
    "    filepath='best_model.h5',\n",
    "    monitor='val_accuracy',\n",
    "    mode='max',\n",
    "    verbose=1,\n",
    "    save_best_only=True\n",
    ")"
   ]
  },
  {
   "cell_type": "code",
   "execution_count": 0,
   "metadata": {
    "colab": {},
    "colab_type": "code",
    "id": "X7OQ8jgzD1Wp"
   },
   "outputs": [],
   "source": [
    "## fit the keras model on the dataset\n",
    "history = model.fit(\n",
    "    X,\n",
    "    y,\n",
    "    epochs=1000,\n",
    "    batch_size=20,\n",
    "    # validation_data=(X_test, y_test),\n",
    "    validation_split=0.2,\n",
    "    shuffle=True,\n",
    "    callbacks=[es,mc]\n",
    ")\n"
   ]
  },
  {
   "cell_type": "code",
   "execution_count": 0,
   "metadata": {
    "colab": {},
    "colab_type": "code",
    "id": "d8_UwUWebCpk"
   },
   "outputs": [],
   "source": [
    "## saving the best model\n",
    "\n",
    "!cp 'best_model.h5' \"drive/My Drive/ML/models/\""
   ]
  },
  {
   "cell_type": "code",
   "execution_count": 31,
   "metadata": {
    "colab": {
     "base_uri": "https://localhost:8080/",
     "height": 295
    },
    "colab_type": "code",
    "executionInfo": {
     "elapsed": 2653826,
     "status": "ok",
     "timestamp": 1588574086137,
     "user": {
      "displayName": "Thamindu Jayawickrama",
      "photoUrl": "https://lh3.googleusercontent.com/a-/AOh14GjjqO5d7Rx8QIe-jMmmxUH6UihJmmWv_8InY9HO=s64",
      "userId": "13872082558136559787"
     },
     "user_tz": -330
    },
    "id": "vl1AC3PgXVex",
    "outputId": "460142f5-0e44-4f7f-ee6b-db071d698ffa"
   },
   "outputs": [
    {
     "data": {
      "image/png": "[encoded data removed]",
      "text/plain": [
       "<Figure size 432x288 with 1 Axes>"
      ]
     },
     "metadata": {
      "needs_background": "light",
      "tags": []
     },
     "output_type": "display_data"
    }
   ],
   "source": [
    "plt.plot(history.history['f1_score'])\n",
    "plt.plot(history.history['val_f1_score'])\n",
    "plt.title('model accuracy')\n",
    "plt.ylabel('accuracy')\n",
    "plt.xlabel('epoch')\n",
    "plt.legend(['train', 'val'], loc='upper left')\n",
    "plt.show()"
   ]
  },
  {
   "cell_type": "code",
   "execution_count": 32,
   "metadata": {
    "colab": {
     "base_uri": "https://localhost:8080/",
     "height": 295
    },
    "colab_type": "code",
    "executionInfo": {
     "elapsed": 14,
     "status": "ok",
     "timestamp": 1588574086138,
     "user": {
      "displayName": "Thamindu Jayawickrama",
      "photoUrl": "https://lh3.googleusercontent.com/a-/AOh14GjjqO5d7Rx8QIe-jMmmxUH6UihJmmWv_8InY9HO=s64",
      "userId": "13872082558136559787"
     },
     "user_tz": -330
    },
    "id": "WUa8tVmdYeQx",
    "outputId": "472a7954-f01a-4152-dc15-7b7a6e0b62f0"
   },
   "outputs": [
    {
     "data": {
      "image/png": "[encoded data removed]",
      "text/plain": [
       "<Figure size 432x288 with 1 Axes>"
      ]
     },
     "metadata": {
      "needs_background": "light",
      "tags": []
     },
     "output_type": "display_data"
    }
   ],
   "source": [
    "plt.plot(history.history['loss'])\n",
    "plt.plot(history.history['val_loss'])\n",
    "plt.title('model loss')\n",
    "plt.ylabel('loss')\n",
    "plt.xlabel('epoch')\n",
    "plt.legend(['train', 'val'], loc='upper left')\n",
    "plt.show()"
   ]
  },
  {
   "cell_type": "code",
   "execution_count": 0,
   "metadata": {
    "colab": {},
    "colab_type": "code",
    "id": "dT-kn6u-D57R"
   },
   "outputs": [],
   "source": [
    "## load the saved best model\n",
    "# saved_model = load_model('drive/My Drive/ML/models/best_model.h5')\n",
    "\n",
    "## evaluate the keras model\n",
    "# _, accuracy = model.evaluate(X_test, y_test)\n",
    "# print('Accuracy: %.4f' % (accuracy * 100))\n"
   ]
  },
  {
   "cell_type": "code",
   "execution_count": 34,
   "metadata": {
    "colab": {
     "base_uri": "https://localhost:8080/",
     "height": 310
    },
    "colab_type": "code",
    "executionInfo": {
     "elapsed": 1445,
     "status": "ok",
     "timestamp": 1588574441486,
     "user": {
      "displayName": "Thamindu Jayawickrama",
      "photoUrl": "https://lh3.googleusercontent.com/a-/AOh14GjjqO5d7Rx8QIe-jMmmxUH6UihJmmWv_8InY9HO=s64",
      "userId": "13872082558136559787"
     },
     "user_tz": -330
    },
    "id": "gZ1dS_hCDO6C",
    "outputId": "5696d148-7f5b-4e3f-fe27-e58a85f0dd11"
   },
   "outputs": [
    {
     "name": "stdout",
     "output_type": "stream",
     "text": [
      "<class 'pandas.core.frame.DataFrame'>\n",
      "RangeIndex: 8576 entries, 15327 to 23902\n",
      "Data columns (total 11 columns):\n",
      " #   Column                     Non-Null Count  Dtype  \n",
      "---  ------                     --------------  -----  \n",
      " 0   tripid                     8576 non-null   int64  \n",
      " 1   additional_fare            8576 non-null   float64\n",
      " 2   duration                   8576 non-null   float64\n",
      " 3   meter_waiting              8576 non-null   float64\n",
      " 4   meter_waiting_fare         8576 non-null   float64\n",
      " 5   meter_waiting_till_pickup  8576 non-null   float64\n",
      " 6   pick_lat                   8576 non-null   float64\n",
      " 7   pick_lon                   8576 non-null   float64\n",
      " 8   drop_lat                   8576 non-null   float64\n",
      " 9   drop_lon                   8576 non-null   float64\n",
      " 10  fare                       8576 non-null   float64\n",
      "dtypes: float64(10), int64(1)\n",
      "memory usage: 737.1 KB\n"
     ]
    }
   ],
   "source": [
    "test.info()"
   ]
  },
  {
   "cell_type": "markdown",
   "metadata": {
    "colab_type": "text",
    "id": "fnORgZd5D6u5"
   },
   "source": [
    "## Predicting and Preparing the Submission"
   ]
  },
  {
   "cell_type": "code",
   "execution_count": 0,
   "metadata": {
    "colab": {},
    "colab_type": "code",
    "id": "QfI45MEMD9RI"
   },
   "outputs": [],
   "source": [
    "trip_ids = test.tripid\n",
    "\n",
    "labels_to_drop = [\n",
    "    'tripid'\n",
    "]\n",
    "\n",
    "test = test.drop(labels=labels_to_drop, axis=1)\n"
   ]
  },
  {
   "cell_type": "code",
   "execution_count": 57,
   "metadata": {
    "colab": {
     "base_uri": "https://localhost:8080/",
     "height": 33
    },
    "colab_type": "code",
    "executionInfo": {
     "elapsed": 4508,
     "status": "ok",
     "timestamp": 1588574543932,
     "user": {
      "displayName": "Thamindu Jayawickrama",
      "photoUrl": "https://lh3.googleusercontent.com/a-/AOh14GjjqO5d7Rx8QIe-jMmmxUH6UihJmmWv_8InY9HO=s64",
      "userId": "13872082558136559787"
     },
     "user_tz": -330
    },
    "id": "inHp4ZgFkR5e",
    "outputId": "754a8c42-09a2-44f7-9fac-dd69a9f31b1d"
   },
   "outputs": [
    {
     "name": "stdout",
     "output_type": "stream",
     "text": [
      "Completed!\n"
     ]
    }
   ],
   "source": [
    "## make probability predictions with the model\n",
    "# predictions = model.predict(test)\n",
    "# # round predictions\n",
    "# rounded = [round(x[0]) for x in predictions]\n",
    "\n",
    "\n",
    "## make class predictions with the model\n",
    "predictions = model.predict_classes(test)\n",
    "\n",
    "pred_list = []\n",
    "for pred in predictions:\n",
    "    pred_list.append(pred[0])\n",
    "\n",
    "output = pd.DataFrame({'tripid': trip_ids, 'prediction': pred_list})\n",
    "output.to_csv('160253h_submission_12.csv', index=False)\n",
    "\n",
    "!cp '160253h_submission_12.csv' \"drive/My Drive/ML/submissions/\"\n",
    "\n",
    "print('Completed!')\n"
   ]
  },
  {
   "cell_type": "markdown",
   "metadata": {
    "colab_type": "text",
    "id": "2trDFAYfEAWG"
   },
   "source": [
    "model training.\n",
    "\n",
    "remove outliers only (-Weka).\n",
    "\n",
    "KNNImputer to impute missing values.\n",
    "\n",
    "without feature engineering.\n",
    "\n",
    "datetime columns have dropped.\n",
    "\n",
    "[model: Neural Network]\n",
    "\n",
    "score: 0.97587\n"
   ]
  },
  {
   "cell_type": "code",
   "execution_count": 0,
   "metadata": {
    "colab": {},
    "colab_type": "code",
    "id": "lhspY8AHECwc"
   },
   "outputs": [],
   "source": []
  }
 ],
 "metadata": {
  "accelerator": "GPU",
  "colab": {
   "authorship_tag": "ABX9TyNyfIsYdzjsii68/AtFmV4j",
   "name": "02_fare_classification_without_new_features.ipynb",
   "provenance": []
  },
  "kernelspec": {
   "display_name": "Python 3",
   "language": "python",
   "name": "python3"
  },
  "language_info": {
   "codemirror_mode": {
    "name": "ipython",
    "version": 3
   },
   "file_extension": ".py",
   "mimetype": "text/x-python",
   "name": "python",
   "nbconvert_exporter": "python",
   "pygments_lexer": "ipython3",
   "version": "3.7.1"
  }
 },
 "nbformat": 4,
 "nbformat_minor": 1
}
