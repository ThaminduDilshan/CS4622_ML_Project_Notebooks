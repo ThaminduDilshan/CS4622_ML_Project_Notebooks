{
 "cells": [
  {
   "cell_type": "markdown",
   "metadata": {
    "colab_type": "text",
    "id": "IahCZxU0agjD"
   },
   "source": [
    "<h2>Importing Libraries and Modules</h2>"
   ]
  },
  {
   "cell_type": "code",
   "execution_count": 40,
   "metadata": {
    "colab": {
     "base_uri": "https://localhost:8080/",
     "height": 118
    },
    "colab_type": "code",
    "executionInfo": {
     "elapsed": 62342,
     "status": "ok",
     "timestamp": 1590067709362,
     "user": {
      "displayName": "Thamindu Jayawickrama",
      "photoUrl": "https://lh3.googleusercontent.com/a-/AOh14GjjqO5d7Rx8QIe-jMmmxUH6UihJmmWv_8InY9HO=s64",
      "userId": "13872082558136559787"
     },
     "user_tz": -330
    },
    "id": "aUT1cqNnar1H",
    "outputId": "a43b60d2-77c6-4917-a5a7-7dc316ab756a"
   },
   "outputs": [],
   "source": [
    "# from google.colab import drive\n",
    "# drive.mount('/content/drive')"
   ]
  },
  {
   "cell_type": "code",
   "execution_count": null,
   "metadata": {
    "colab": {},
    "colab_type": "code",
    "id": "fW4n1DXFagjM"
   },
   "outputs": [],
   "source": []
  },
  {
   "cell_type": "code",
   "execution_count": 79,
   "metadata": {
    "colab": {},
    "colab_type": "code",
    "id": "41F4FKROagjQ"
   },
   "outputs": [],
   "source": [
    "import warnings\n",
    "warnings.filterwarnings('ignore')\n",
    "\n",
    "\n",
    "import pandas as pd\n",
    "import numpy as np\n",
    "\n",
    "from geopy.distance import great_circle\n",
    "import datetime\n",
    "import math\n",
    "from collections import Counter\n",
    "\n",
    "from sklearn.preprocessing import MinMaxScaler\n",
    "from sklearn.experimental import enable_iterative_imputer\n",
    "from sklearn.impute import IterativeImputer, KNNImputer\n",
    "from sklearn.impute import MissingIndicator\n",
    "\n",
    "from sklearn.feature_selection import SelectKBest\n",
    "from sklearn.feature_selection import chi2\n",
    "\n",
    "from xgboost import XGBClassifier\n",
    "from sklearn.model_selection import RepeatedStratifiedKFold\n",
    "\n",
    "from sklearn.model_selection import GridSearchCV, cross_val_score, StratifiedKFold, learning_curve, RandomizedSearchCV\n",
    "\n",
    "from sklearn.cluster import DBSCAN\n",
    "# import matplotlib.pyplot as plt\n",
    "from sklearn.model_selection import train_test_split\n",
    "from sklearn.metrics import accuracy_score\n"
   ]
  },
  {
   "cell_type": "markdown",
   "metadata": {
    "colab_type": "text",
    "id": "ImIIzVhcagjU"
   },
   "source": [
    "<h2>Loading the Datasets</h2>"
   ]
  },
  {
   "cell_type": "code",
   "execution_count": 80,
   "metadata": {
    "colab": {},
    "colab_type": "code",
    "id": "1X2QwIwCagjV"
   },
   "outputs": [],
   "source": [
    "## Loading the Datasets\n",
    "\n",
    "train = pd.read_csv('../../data/weka_processed/train_pro.csv')\n",
    "test = pd.read_csv('../../data/test.csv')\n",
    "\n",
    "# train = pd.read_csv('drive/My Drive/ML/data/weka_processed/train_pro.csv')\n",
    "# test = pd.read_csv('drive/My Drive/ML/data/test.csv')\n"
   ]
  },
  {
   "cell_type": "markdown",
   "metadata": {
    "colab_type": "text",
    "id": "eCqNfcSoagjZ"
   },
   "source": [
    "<h2>Basic Intuition on the Data</h2>"
   ]
  },
  {
   "cell_type": "code",
   "execution_count": 81,
   "metadata": {
    "colab": {
     "base_uri": "https://localhost:8080/",
     "height": 191
    },
    "colab_type": "code",
    "executionInfo": {
     "elapsed": 1852,
     "status": "ok",
     "timestamp": 1590077171026,
     "user": {
      "displayName": "Thamindu Jayawickrama",
      "photoUrl": "https://lh3.googleusercontent.com/a-/AOh14GjjqO5d7Rx8QIe-jMmmxUH6UihJmmWv_8InY9HO=s64",
      "userId": "13872082558136559787"
     },
     "user_tz": -330
    },
    "id": "RcqP9eNeagja",
    "outputId": "934ae7cb-e127-45d8-89c6-92ecaecd30e8",
    "scrolled": true
   },
   "outputs": [
    {
     "data": {
      "text/html": [
       "<div>\n",
       "<style scoped>\n",
       "    .dataframe tbody tr th:only-of-type {\n",
       "        vertical-align: middle;\n",
       "    }\n",
       "\n",
       "    .dataframe tbody tr th {\n",
       "        vertical-align: top;\n",
       "    }\n",
       "\n",
       "    .dataframe thead th {\n",
       "        text-align: right;\n",
       "    }\n",
       "</style>\n",
       "<table border=\"1\" class=\"dataframe\">\n",
       "  <thead>\n",
       "    <tr style=\"text-align: right;\">\n",
       "      <th></th>\n",
       "      <th>tripid</th>\n",
       "      <th>additional_fare</th>\n",
       "      <th>duration</th>\n",
       "      <th>meter_waiting</th>\n",
       "      <th>meter_waiting_fare</th>\n",
       "      <th>meter_waiting_till_pickup</th>\n",
       "      <th>pickup_time</th>\n",
       "      <th>drop_time</th>\n",
       "      <th>pick_lat</th>\n",
       "      <th>pick_lon</th>\n",
       "      <th>drop_lat</th>\n",
       "      <th>drop_lon</th>\n",
       "      <th>fare</th>\n",
       "      <th>label</th>\n",
       "    </tr>\n",
       "  </thead>\n",
       "  <tbody>\n",
       "    <tr>\n",
       "      <th>0</th>\n",
       "      <td>189123628</td>\n",
       "      <td>10.5</td>\n",
       "      <td>834</td>\n",
       "      <td>56</td>\n",
       "      <td>0</td>\n",
       "      <td>64</td>\n",
       "      <td>'11/1/2019 0:20'</td>\n",
       "      <td>'11/1/2019 0:34'</td>\n",
       "      <td>6.86252</td>\n",
       "      <td>79.8993</td>\n",
       "      <td>6.90330</td>\n",
       "      <td>79.8783</td>\n",
       "      <td>270.32</td>\n",
       "      <td>correct</td>\n",
       "    </tr>\n",
       "    <tr>\n",
       "      <th>1</th>\n",
       "      <td>189125358</td>\n",
       "      <td>10.5</td>\n",
       "      <td>791</td>\n",
       "      <td>47</td>\n",
       "      <td>0</td>\n",
       "      <td>134</td>\n",
       "      <td>'11/1/2019 0:56'</td>\n",
       "      <td>'11/1/2019 1:09'</td>\n",
       "      <td>6.88589</td>\n",
       "      <td>79.8984</td>\n",
       "      <td>6.91373</td>\n",
       "      <td>79.8923</td>\n",
       "      <td>197.85</td>\n",
       "      <td>correct</td>\n",
       "    </tr>\n",
       "    <tr>\n",
       "      <th>2</th>\n",
       "      <td>189125719</td>\n",
       "      <td>10.5</td>\n",
       "      <td>1087</td>\n",
       "      <td>80</td>\n",
       "      <td>0</td>\n",
       "      <td>61</td>\n",
       "      <td>'11/1/2019 1:08'</td>\n",
       "      <td>'11/1/2019 1:26'</td>\n",
       "      <td>6.90839</td>\n",
       "      <td>79.8651</td>\n",
       "      <td>6.93669</td>\n",
       "      <td>79.9146</td>\n",
       "      <td>301.64</td>\n",
       "      <td>correct</td>\n",
       "    </tr>\n",
       "    <tr>\n",
       "      <th>3</th>\n",
       "      <td>189127273</td>\n",
       "      <td>10.5</td>\n",
       "      <td>598</td>\n",
       "      <td>271</td>\n",
       "      <td>15.6638</td>\n",
       "      <td>68</td>\n",
       "      <td>'11/1/2019 2:27'</td>\n",
       "      <td>'11/1/2019 2:37'</td>\n",
       "      <td>6.92570</td>\n",
       "      <td>79.8895</td>\n",
       "      <td>6.92748</td>\n",
       "      <td>79.8971</td>\n",
       "      <td>82.3</td>\n",
       "      <td>correct</td>\n",
       "    </tr>\n",
       "    <tr>\n",
       "      <th>4</th>\n",
       "      <td>189128020</td>\n",
       "      <td>?</td>\n",
       "      <td>?</td>\n",
       "      <td>?</td>\n",
       "      <td>?</td>\n",
       "      <td>?</td>\n",
       "      <td>'11/1/2019 3:34'</td>\n",
       "      <td>'11/1/2019 3:51'</td>\n",
       "      <td>6.87441</td>\n",
       "      <td>79.8615</td>\n",
       "      <td>6.84478</td>\n",
       "      <td>79.9290</td>\n",
       "      <td>358.39</td>\n",
       "      <td>correct</td>\n",
       "    </tr>\n",
       "  </tbody>\n",
       "</table>\n",
       "</div>"
      ],
      "text/plain": [
       "      tripid additional_fare duration meter_waiting meter_waiting_fare  \\\n",
       "0  189123628            10.5      834            56                  0   \n",
       "1  189125358            10.5      791            47                  0   \n",
       "2  189125719            10.5     1087            80                  0   \n",
       "3  189127273            10.5      598           271            15.6638   \n",
       "4  189128020               ?        ?             ?                  ?   \n",
       "\n",
       "  meter_waiting_till_pickup       pickup_time         drop_time  pick_lat  \\\n",
       "0                        64  '11/1/2019 0:20'  '11/1/2019 0:34'   6.86252   \n",
       "1                       134  '11/1/2019 0:56'  '11/1/2019 1:09'   6.88589   \n",
       "2                        61  '11/1/2019 1:08'  '11/1/2019 1:26'   6.90839   \n",
       "3                        68  '11/1/2019 2:27'  '11/1/2019 2:37'   6.92570   \n",
       "4                         ?  '11/1/2019 3:34'  '11/1/2019 3:51'   6.87441   \n",
       "\n",
       "   pick_lon  drop_lat  drop_lon    fare    label  \n",
       "0   79.8993   6.90330   79.8783  270.32  correct  \n",
       "1   79.8984   6.91373   79.8923  197.85  correct  \n",
       "2   79.8651   6.93669   79.9146  301.64  correct  \n",
       "3   79.8895   6.92748   79.8971    82.3  correct  \n",
       "4   79.8615   6.84478   79.9290  358.39  correct  "
      ]
     },
     "execution_count": 81,
     "metadata": {},
     "output_type": "execute_result"
    }
   ],
   "source": [
    "train.head()"
   ]
  },
  {
   "cell_type": "code",
   "execution_count": 82,
   "metadata": {
    "colab": {
     "base_uri": "https://localhost:8080/",
     "height": 191
    },
    "colab_type": "code",
    "executionInfo": {
     "elapsed": 1655,
     "status": "ok",
     "timestamp": 1590077171028,
     "user": {
      "displayName": "Thamindu Jayawickrama",
      "photoUrl": "https://lh3.googleusercontent.com/a-/AOh14GjjqO5d7Rx8QIe-jMmmxUH6UihJmmWv_8InY9HO=s64",
      "userId": "13872082558136559787"
     },
     "user_tz": -330
    },
    "id": "RETRG5bjagjf",
    "outputId": "966f87ea-628d-4607-bae0-d95050229149"
   },
   "outputs": [
    {
     "data": {
      "text/html": [
       "<div>\n",
       "<style scoped>\n",
       "    .dataframe tbody tr th:only-of-type {\n",
       "        vertical-align: middle;\n",
       "    }\n",
       "\n",
       "    .dataframe tbody tr th {\n",
       "        vertical-align: top;\n",
       "    }\n",
       "\n",
       "    .dataframe thead th {\n",
       "        text-align: right;\n",
       "    }\n",
       "</style>\n",
       "<table border=\"1\" class=\"dataframe\">\n",
       "  <thead>\n",
       "    <tr style=\"text-align: right;\">\n",
       "      <th></th>\n",
       "      <th>tripid</th>\n",
       "      <th>additional_fare</th>\n",
       "      <th>duration</th>\n",
       "      <th>meter_waiting</th>\n",
       "      <th>meter_waiting_fare</th>\n",
       "      <th>meter_waiting_till_pickup</th>\n",
       "      <th>pickup_time</th>\n",
       "      <th>drop_time</th>\n",
       "      <th>pick_lat</th>\n",
       "      <th>pick_lon</th>\n",
       "      <th>drop_lat</th>\n",
       "      <th>drop_lon</th>\n",
       "      <th>fare</th>\n",
       "    </tr>\n",
       "  </thead>\n",
       "  <tbody>\n",
       "    <tr>\n",
       "      <th>0</th>\n",
       "      <td>213284604</td>\n",
       "      <td>10.5</td>\n",
       "      <td>924</td>\n",
       "      <td>42</td>\n",
       "      <td>2.4486</td>\n",
       "      <td>148</td>\n",
       "      <td>2/1/2020 0:38</td>\n",
       "      <td>2/1/2020 0:53</td>\n",
       "      <td>6.83454</td>\n",
       "      <td>79.8750</td>\n",
       "      <td>6.77490</td>\n",
       "      <td>79.8840</td>\n",
       "      <td>289.27</td>\n",
       "    </tr>\n",
       "    <tr>\n",
       "      <th>1</th>\n",
       "      <td>213286352</td>\n",
       "      <td>10.5</td>\n",
       "      <td>4249</td>\n",
       "      <td>20</td>\n",
       "      <td>0.0000</td>\n",
       "      <td>91</td>\n",
       "      <td>2/1/2020 1:02</td>\n",
       "      <td>2/1/2020 2:13</td>\n",
       "      <td>6.91168</td>\n",
       "      <td>79.8723</td>\n",
       "      <td>6.55091</td>\n",
       "      <td>79.9706</td>\n",
       "      <td>1912.70</td>\n",
       "    </tr>\n",
       "    <tr>\n",
       "      <th>2</th>\n",
       "      <td>213293973</td>\n",
       "      <td>10.5</td>\n",
       "      <td>1552</td>\n",
       "      <td>255</td>\n",
       "      <td>2.6588</td>\n",
       "      <td>23</td>\n",
       "      <td>2/1/2020 5:02</td>\n",
       "      <td>2/1/2020 5:28</td>\n",
       "      <td>6.92145</td>\n",
       "      <td>79.8478</td>\n",
       "      <td>6.90539</td>\n",
       "      <td>79.8989</td>\n",
       "      <td>394.00</td>\n",
       "    </tr>\n",
       "    <tr>\n",
       "      <th>3</th>\n",
       "      <td>213294622</td>\n",
       "      <td>10.5</td>\n",
       "      <td>462</td>\n",
       "      <td>16</td>\n",
       "      <td>0.0000</td>\n",
       "      <td>198</td>\n",
       "      <td>2/1/2020 5:30</td>\n",
       "      <td>2/1/2020 5:38</td>\n",
       "      <td>6.77433</td>\n",
       "      <td>79.9416</td>\n",
       "      <td>6.80401</td>\n",
       "      <td>79.9407</td>\n",
       "      <td>154.32</td>\n",
       "    </tr>\n",
       "    <tr>\n",
       "      <th>4</th>\n",
       "      <td>213298687</td>\n",
       "      <td>10.5</td>\n",
       "      <td>814</td>\n",
       "      <td>392</td>\n",
       "      <td>12.3692</td>\n",
       "      <td>69</td>\n",
       "      <td>2/1/2020 7:00</td>\n",
       "      <td>2/1/2020 7:14</td>\n",
       "      <td>6.97968</td>\n",
       "      <td>79.9130</td>\n",
       "      <td>6.98875</td>\n",
       "      <td>79.8914</td>\n",
       "      <td>147.47</td>\n",
       "    </tr>\n",
       "  </tbody>\n",
       "</table>\n",
       "</div>"
      ],
      "text/plain": [
       "      tripid  additional_fare  duration  meter_waiting  meter_waiting_fare  \\\n",
       "0  213284604             10.5       924             42              2.4486   \n",
       "1  213286352             10.5      4249             20              0.0000   \n",
       "2  213293973             10.5      1552            255              2.6588   \n",
       "3  213294622             10.5       462             16              0.0000   \n",
       "4  213298687             10.5       814            392             12.3692   \n",
       "\n",
       "   meter_waiting_till_pickup    pickup_time      drop_time  pick_lat  \\\n",
       "0                        148  2/1/2020 0:38  2/1/2020 0:53   6.83454   \n",
       "1                         91  2/1/2020 1:02  2/1/2020 2:13   6.91168   \n",
       "2                         23  2/1/2020 5:02  2/1/2020 5:28   6.92145   \n",
       "3                        198  2/1/2020 5:30  2/1/2020 5:38   6.77433   \n",
       "4                         69  2/1/2020 7:00  2/1/2020 7:14   6.97968   \n",
       "\n",
       "   pick_lon  drop_lat  drop_lon     fare  \n",
       "0   79.8750   6.77490   79.8840   289.27  \n",
       "1   79.8723   6.55091   79.9706  1912.70  \n",
       "2   79.8478   6.90539   79.8989   394.00  \n",
       "3   79.9416   6.80401   79.9407   154.32  \n",
       "4   79.9130   6.98875   79.8914   147.47  "
      ]
     },
     "execution_count": 82,
     "metadata": {},
     "output_type": "execute_result"
    }
   ],
   "source": [
    "test.head()"
   ]
  },
  {
   "cell_type": "code",
   "execution_count": 83,
   "metadata": {
    "colab": {
     "base_uri": "https://localhost:8080/",
     "height": 358
    },
    "colab_type": "code",
    "executionInfo": {
     "elapsed": 2286,
     "status": "ok",
     "timestamp": 1590077171835,
     "user": {
      "displayName": "Thamindu Jayawickrama",
      "photoUrl": "https://lh3.googleusercontent.com/a-/AOh14GjjqO5d7Rx8QIe-jMmmxUH6UihJmmWv_8InY9HO=s64",
      "userId": "13872082558136559787"
     },
     "user_tz": -330
    },
    "id": "pV1pCbgjagjj",
    "outputId": "98de4fb9-7afc-4d4d-c266-d9b51c6f0fc2"
   },
   "outputs": [
    {
     "name": "stdout",
     "output_type": "stream",
     "text": [
      "<class 'pandas.core.frame.DataFrame'>\n",
      "RangeIndex: 15327 entries, 0 to 15326\n",
      "Data columns (total 14 columns):\n",
      "tripid                       15327 non-null int64\n",
      "additional_fare              15327 non-null object\n",
      "duration                     15327 non-null object\n",
      "meter_waiting                15327 non-null object\n",
      "meter_waiting_fare           15327 non-null object\n",
      "meter_waiting_till_pickup    15327 non-null object\n",
      "pickup_time                  15327 non-null object\n",
      "drop_time                    15327 non-null object\n",
      "pick_lat                     15327 non-null float64\n",
      "pick_lon                     15327 non-null float64\n",
      "drop_lat                     15327 non-null float64\n",
      "drop_lon                     15327 non-null float64\n",
      "fare                         15327 non-null object\n",
      "label                        15327 non-null object\n",
      "dtypes: float64(4), int64(1), object(9)\n",
      "memory usage: 1.6+ MB\n"
     ]
    }
   ],
   "source": [
    "train.info()"
   ]
  },
  {
   "cell_type": "code",
   "execution_count": 84,
   "metadata": {
    "colab": {
     "base_uri": "https://localhost:8080/",
     "height": 33
    },
    "colab_type": "code",
    "executionInfo": {
     "elapsed": 2103,
     "status": "ok",
     "timestamp": 1590077171836,
     "user": {
      "displayName": "Thamindu Jayawickrama",
      "photoUrl": "https://lh3.googleusercontent.com/a-/AOh14GjjqO5d7Rx8QIe-jMmmxUH6UihJmmWv_8InY9HO=s64",
      "userId": "13872082558136559787"
     },
     "user_tz": -330
    },
    "id": "f6lHhf0Oagjo",
    "outputId": "2c139665-fbd8-4db3-ae4a-76b9d5ee45a0"
   },
   "outputs": [
    {
     "data": {
      "text/plain": [
       "(15327, 14)"
      ]
     },
     "execution_count": 84,
     "metadata": {},
     "output_type": "execute_result"
    }
   ],
   "source": [
    "train.shape"
   ]
  },
  {
   "cell_type": "code",
   "execution_count": 85,
   "metadata": {
    "colab": {
     "base_uri": "https://localhost:8080/",
     "height": 342
    },
    "colab_type": "code",
    "executionInfo": {
     "elapsed": 1948,
     "status": "ok",
     "timestamp": 1590077171837,
     "user": {
      "displayName": "Thamindu Jayawickrama",
      "photoUrl": "https://lh3.googleusercontent.com/a-/AOh14GjjqO5d7Rx8QIe-jMmmxUH6UihJmmWv_8InY9HO=s64",
      "userId": "13872082558136559787"
     },
     "user_tz": -330
    },
    "id": "FBg3Yhnlagjr",
    "outputId": "8d82dca1-92fb-4585-cdb6-f6f74b2b410f"
   },
   "outputs": [
    {
     "name": "stdout",
     "output_type": "stream",
     "text": [
      "<class 'pandas.core.frame.DataFrame'>\n",
      "RangeIndex: 8576 entries, 0 to 8575\n",
      "Data columns (total 13 columns):\n",
      "tripid                       8576 non-null int64\n",
      "additional_fare              8576 non-null float64\n",
      "duration                     8576 non-null int64\n",
      "meter_waiting                8576 non-null int64\n",
      "meter_waiting_fare           8576 non-null float64\n",
      "meter_waiting_till_pickup    8576 non-null int64\n",
      "pickup_time                  8576 non-null object\n",
      "drop_time                    8576 non-null object\n",
      "pick_lat                     8576 non-null float64\n",
      "pick_lon                     8576 non-null float64\n",
      "drop_lat                     8576 non-null float64\n",
      "drop_lon                     8576 non-null float64\n",
      "fare                         8576 non-null float64\n",
      "dtypes: float64(7), int64(4), object(2)\n",
      "memory usage: 871.1+ KB\n"
     ]
    }
   ],
   "source": [
    "test.info()"
   ]
  },
  {
   "cell_type": "code",
   "execution_count": 86,
   "metadata": {
    "colab": {
     "base_uri": "https://localhost:8080/",
     "height": 33
    },
    "colab_type": "code",
    "executionInfo": {
     "elapsed": 1756,
     "status": "ok",
     "timestamp": 1590077171838,
     "user": {
      "displayName": "Thamindu Jayawickrama",
      "photoUrl": "https://lh3.googleusercontent.com/a-/AOh14GjjqO5d7Rx8QIe-jMmmxUH6UihJmmWv_8InY9HO=s64",
      "userId": "13872082558136559787"
     },
     "user_tz": -330
    },
    "id": "FrmNY5_bagjv",
    "outputId": "6b9b15d9-cfab-41e1-b999-4d31e1637a9b"
   },
   "outputs": [
    {
     "data": {
      "text/plain": [
       "(8576, 13)"
      ]
     },
     "execution_count": 86,
     "metadata": {},
     "output_type": "execute_result"
    }
   ],
   "source": [
    "test.shape"
   ]
  },
  {
   "cell_type": "code",
   "execution_count": null,
   "metadata": {
    "colab": {},
    "colab_type": "code",
    "id": "nDDLtJm9agjz"
   },
   "outputs": [],
   "source": []
  },
  {
   "cell_type": "markdown",
   "metadata": {
    "colab_type": "text",
    "id": "edYqSjpAagj4"
   },
   "source": [
    "<h2>Cleaning the Data</h2>"
   ]
  },
  {
   "cell_type": "code",
   "execution_count": 87,
   "metadata": {
    "colab": {},
    "colab_type": "code",
    "id": "roEyMrCHagj5"
   },
   "outputs": [],
   "source": [
    "## cleaning weka added unnecessary values\n",
    "\n",
    "train = train.replace({'?': np.nan})\n"
   ]
  },
  {
   "cell_type": "code",
   "execution_count": null,
   "metadata": {
    "colab": {},
    "colab_type": "code",
    "id": "9iu839lXagj9"
   },
   "outputs": [],
   "source": []
  },
  {
   "cell_type": "code",
   "execution_count": 88,
   "metadata": {
    "colab": {},
    "colab_type": "code",
    "id": "GHH-02bkagkB"
   },
   "outputs": [],
   "source": [
    "## converting label values into 0,1 instead of correct, incorrect\n",
    "\n",
    "train.label = train.label.map(dict(correct=1, incorrect=0))"
   ]
  },
  {
   "cell_type": "code",
   "execution_count": null,
   "metadata": {
    "colab": {},
    "colab_type": "code",
    "id": "rV-oy4XzagkF"
   },
   "outputs": [],
   "source": []
  },
  {
   "cell_type": "code",
   "execution_count": 89,
   "metadata": {
    "colab": {
     "base_uri": "https://localhost:8080/",
     "height": 261
    },
    "colab_type": "code",
    "executionInfo": {
     "elapsed": 1474,
     "status": "ok",
     "timestamp": 1590077174219,
     "user": {
      "displayName": "Thamindu Jayawickrama",
      "photoUrl": "https://lh3.googleusercontent.com/a-/AOh14GjjqO5d7Rx8QIe-jMmmxUH6UihJmmWv_8InY9HO=s64",
      "userId": "13872082558136559787"
     },
     "user_tz": -330
    },
    "id": "4Wp7-dBqagkI",
    "outputId": "c391bd01-cd32-45c9-f893-dde2a259588e"
   },
   "outputs": [
    {
     "data": {
      "text/plain": [
       "tripid                         0\n",
       "additional_fare              196\n",
       "duration                     196\n",
       "meter_waiting                196\n",
       "meter_waiting_fare           196\n",
       "meter_waiting_till_pickup    196\n",
       "pickup_time                    0\n",
       "drop_time                      0\n",
       "pick_lat                       0\n",
       "pick_lon                       0\n",
       "drop_lat                       0\n",
       "drop_lon                       0\n",
       "fare                         133\n",
       "label                          0\n",
       "dtype: int64"
      ]
     },
     "execution_count": 89,
     "metadata": {},
     "output_type": "execute_result"
    }
   ],
   "source": [
    "## check for missing values in the dataset\n",
    "\n",
    "# train.isna().head()\n",
    "train.isna().sum()"
   ]
  },
  {
   "cell_type": "code",
   "execution_count": 90,
   "metadata": {
    "colab": {
     "base_uri": "https://localhost:8080/",
     "height": 245
    },
    "colab_type": "code",
    "executionInfo": {
     "elapsed": 1267,
     "status": "ok",
     "timestamp": 1590077174220,
     "user": {
      "displayName": "Thamindu Jayawickrama",
      "photoUrl": "https://lh3.googleusercontent.com/a-/AOh14GjjqO5d7Rx8QIe-jMmmxUH6UihJmmWv_8InY9HO=s64",
      "userId": "13872082558136559787"
     },
     "user_tz": -330
    },
    "id": "z8aiXPQNagkM",
    "outputId": "9ba8f4b4-dfdf-4169-d44d-d5a1bb85c2ef"
   },
   "outputs": [
    {
     "data": {
      "text/plain": [
       "tripid                       0\n",
       "additional_fare              0\n",
       "duration                     0\n",
       "meter_waiting                0\n",
       "meter_waiting_fare           0\n",
       "meter_waiting_till_pickup    0\n",
       "pickup_time                  0\n",
       "drop_time                    0\n",
       "pick_lat                     0\n",
       "pick_lon                     0\n",
       "drop_lat                     0\n",
       "drop_lon                     0\n",
       "fare                         0\n",
       "dtype: int64"
      ]
     },
     "execution_count": 90,
     "metadata": {},
     "output_type": "execute_result"
    }
   ],
   "source": [
    "test.isna().sum()"
   ]
  },
  {
   "cell_type": "code",
   "execution_count": 91,
   "metadata": {
    "colab": {},
    "colab_type": "code",
    "id": "nmgu9Z3JagkQ"
   },
   "outputs": [],
   "source": [
    "## fill missing values\n",
    "\n",
    "# imputer = KNNImputer(n_neighbors=5, weights='uniform')\n",
    "# train.iloc[:,[1,2,3,4,5,12]] = imputer.fit_transform(train.iloc[:,[1,2,3,4,5,12]])\n",
    "\n",
    "## drop missing values\n",
    "train = train.dropna(how='any', axis=0)\n"
   ]
  },
  {
   "cell_type": "code",
   "execution_count": 92,
   "metadata": {
    "colab": {
     "base_uri": "https://localhost:8080/",
     "height": 261
    },
    "colab_type": "code",
    "executionInfo": {
     "elapsed": 1294,
     "status": "ok",
     "timestamp": 1590077175140,
     "user": {
      "displayName": "Thamindu Jayawickrama",
      "photoUrl": "https://lh3.googleusercontent.com/a-/AOh14GjjqO5d7Rx8QIe-jMmmxUH6UihJmmWv_8InY9HO=s64",
      "userId": "13872082558136559787"
     },
     "user_tz": -330
    },
    "id": "F94sbI41agkT",
    "outputId": "2ed3b4f6-d11b-452a-ddda-e0abf31b13cb"
   },
   "outputs": [
    {
     "data": {
      "text/plain": [
       "tripid                       0\n",
       "additional_fare              0\n",
       "duration                     0\n",
       "meter_waiting                0\n",
       "meter_waiting_fare           0\n",
       "meter_waiting_till_pickup    0\n",
       "pickup_time                  0\n",
       "drop_time                    0\n",
       "pick_lat                     0\n",
       "pick_lon                     0\n",
       "drop_lat                     0\n",
       "drop_lon                     0\n",
       "fare                         0\n",
       "label                        0\n",
       "dtype: int64"
      ]
     },
     "execution_count": 92,
     "metadata": {},
     "output_type": "execute_result"
    }
   ],
   "source": [
    "train.isna().sum()"
   ]
  },
  {
   "cell_type": "code",
   "execution_count": null,
   "metadata": {
    "colab": {},
    "colab_type": "code",
    "id": "G7a5MiieagkW"
   },
   "outputs": [],
   "source": []
  },
  {
   "cell_type": "markdown",
   "metadata": {
    "colab_type": "text",
    "id": "rXeIRZftagkZ"
   },
   "source": [
    "<h2>Basic Feature Engineering</h2>"
   ]
  },
  {
   "cell_type": "code",
   "execution_count": 93,
   "metadata": {
    "colab": {},
    "colab_type": "code",
    "id": "aL0VYdW5agka"
   },
   "outputs": [],
   "source": [
    "## Join train and test datasets in order to obtain the same number of features during categorical conversion\n",
    "train_len = len(train)\n",
    "dataset = pd.concat(objs=[train, test], axis=0).reset_index(drop=True)\n"
   ]
  },
  {
   "cell_type": "markdown",
   "metadata": {
    "colab": {},
    "colab_type": "code",
    "id": "We_ytZV_agkd"
   },
   "source": [
    "<h4>Clustering Based Feature Column</h4>"
   ]
  },
  {
   "cell_type": "code",
   "execution_count": 94,
   "metadata": {},
   "outputs": [],
   "source": [
    "dbscan = DBSCAN(eps=0.3, min_samples=5)\n",
    "\n",
    "cluster_pred = dbscan.fit_predict(dataset.drop(labels=['tripid', 'label', 'pickup_time', 'drop_time'], axis=1))\n",
    "\n",
    "# cluster_pred = np.where(cluster_pred == -1, 10, cluster_pred)\n"
   ]
  },
  {
   "cell_type": "code",
   "execution_count": 95,
   "metadata": {},
   "outputs": [
    {
     "data": {
      "text/plain": [
       "{-1: 23703}"
      ]
     },
     "execution_count": 95,
     "metadata": {},
     "output_type": "execute_result"
    }
   ],
   "source": [
    "unique1, count1 = np.unique(cluster_pred, return_counts=True)\n",
    "{k:v for (k,v) in zip(unique1, count1)}\n"
   ]
  },
  {
   "cell_type": "code",
   "execution_count": 96,
   "metadata": {},
   "outputs": [],
   "source": [
    "dataset['cluster'] = cluster_pred\n"
   ]
  },
  {
   "cell_type": "markdown",
   "metadata": {},
   "source": [
    "<h4>Location Cluster Feature Column</h4>"
   ]
  },
  {
   "cell_type": "code",
   "execution_count": 97,
   "metadata": {},
   "outputs": [],
   "source": [
    "pick_coord_dt = dataset.loc[:, ['pick_lat', 'pick_lon']]\n",
    "drop_coord_dt = dataset.loc[:, ['drop_lat', 'drop_lon']]\n"
   ]
  },
  {
   "cell_type": "code",
   "execution_count": 98,
   "metadata": {},
   "outputs": [],
   "source": [
    "dbscan = DBSCAN(eps=0.01, min_samples=5)\n",
    "pick_labels = dbscan.fit_predict(pick_coord_dt)\n",
    "\n",
    "dbscan = DBSCAN(eps=0.01, min_samples=5)\n",
    "drop_labels = dbscan.fit_predict(drop_coord_dt)\n"
   ]
  },
  {
   "cell_type": "code",
   "execution_count": 99,
   "metadata": {},
   "outputs": [],
   "source": [
    "# pick_labels = np.where(pick_labels == -1, 50, pick_labels)\n",
    "# drop_labels = np.where(drop_labels == -1, 50, drop_labels)\n"
   ]
  },
  {
   "cell_type": "code",
   "execution_count": 100,
   "metadata": {},
   "outputs": [
    {
     "data": {
      "text/plain": [
       "{-1: 209,\n",
       " 0: 20042,\n",
       " 1: 2730,\n",
       " 2: 86,\n",
       " 3: 37,\n",
       " 4: 76,\n",
       " 5: 5,\n",
       " 6: 22,\n",
       " 7: 12,\n",
       " 8: 8,\n",
       " 9: 20,\n",
       " 10: 12,\n",
       " 11: 27,\n",
       " 12: 7,\n",
       " 13: 6,\n",
       " 14: 28,\n",
       " 15: 8,\n",
       " 16: 13,\n",
       " 17: 9,\n",
       " 18: 5,\n",
       " 19: 5,\n",
       " 20: 6,\n",
       " 21: 7,\n",
       " 22: 5,\n",
       " 23: 159,\n",
       " 24: 149,\n",
       " 25: 5,\n",
       " 26: 5}"
      ]
     },
     "execution_count": 100,
     "metadata": {},
     "output_type": "execute_result"
    }
   ],
   "source": [
    "unique1, count1 = np.unique(pick_labels, return_counts=True)\n",
    "{k:v for (k,v) in zip(unique1, count1)}\n"
   ]
  },
  {
   "cell_type": "code",
   "execution_count": 101,
   "metadata": {},
   "outputs": [
    {
     "data": {
      "text/plain": [
       "{-1: 349,\n",
       " 0: 19987,\n",
       " 1: 2705,\n",
       " 2: 74,\n",
       " 3: 25,\n",
       " 4: 10,\n",
       " 5: 62,\n",
       " 6: 25,\n",
       " 7: 8,\n",
       " 8: 21,\n",
       " 9: 17,\n",
       " 10: 6,\n",
       " 11: 10,\n",
       " 12: 6,\n",
       " 13: 17,\n",
       " 14: 17,\n",
       " 15: 13,\n",
       " 16: 13,\n",
       " 17: 5,\n",
       " 18: 9,\n",
       " 19: 5,\n",
       " 20: 5,\n",
       " 21: 5,\n",
       " 22: 5,\n",
       " 23: 6,\n",
       " 24: 5,\n",
       " 25: 6,\n",
       " 26: 3,\n",
       " 27: 132,\n",
       " 28: 146,\n",
       " 29: 5,\n",
       " 30: 1}"
      ]
     },
     "execution_count": 101,
     "metadata": {},
     "output_type": "execute_result"
    }
   ],
   "source": [
    "unique1, count1 = np.unique(drop_labels, return_counts=True)\n",
    "{k:v for (k,v) in zip(unique1, count1)}\n"
   ]
  },
  {
   "cell_type": "code",
   "execution_count": 102,
   "metadata": {},
   "outputs": [],
   "source": [
    "dataset['pick_cluster'] = pick_labels\n",
    "dataset['drop_cluster'] = drop_labels\n"
   ]
  },
  {
   "cell_type": "code",
   "execution_count": null,
   "metadata": {},
   "outputs": [],
   "source": []
  },
  {
   "cell_type": "markdown",
   "metadata": {
    "colab_type": "text",
    "id": "UyoRFor8agkg"
   },
   "source": [
    "<h2>Advanced Feature Engineering</h2>"
   ]
  },
  {
   "cell_type": "code",
   "execution_count": 115,
   "metadata": {
    "colab": {},
    "colab_type": "code",
    "id": "QQcDcorwagkh"
   },
   "outputs": [],
   "source": [
    "## new feature columns\n",
    "trip_fare = []\n",
    "trip_duration = []\n",
    "trip_distance = []\n",
    "\n",
    "distance_to_duration = []\n",
    "fare_to_duration = []\n",
    "fare_to_distance = []\n",
    "waiting_fare_to_waiting_duration = []\n",
    "\n",
    "duration_from_time = []\n",
    "duration_error = []\n",
    "\n",
    "## j48 rules\n",
    "duration_bucket = []    ## 50\n",
    "fare_bucket = []        ## 50\n",
    "\n",
    "## dataset inspection rules\n",
    "fare_waiting_gap = []\n",
    "additional_fare_greater_than_250 = []\n",
    "is_duration_zero = []\n",
    "\n",
    "# time based new features\n",
    "fare_month = []\n",
    "fare_hour = []\n",
    "is_midnight = []\n",
    "is_weekend = []\n"
   ]
  },
  {
   "cell_type": "code",
   "execution_count": 116,
   "metadata": {
    "colab": {},
    "colab_type": "code",
    "id": "jv7TRvNZagkp"
   },
   "outputs": [],
   "source": [
    "## iterate through each row in the dataset\n",
    "for row in dataset.itertuples():\n",
    "    fare = float(row.fare)\n",
    "    additional_fare = float(row.additional_fare)\n",
    "    meter_waiting_fare = float(row.meter_waiting_fare)\n",
    "    \n",
    "    meter_waiting = float(row.meter_waiting)\n",
    "    meter_waiting_till_pickup = float(row.meter_waiting_till_pickup)\n",
    "    duration = float(row.duration)\n",
    "    \n",
    "    pick_lat = row.pick_lat\n",
    "    pick_lon = row.pick_lon\n",
    "    drop_lat = row.drop_lat\n",
    "    drop_lon = row.drop_lon\n",
    "    \n",
    "    pickup_time = row.pickup_time.replace('\\'', '')\n",
    "    drop_time = row.drop_time.replace('\\'', '')\n",
    "    pickup_time = pickup_time.split('/')\n",
    "    drop_time = drop_time.split('/')\n",
    "    \n",
    "    # fare bucket\n",
    "    fare_bucket.append(int(math.ceil(fare / 50)))\n",
    "    \n",
    "    # total fare for the trip\n",
    "    cur_trip_fare = fare - (additional_fare + meter_waiting_fare)\n",
    "    trip_fare.append(cur_trip_fare)\n",
    "    \n",
    "    # trip duration\n",
    "    cur_trip_duration = duration - meter_waiting - meter_waiting_till_pickup\n",
    "    trip_duration.append(cur_trip_duration)\n",
    "    duration_bucket.append(int(math.ceil(cur_trip_duration / 50)))\n",
    "    \n",
    "    if(duration != 0):\n",
    "        is_duration_zero.append(0)\n",
    "    else:\n",
    "        is_duration_zero.append(1)\n",
    "    \n",
    "    # trip distance\n",
    "    cur_trip_distance = float(great_circle((drop_lat, drop_lon),(pick_lat, pick_lon)).kilometers)\n",
    "    trip_distance.append(cur_trip_distance)\n",
    "    \n",
    "    # trip distance to duration\n",
    "    try:\n",
    "        cur_dist_to_dur = cur_trip_distance / cur_trip_duration\n",
    "    except ZeroDivisionError:\n",
    "        cur_dist_to_dur  = 0\n",
    "    distance_to_duration.append(cur_dist_to_dur)\n",
    "    \n",
    "    # trip fare to trip duration\n",
    "    try:\n",
    "        cur_fare_to_duration = cur_trip_fare / cur_trip_duration\n",
    "    except ZeroDivisionError:\n",
    "        cur_fare_to_duration  = 0\n",
    "    fare_to_duration.append(cur_fare_to_duration)\n",
    "    \n",
    "    # trip fare to trip distance\n",
    "    try:\n",
    "        cur_fare_to_distance = cur_trip_fare / cur_trip_distance\n",
    "    except ZeroDivisionError:\n",
    "        cur_fare_to_distance  = 0\n",
    "    fare_to_distance.append(cur_fare_to_distance)\n",
    "    \n",
    "    # trip waiting fare to waiting duration\n",
    "    try:\n",
    "        cur_waiting_fare_to_waiting_dur = meter_waiting_fare / meter_waiting\n",
    "    except ZeroDivisionError:\n",
    "        cur_waiting_fare_to_waiting_dur  = 0\n",
    "    waiting_fare_to_waiting_duration.append(cur_waiting_fare_to_waiting_dur)\n",
    "    \n",
    "    # trip fare to waiting fare\n",
    "    try:\n",
    "        cur_fare_waiting_gap = (fare - meter_waiting_fare) / fare\n",
    "    except ZeroDivisionError:\n",
    "        cur_fare_waiting_gap  = 0\n",
    "    fare_waiting_gap.append(cur_fare_waiting_gap)\n",
    "    \n",
    "    # additional fare greater than 250\n",
    "    if(additional_fare > 250):\n",
    "        additional_fare_greater_than_250.append(1)\n",
    "    else:\n",
    "        additional_fare_greater_than_250.append(0)\n",
    "    \n",
    "    # time duration\n",
    "    # pickup time\n",
    "    month, day, y_hm = int(pickup_time[0]), int(pickup_time[1]), pickup_time[2].split(' ')\n",
    "    year, h_m = int(y_hm[0]), y_hm[1].split(':')\n",
    "    hour, minute = int(h_m[0]), int(h_m[1])\n",
    "    pickup_time = datetime.datetime(year, month, day, hour, minute)\n",
    "\n",
    "    fare_month.append(month)\n",
    "    fare_hour.append(hour)\n",
    "\n",
    "    if 0 <= hour <= 5:\n",
    "        is_midnight.append(1)\n",
    "    else:\n",
    "        is_midnight.append(0)\n",
    "    \n",
    "    weekday = pickup_time.weekday()\n",
    "    if 0 <= weekday <= 4:\n",
    "        is_weekend.append(1)\n",
    "    else:\n",
    "        is_weekend.append(0)\n",
    "    \n",
    "    # drop time\n",
    "    month, day, y_hm = int(drop_time[0]), int(drop_time[1]), drop_time[2].split(' ')\n",
    "    year, h_m = int(y_hm[0]), y_hm[1].split(':')\n",
    "    hour, minute = int(h_m[0]), int(h_m[1])\n",
    "    drop_time = datetime.datetime(year, month, day, hour, minute)\n",
    "    \n",
    "    # duration\n",
    "    cur_duration_from_time = (drop_time - pickup_time).seconds\n",
    "    duration_from_time.append(cur_duration_from_time)\n",
    "    duration_error.append(cur_duration_from_time - duration)\n"
   ]
  },
  {
   "cell_type": "code",
   "execution_count": 117,
   "metadata": {
    "colab": {},
    "colab_type": "code",
    "id": "Y8ZNq1khagkx"
   },
   "outputs": [],
   "source": [
    "## append new columns to dataset\n",
    "dataset['trip_fare'] = trip_fare\n",
    "dataset['trip_duration'] = trip_duration\n",
    "dataset['trip_distance'] = trip_distance\n",
    "dataset['distance_to_duration'] = distance_to_duration\n",
    "dataset['fare_to_duration'] = fare_to_duration\n",
    "dataset['fare_to_distance'] = fare_to_distance\n",
    "dataset['waiting_fare_to_waiting_duration'] = waiting_fare_to_waiting_duration\n",
    "dataset['duration_from_time'] = duration_from_time\n",
    "dataset['duration_error'] = duration_error\n",
    "dataset['duration_bucket'] = duration_bucket\n",
    "dataset['fare_bucket'] = fare_bucket\n",
    "\n",
    "dataset['fare_waiting_gap'] = fare_waiting_gap\n",
    "dataset['additional_fare_greater_than_250'] = additional_fare_greater_than_250\n",
    "dataset['is_duration_zero'] = is_duration_zero\n",
    "\n",
    "dataset['fare_month'] = fare_month\n",
    "dataset['fare_hour'] = fare_hour\n",
    "dataset['is_midnight'] = is_midnight\n",
    "dataset['is_weekend'] = is_weekend\n"
   ]
  },
  {
   "cell_type": "code",
   "execution_count": null,
   "metadata": {
    "colab": {},
    "colab_type": "code",
    "id": "N1HHRLvOagk0"
   },
   "outputs": [],
   "source": []
  },
  {
   "cell_type": "code",
   "execution_count": null,
   "metadata": {},
   "outputs": [],
   "source": [
    "# ## column average values\n",
    "# avg_fare = dataset['fare'].mean()\n",
    "# avg_trip_fare = dataset['trip_fare'].mean()\n",
    "# avg_waiting_fare = dataset['meter_waiting_fare'].mean()\n",
    "# avg_fare_to_distance = dataset['fare_to_distance'].mean()\n",
    "# avg_waiting_fare_to_duration = dataset['waiting_fare_to_waiting_duration'].mean()\n"
   ]
  },
  {
   "cell_type": "code",
   "execution_count": 119,
   "metadata": {},
   "outputs": [],
   "source": [
    "## new columns\n",
    "is_invalid_total_fare = []\n",
    "# div_from_avg_total_fare = []\n",
    "# div_from_avg_waiting_fare = []\n",
    "# div_from_avg_waiting_fare_to_waiting_duration = []\n"
   ]
  },
  {
   "cell_type": "code",
   "execution_count": 120,
   "metadata": {},
   "outputs": [],
   "source": [
    "## iterate through each row in the dataset\n",
    "for row in dataset.itertuples():\n",
    "    fare = float(row.fare)\n",
    "    trip_fare = float(row.trip_fare)\n",
    "    meter_waiting_fare = float(row.meter_waiting_fare)\n",
    "    additional_fare = float(row.additional_fare)\n",
    "    \n",
    "    fare_to_distance = float(row.fare_to_distance)\n",
    "    waiting_fare_to_waiting_duration = float(row.waiting_fare_to_waiting_duration)\n",
    "    \n",
    "    # total fare less than or equal to zero\n",
    "    if(fare-meter_waiting_fare-additional_fare <= 0):\n",
    "        is_invalid_total_fare.append(1)\n",
    "    else:\n",
    "        is_invalid_total_fare.append(0)\n",
    "        \n",
    "#     # diviation from average\n",
    "#     div_from_avg_total_fare.append(fare - avg_fare)\n",
    "#     div_from_avg_waiting_fare.append(meter_waiting_fare - avg_waiting_fare)\n",
    "#     div_from_avg_waiting_fare_to_waiting_duration.append(waiting_fare_to_waiting_duration - avg_waiting_fare_to_duration)\n"
   ]
  },
  {
   "cell_type": "code",
   "execution_count": 121,
   "metadata": {},
   "outputs": [],
   "source": [
    "## append new columns to dataset\n",
    "\n",
    "dataset['is_invalid_total_fare'] = is_invalid_total_fare\n",
    "# dataset['div_from_avg_total_fare'] = div_from_avg_total_fare\n",
    "# dataset['div_from_avg_waiting_fare'] = div_from_avg_waiting_fare\n",
    "# dataset['div_from_avg_waiting_fare_to_waiting_duration'] = div_from_avg_waiting_fare_to_waiting_duration\n"
   ]
  },
  {
   "cell_type": "code",
   "execution_count": null,
   "metadata": {},
   "outputs": [],
   "source": []
  },
  {
   "cell_type": "markdown",
   "metadata": {
    "colab_type": "text",
    "id": "gFfgcRq1aglK"
   },
   "source": [
    "<h2>Feature Preprocessing</h2>"
   ]
  },
  {
   "cell_type": "code",
   "execution_count": 122,
   "metadata": {
    "colab": {},
    "colab_type": "code",
    "id": "ZhP_E7_uaglL"
   },
   "outputs": [],
   "source": [
    "## Scaling values into 0-10 range\n",
    "\n",
    "scaler = MinMaxScaler(feature_range=(0,1))\n",
    "features = [\n",
    "    'additional_fare',\n",
    "    'duration',\n",
    "    'meter_waiting',\n",
    "    'meter_waiting_fare',\n",
    "    'meter_waiting_till_pickup',\n",
    "    'pick_lat',\n",
    "    'pick_lon',\n",
    "    'drop_lat',\n",
    "    'drop_lon',\n",
    "    'fare',\n",
    "    'trip_fare',\n",
    "    'trip_duration',\n",
    "    'trip_distance',\n",
    "    'distance_to_duration',\n",
    "    'fare_to_duration',\n",
    "    'fare_to_distance',\n",
    "    'waiting_fare_to_waiting_duration', \n",
    "    'duration_from_time',\n",
    "    'duration_error',\n",
    "    'duration_bucket',\n",
    "    'fare_bucket',\n",
    "\n",
    "    'pick_cluster',\n",
    "    'drop_cluster',\n",
    "    # 'fare_hour',\n",
    "    # 'fare_month'\n",
    "]\n",
    "\n",
    "dataset[features] = scaler.fit_transform(dataset[features])\n"
   ]
  },
  {
   "cell_type": "code",
   "execution_count": 123,
   "metadata": {
    "colab": {},
    "colab_type": "code",
    "id": "K0ahm8kNaglO"
   },
   "outputs": [],
   "source": [
    "## Split into training and testing again\n",
    "\n",
    "train = dataset[:train_len]\n",
    "test = dataset[train_len:]\n",
    "test.drop(labels=['label'], axis=1, inplace=True)\n",
    "\n",
    "train['label'] = train['label'].astype(int)\n"
   ]
  },
  {
   "cell_type": "code",
   "execution_count": 124,
   "metadata": {
    "colab": {},
    "colab_type": "code",
    "id": "F62QSsWoaglQ"
   },
   "outputs": [],
   "source": [
    "## Drop unnecessary columns\n",
    "labels_to_drop = [\n",
    "    'tripid',\n",
    "    'pickup_time',\n",
    "    'drop_time'\n",
    "]\n",
    "\n",
    "train.drop(labels=labels_to_drop, axis=1, inplace=True)\n"
   ]
  },
  {
   "cell_type": "code",
   "execution_count": null,
   "metadata": {
    "colab": {},
    "colab_type": "code",
    "id": "4owV29b8aglU",
    "scrolled": false
   },
   "outputs": [],
   "source": []
  },
  {
   "cell_type": "markdown",
   "metadata": {
    "colab_type": "text",
    "id": "3LElFYL6aglY"
   },
   "source": [
    "<h2>Feature Importance</h2>"
   ]
  },
  {
   "cell_type": "code",
   "execution_count": 75,
   "metadata": {
    "colab": {},
    "colab_type": "code",
    "id": "S261d9qFaglY"
   },
   "outputs": [],
   "source": [
    "# y = train['label']\n",
    "# X = train.drop(labels=['label'], axis=1)\n",
    "\n",
    "# # apply SelectKBest class to extract top 20 best features\n",
    "# bestfeatures = SelectKBest(score_func=chi2, k='all')\n",
    "# fit = bestfeatures.fit(X, y)\n",
    "# dfscores = pd.DataFrame(fit.scores_)\n",
    "# dfcolumns = pd.DataFrame(X.columns)\n",
    "\n",
    "# # concat two dataframes for better visualization\n",
    "# featureScores = pd.concat([dfcolumns, dfscores], axis=1)\n",
    "# featureScores.columns = ['Specs', 'Score']  #naming the dataframe columns\n",
    "# print(featureScores.nlargest(40, 'Score'))  #print 40 best features\n"
   ]
  },
  {
   "cell_type": "code",
   "execution_count": 125,
   "metadata": {
    "colab": {},
    "colab_type": "code",
    "id": "S5GtJuwQaglb"
   },
   "outputs": [],
   "source": [
    "## Drop less important columns\n",
    "labels_to_drop = [\n",
    "    'pick_lat',\n",
    "    'pick_lon',\n",
    "    'drop_lat',\n",
    "    'drop_lon',\n",
    "\n",
    "    # 'trip_duration',\n",
    "    # 'duration_bucket',\n",
    "    # 'fare_to_duration',\n",
    "    # 'distance_to_duration',\n",
    "#     'fare_hour',\n",
    "#     'is_weekend'\n",
    "]\n",
    "\n",
    "train.drop(labels=labels_to_drop, axis=1, inplace=True)\n"
   ]
  },
  {
   "cell_type": "markdown",
   "metadata": {
    "colab_type": "text",
    "id": "O77G1K4Waglg"
   },
   "source": [
    "<h2>Training and Evaluating Basic XGBoost Setup</h2>"
   ]
  },
  {
   "cell_type": "code",
   "execution_count": 126,
   "metadata": {
    "colab": {},
    "colab_type": "code",
    "id": "fc9x00_oaglg"
   },
   "outputs": [],
   "source": [
    "## Seperate train features and label\n",
    "\n",
    "y_train = train['label']\n",
    "X_train = train.drop(labels='label', axis=1)"
   ]
  },
  {
   "cell_type": "code",
   "execution_count": null,
   "metadata": {
    "colab": {},
    "colab_type": "code",
    "id": "QBNg9UTjaglk"
   },
   "outputs": [],
   "source": []
  },
  {
   "cell_type": "code",
   "execution_count": 127,
   "metadata": {
    "colab": {
     "base_uri": "https://localhost:8080/",
     "height": 33
    },
    "colab_type": "code",
    "executionInfo": {
     "elapsed": 70175,
     "status": "ok",
     "timestamp": 1590077269195,
     "user": {
      "displayName": "Thamindu Jayawickrama",
      "photoUrl": "https://lh3.googleusercontent.com/a-/AOh14GjjqO5d7Rx8QIe-jMmmxUH6UihJmmWv_8InY9HO=s64",
      "userId": "13872082558136559787"
     },
     "user_tz": -330
    },
    "id": "8_K5jTLLagln",
    "outputId": "0d1b710c-83df-47fc-ee69-18e9e46799df",
    "scrolled": false
   },
   "outputs": [
    {
     "name": "stdout",
     "output_type": "stream",
     "text": [
      "Mean F1 Score: 0.9775\n"
     ]
    }
   ],
   "source": [
    "## model definition\n",
    "model = XGBClassifier(random_state=42)\n",
    "\n",
    "## evaluation\n",
    "cv = RepeatedStratifiedKFold(n_splits=10, n_repeats=3, random_state=42)\n",
    "scores = cross_val_score(model, X_train, y_train, scoring='f1', cv=cv, n_jobs=-1)\n",
    "\n",
    "print('Mean F1 Score: %.4f' % np.mean(scores))\n"
   ]
  },
  {
   "cell_type": "code",
   "execution_count": 0,
   "metadata": {
    "colab": {},
    "colab_type": "code",
    "id": "MAXMhx1Baglq"
   },
   "outputs": [],
   "source": []
  },
  {
   "cell_type": "markdown",
   "metadata": {
    "colab_type": "text",
    "id": "nNiVPKQhaglu"
   },
   "source": [
    "<h2>Handle Class Imbalancy - Weighted XGBoost</h2>"
   ]
  },
  {
   "cell_type": "code",
   "execution_count": 46,
   "metadata": {
    "colab": {
     "base_uri": "https://localhost:8080/",
     "height": 66
    },
    "colab_type": "code",
    "executionInfo": {
     "elapsed": 1722,
     "status": "ok",
     "timestamp": 1590077289021,
     "user": {
      "displayName": "Thamindu Jayawickrama",
      "photoUrl": "https://lh3.googleusercontent.com/a-/AOh14GjjqO5d7Rx8QIe-jMmmxUH6UihJmmWv_8InY9HO=s64",
      "userId": "13872082558136559787"
     },
     "user_tz": -330
    },
    "id": "-kWTsZQLaglv",
    "outputId": "ff31d256-b97c-484a-a895-482fa0251e57",
    "scrolled": true
   },
   "outputs": [
    {
     "name": "stdout",
     "output_type": "stream",
     "text": [
      "Counter({1: 13925, 0: 1402})\n",
      "Estimate: 9.932\n",
      "Approximate Estimate: 10\n"
     ]
    }
   ],
   "source": [
    "counter = Counter(y_train)\n",
    "estimate = counter[1] / counter[0]\n",
    "\n",
    "print(counter)\n",
    "print('Estimate: %.3f' % estimate)\n",
    "\n",
    "estimate = round(estimate)\n",
    "print('Approximate Estimate: %i' % estimate)\n"
   ]
  },
  {
   "cell_type": "code",
   "execution_count": 47,
   "metadata": {
    "colab": {
     "base_uri": "https://localhost:8080/",
     "height": 33
    },
    "colab_type": "code",
    "executionInfo": {
     "elapsed": 59989,
     "status": "ok",
     "timestamp": 1590077348972,
     "user": {
      "displayName": "Thamindu Jayawickrama",
      "photoUrl": "https://lh3.googleusercontent.com/a-/AOh14GjjqO5d7Rx8QIe-jMmmxUH6UihJmmWv_8InY9HO=s64",
      "userId": "13872082558136559787"
     },
     "user_tz": -330
    },
    "id": "gWqmrcdHaglz",
    "outputId": "99fcfbfc-0cce-4054-fead-f4f2aa6d660e"
   },
   "outputs": [
    {
     "name": "stdout",
     "output_type": "stream",
     "text": [
      "Mean F1 Score: 0.9758\n"
     ]
    }
   ],
   "source": [
    "## model definition\n",
    "model = XGBClassifier(random_state=42, scale_pos_weight=estimate)\n",
    "\n",
    "## evaluation\n",
    "cv = RepeatedStratifiedKFold(n_splits=10, n_repeats=3, random_state=42)\n",
    "scores = cross_val_score(model, X_train, y_train, scoring='f1', cv=cv, n_jobs=-1)\n",
    "\n",
    "print('Mean F1 Score: %.4f' % np.mean(scores))\n"
   ]
  },
  {
   "cell_type": "markdown",
   "metadata": {
    "colab_type": "text",
    "id": "JrPwztAuagl2"
   },
   "source": [
    "<h2>Tune for the Class Weight - Weighted XGBoost GridSearchCV</h2>"
   ]
  },
  {
   "cell_type": "code",
   "execution_count": 48,
   "metadata": {
    "colab": {},
    "colab_type": "code",
    "id": "S-hWLaJVagl3"
   },
   "outputs": [],
   "source": [
    "weights = [1, 3, 5, 7, 9, 10, 11, 12, 14, 15, 20]\n",
    "param_grid = dict(scale_pos_weight=weights)\n"
   ]
  },
  {
   "cell_type": "code",
   "execution_count": 49,
   "metadata": {
    "colab": {},
    "colab_type": "code",
    "id": "IBdKaWd8agl5"
   },
   "outputs": [],
   "source": [
    "model = XGBClassifier(random_state=42)\n",
    "cv = RepeatedStratifiedKFold(n_splits=10, n_repeats=3, random_state=42)\n",
    "\n",
    "grid = GridSearchCV(estimator=model, param_grid=param_grid, n_jobs=-1, cv=cv, scoring='f1')\n",
    "grid_result = grid.fit(X_train, y_train)\n"
   ]
  },
  {
   "cell_type": "code",
   "execution_count": 50,
   "metadata": {
    "colab": {},
    "colab_type": "code",
    "id": "5czw-sT3agl8"
   },
   "outputs": [
    {
     "name": "stdout",
     "output_type": "stream",
     "text": [
      "Best: 0.976840 using {'scale_pos_weight': 1}\n",
      "0.976840 (0.002302) with: {'scale_pos_weight': 1}\n",
      "0.976386 (0.002380) with: {'scale_pos_weight': 3}\n",
      "0.976088 (0.002156) with: {'scale_pos_weight': 5}\n",
      "0.976187 (0.002015) with: {'scale_pos_weight': 7}\n",
      "0.975945 (0.002247) with: {'scale_pos_weight': 9}\n",
      "0.975833 (0.002231) with: {'scale_pos_weight': 10}\n",
      "0.975896 (0.002383) with: {'scale_pos_weight': 11}\n",
      "0.975591 (0.002292) with: {'scale_pos_weight': 12}\n",
      "0.975494 (0.002329) with: {'scale_pos_weight': 14}\n",
      "0.975592 (0.002288) with: {'scale_pos_weight': 15}\n",
      "0.975525 (0.002143) with: {'scale_pos_weight': 20}\n"
     ]
    }
   ],
   "source": [
    "## report\n",
    "print(\"Best: %f using %s\" % (grid_result.best_score_, grid_result.best_params_))\n",
    "\n",
    "# all configurations\n",
    "means = grid_result.cv_results_['mean_test_score']\n",
    "stds = grid_result.cv_results_['std_test_score']\n",
    "params = grid_result.cv_results_['params']\n",
    "\n",
    "for mean, stdev, param in zip(means, stds, params):\n",
    "    print(\"%f (%f) with: %r\" % (mean, stdev, param))\n"
   ]
  },
  {
   "cell_type": "code",
   "execution_count": 0,
   "metadata": {
    "colab": {},
    "colab_type": "code",
    "id": "6J-OhLWRagl-"
   },
   "outputs": [],
   "source": []
  },
  {
   "cell_type": "markdown",
   "metadata": {
    "colab_type": "text",
    "id": "BnvcpNt6agmD"
   },
   "source": [
    "<h2>Cross Validation to Tune Hiper Parameters</h2>"
   ]
  },
  {
   "cell_type": "code",
   "execution_count": 36,
   "metadata": {
    "colab": {},
    "colab_type": "code",
    "id": "3Jd-YSQWagmE"
   },
   "outputs": [],
   "source": [
    "n_estimators = [int(x) for x in np.linspace(start=100, stop=2600, num=10)]\n",
    "max_depth = [3, 4, 5, 6, 8, 10, 12, 15, None]\n",
    "learning_rate = [0.05, 0.10, 0.15, 0.20, 0.25, 0.30]\n",
    "min_child_weight = [1, 3, 5, 7]\n",
    "gamma = [0.0, 0.1, 0.2 , 0.3, 0.4]\n",
    "colsample_bytree = [0.3, 0.4, 0.5, 0.7]\n",
    "\n",
    "# reg_alpha = [0.01, 0.1, 1, 10]\n",
    "# reg_lambda = [0.01, 0.1, 1, 10]\n",
    "# booster = ['gbtree', 'gblinear', 'dart']\n",
    "# tree_method = ['auto']\n",
    "# num_parallel_tree = [1, 2, 5, 10]\n"
   ]
  },
  {
   "cell_type": "code",
   "execution_count": 54,
   "metadata": {
    "colab": {},
    "colab_type": "code",
    "id": "2gPhxgq7agmq"
   },
   "outputs": [],
   "source": [
    "## GridSearch on best range\n",
    "param_grid = {\n",
    "    'n_estimators': n_estimators,\n",
    "#     'max_depth': max_depth,\n",
    "#     'learning_rate': learning_rate,\n",
    "#     'min_child_weight': min_child_weight,\n",
    "#     'gamma': gamma,\n",
    "#     'colsample_bytree': colsample_bytree\n",
    "    \n",
    "#     'reg_alpha': reg_alpha,\n",
    "#     'reg_lambda': reg_lambda,\n",
    "#     'booster': booster,\n",
    "#     'tree_method': tree_method,\n",
    "#     'num_parallel_tree': num_parallel_tree\n",
    "}\n"
   ]
  },
  {
   "cell_type": "code",
   "execution_count": null,
   "metadata": {
    "colab": {},
    "colab_type": "code",
    "id": "zs8x2VGeagms"
   },
   "outputs": [],
   "source": [
    "model = XGBClassifier(\n",
    "    n_estimators = 2044,\n",
    "    max_depth = 10,\n",
    "    learning_rate = 0.15,\n",
    "    min_child_weight = 1,\n",
    "    gamma = 0.0,\n",
    "    random_state=42, \n",
    "    scale_pos_weight=1, \n",
    "    n_jobs=-1\n",
    ")\n",
    "\n",
    "cv = RepeatedStratifiedKFold(n_splits=4, n_repeats=2, random_state=42)\n",
    "\n",
    "grid = GridSearchCV(estimator=model, param_grid=param_grid, n_jobs=-1, cv=cv, scoring='f1', verbose=3)\n",
    "grid.fit(X_train, y_train)\n"
   ]
  },
  {
   "cell_type": "code",
   "execution_count": 56,
   "metadata": {
    "colab": {},
    "colab_type": "code",
    "id": "QgeNQjnhagmu"
   },
   "outputs": [
    {
     "data": {
      "text/plain": [
       "{'colsample_bytree': 0.3}"
      ]
     },
     "execution_count": 56,
     "metadata": {},
     "output_type": "execute_result"
    }
   ],
   "source": [
    "grid.best_params_"
   ]
  },
  {
   "cell_type": "code",
   "execution_count": 0,
   "metadata": {
    "colab": {},
    "colab_type": "code",
    "id": "9xjYSGjPagmx"
   },
   "outputs": [],
   "source": []
  },
  {
   "cell_type": "code",
   "execution_count": 67,
   "metadata": {},
   "outputs": [],
   "source": [
    "random_states = [int(x) for x in np.linspace(start=10, stop=100, num=20)]\n"
   ]
  },
  {
   "cell_type": "code",
   "execution_count": null,
   "metadata": {
    "scrolled": false
   },
   "outputs": [],
   "source": [
    "for random_state in random_states:\n",
    "\n",
    "    model = XGBClassifier(\n",
    "        n_estimators = 2044,\n",
    "        max_depth = 10,\n",
    "        learning_rate = 0.15,\n",
    "        min_child_weight = 1,\n",
    "        gamma = 0.0,\n",
    "        colsample_bytree = 0.3,\n",
    "        random_state=random_state,\n",
    "        scale_pos_weight=1,\n",
    "        n_jobs=-1\n",
    "    )\n",
    "\n",
    "    cv = RepeatedStratifiedKFold(n_splits=10, n_repeats=3, random_state=random_state)\n",
    "\n",
    "    rfc_scores = []\n",
    "    score = cross_val_score(model, X_train, y_train, cv=cv, scoring='f1', verbose=0, n_jobs=-1)\n",
    "    rfc_scores.append(score.mean())\n",
    "\n",
    "    print('Random State :', random_state, 'Accuracy :', round(score.mean()*100, 4), '%')\n"
   ]
  },
  {
   "cell_type": "code",
   "execution_count": null,
   "metadata": {},
   "outputs": [],
   "source": [
    "'''\n",
    "64: % Accuracy : 97.7125\n",
    "Random State : 33 Accuracy : 97.7198 %\n",
    "\n",
    "'''"
   ]
  },
  {
   "cell_type": "code",
   "execution_count": null,
   "metadata": {},
   "outputs": [],
   "source": []
  },
  {
   "cell_type": "markdown",
   "metadata": {
    "colab_type": "text",
    "id": "q0TD1Gpzagm0"
   },
   "source": [
    "<h2>Train for the Selected Setup</h2>"
   ]
  },
  {
   "cell_type": "code",
   "execution_count": 128,
   "metadata": {
    "colab": {
     "base_uri": "https://localhost:8080/",
     "height": 33
    },
    "colab_type": "code",
    "executionInfo": {
     "elapsed": 1415506,
     "status": "ok",
     "timestamp": 1590078923504,
     "user": {
      "displayName": "Thamindu Jayawickrama",
      "photoUrl": "https://lh3.googleusercontent.com/a-/AOh14GjjqO5d7Rx8QIe-jMmmxUH6UihJmmWv_8InY9HO=s64",
      "userId": "13872082558136559787"
     },
     "user_tz": -330
    },
    "id": "7Gi_wAt5agm0",
    "outputId": "bd1bc3a4-be70-4163-9216-294af2a02818"
   },
   "outputs": [
    {
     "name": "stderr",
     "output_type": "stream",
     "text": [
      "[Parallel(n_jobs=-1)]: Using backend LokyBackend with 8 concurrent workers.\n",
      "[Parallel(n_jobs=-1)]: Done  26 out of  30 | elapsed:  4.6min remaining:   42.8s\n"
     ]
    },
    {
     "name": "stdout",
     "output_type": "stream",
     "text": [
      "% Accuracy : 97.7746\n"
     ]
    },
    {
     "name": "stderr",
     "output_type": "stream",
     "text": [
      "[Parallel(n_jobs=-1)]: Done  30 out of  30 | elapsed:  4.9min finished\n"
     ]
    }
   ],
   "source": [
    "model = XGBClassifier(\n",
    "    scale_pos_weight = 1,\n",
    "    n_jobs = -1,\n",
    "    random_state = 33,\n",
    "    \n",
    "    n_estimators = 800,\n",
    "    max_depth = 15,\n",
    "    learning_rate = 0.1,\n",
    "    gamma = 0,\n",
    "    reg_alpha = 0.1,\n",
    "    reg_lambda = 0.1,\n",
    "    booster = 'gbtree',\n",
    "    tree_method = 'auto',\n",
    "    num_parallel_tree = 1\n",
    ")\n",
    "\n",
    "cv = RepeatedStratifiedKFold(n_splits=10, n_repeats=3, random_state=33)\n",
    "\n",
    "rfc_scores = []\n",
    "score = cross_val_score(model, X_train, y_train, cv=cv, scoring='f1', verbose=3, n_jobs=-1)\n",
    "rfc_scores.append(score.mean())\n",
    "\n",
    "print('% Accuracy :', round(score.mean()*100, 4))\n"
   ]
  },
  {
   "cell_type": "code",
   "execution_count": null,
   "metadata": {
    "colab": {
     "base_uri": "https://localhost:8080/",
     "height": 147
    },
    "colab_type": "code",
    "executionInfo": {
     "elapsed": 56576,
     "status": "ok",
     "timestamp": 1590078980067,
     "user": {
      "displayName": "Thamindu Jayawickrama",
      "photoUrl": "https://lh3.googleusercontent.com/a-/AOh14GjjqO5d7Rx8QIe-jMmmxUH6UihJmmWv_8InY9HO=s64",
      "userId": "13872082558136559787"
     },
     "user_tz": -330
    },
    "id": "OxUqJAnAagm5",
    "outputId": "39932db9-733c-4681-ec19-5d1f19bd398e"
   },
   "outputs": [],
   "source": [
    "model.fit(X_train, y_train)\n"
   ]
  },
  {
   "cell_type": "code",
   "execution_count": 0,
   "metadata": {
    "colab": {},
    "colab_type": "code",
    "id": "-6u2Q6bXagm7"
   },
   "outputs": [],
   "source": []
  },
  {
   "cell_type": "markdown",
   "metadata": {
    "colab_type": "text",
    "id": "tWULRm_wagm_"
   },
   "source": [
    "<h2>Predicting and Preparing the Submission</h2>"
   ]
  },
  {
   "cell_type": "code",
   "execution_count": 130,
   "metadata": {
    "colab": {},
    "colab_type": "code",
    "id": "LdhMbYf6agnA"
   },
   "outputs": [],
   "source": [
    "trip_ids = test.tripid\n",
    "\n",
    "labels_to_drop = [\n",
    "    'tripid',\n",
    "    'pick_lat',\n",
    "    'pick_lon',\n",
    "    'drop_lat',\n",
    "    'drop_lon',\n",
    "    'pickup_time',\n",
    "    'drop_time',\n",
    "\n",
    "#     'fare_hour',\n",
    "#     'is_weekend'\n",
    "    \n",
    "#     'trip_distance',\n",
    "#     'fare_to_duration',\n",
    "#     'trip_duration',\n",
    "#     'distance_to_duration',\n",
    "#     'duration_error',\n",
    "#     'meter_waiting_till_pickup',\n",
    "#     'additional_fare'\n",
    "]\n",
    "\n",
    "test = test.drop(labels=labels_to_drop, axis=1)\n"
   ]
  },
  {
   "cell_type": "code",
   "execution_count": 131,
   "metadata": {
    "colab": {
     "base_uri": "https://localhost:8080/",
     "height": 33
    },
    "colab_type": "code",
    "executionInfo": {
     "elapsed": 12008,
     "status": "ok",
     "timestamp": 1590079486614,
     "user": {
      "displayName": "Thamindu Jayawickrama",
      "photoUrl": "https://lh3.googleusercontent.com/a-/AOh14GjjqO5d7Rx8QIe-jMmmxUH6UihJmmWv_8InY9HO=s64",
      "userId": "13872082558136559787"
     },
     "user_tz": -330
    },
    "id": "xruHi6tLb8KS",
    "outputId": "75c417e4-2cd9-4766-bdea-76010655238d"
   },
   "outputs": [
    {
     "name": "stdout",
     "output_type": "stream",
     "text": [
      "Completed!\n"
     ]
    }
   ],
   "source": [
    "predictions = model.predict(test)\n",
    "\n",
    "output = pd.DataFrame({'tripid': trip_ids, 'prediction': predictions})\n",
    "output.to_csv('../../submissions/160253h_submission_28.csv', index=False)\n",
    "print('Completed!')\n",
    "\n",
    "# output = pd.DataFrame({'tripid': trip_ids, 'prediction': predictions})\n",
    "# output.to_csv('160253h_submission_27.csv', index=False)\n",
    "\n",
    "# !cp '160253h_submission_27.csv' \"drive/My Drive/ML/submissions/\"\n",
    "\n",
    "# print('Completed!')\n"
   ]
  },
  {
   "cell_type": "code",
   "execution_count": 0,
   "metadata": {
    "colab": {},
    "colab_type": "code",
    "id": "MPBCAWHDagnC"
   },
   "outputs": [],
   "source": []
  },
  {
   "cell_type": "markdown",
   "metadata": {
    "colab_type": "text",
    "id": "WLiWogtxagnE"
   },
   "source": [
    "model training.\n",
    "\n",
    "with feature engineering (added new features).\n",
    "\n",
    "datetime columns and coordinates have dropped (new features added).\n",
    "\n",
    "clustering features.\n",
    "\n",
    "submissions:\n",
    "\n",
    "===============================================================================\n",
    "\n",
    "(dropping missing values)\n",
    "\n",
    "[model: XGBoost Classifier]\n",
    "\n",
    "\n",
    "160253h_submission_28.csv\n",
    "\n",
    "score: 0.97906\n"
   ]
  },
  {
   "cell_type": "code",
   "execution_count": 0,
   "metadata": {
    "colab": {},
    "colab_type": "code",
    "id": "8w2qmiRtagnE"
   },
   "outputs": [],
   "source": []
  }
 ],
 "metadata": {
  "colab": {
   "collapsed_sections": [],
   "name": "15_fare_classification_with_---_added_new_features_xgboost_letting_missing_values.ipynb",
   "provenance": []
  },
  "kernelspec": {
   "display_name": "Python 3",
   "language": "python",
   "name": "python3"
  },
  "language_info": {
   "codemirror_mode": {
    "name": "ipython",
    "version": 3
   },
   "file_extension": ".py",
   "mimetype": "text/x-python",
   "name": "python",
   "nbconvert_exporter": "python",
   "pygments_lexer": "ipython3",
   "version": "3.6.9"
  }
 },
 "nbformat": 4,
 "nbformat_minor": 1
}
