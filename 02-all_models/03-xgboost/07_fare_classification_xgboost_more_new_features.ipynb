{
 "cells": [
  {
   "cell_type": "markdown",
   "metadata": {
    "colab_type": "text",
    "id": "IahCZxU0agjD"
   },
   "source": [
    "<h2>Importing Libraries and Modules</h2>"
   ]
  },
  {
   "cell_type": "code",
   "execution_count": 40,
   "metadata": {
    "colab": {
     "base_uri": "https://localhost:8080/",
     "height": 118
    },
    "colab_type": "code",
    "executionInfo": {
     "elapsed": 62342,
     "status": "ok",
     "timestamp": 1590067709362,
     "user": {
      "displayName": "Thamindu Jayawickrama",
      "photoUrl": "https://lh3.googleusercontent.com/a-/AOh14GjjqO5d7Rx8QIe-jMmmxUH6UihJmmWv_8InY9HO=s64",
      "userId": "13872082558136559787"
     },
     "user_tz": -330
    },
    "id": "aUT1cqNnar1H",
    "outputId": "a43b60d2-77c6-4917-a5a7-7dc316ab756a"
   },
   "outputs": [],
   "source": [
    "# from google.colab import drive\n",
    "# drive.mount('/content/drive')"
   ]
  },
  {
   "cell_type": "code",
   "execution_count": null,
   "metadata": {
    "colab": {},
    "colab_type": "code",
    "id": "fW4n1DXFagjM"
   },
   "outputs": [],
   "source": []
  },
  {
   "cell_type": "code",
   "execution_count": 1,
   "metadata": {
    "colab": {},
    "colab_type": "code",
    "id": "41F4FKROagjQ"
   },
   "outputs": [],
   "source": [
    "import warnings\n",
    "warnings.filterwarnings('ignore')\n",
    "\n",
    "\n",
    "import pandas as pd\n",
    "import numpy as np\n",
    "\n",
    "from geopy.distance import great_circle\n",
    "import datetime\n",
    "import math\n",
    "from collections import Counter\n",
    "\n",
    "from sklearn.preprocessing import MinMaxScaler\n",
    "from sklearn.experimental import enable_iterative_imputer\n",
    "from sklearn.impute import IterativeImputer, KNNImputer\n",
    "from sklearn.impute import MissingIndicator\n",
    "\n",
    "from sklearn.feature_selection import SelectKBest\n",
    "from sklearn.feature_selection import chi2\n",
    "\n",
    "from xgboost import XGBClassifier\n",
    "import xgboost as xgb\n",
    "from sklearn.model_selection import RepeatedStratifiedKFold\n",
    "\n",
    "from sklearn.model_selection import GridSearchCV, cross_val_score, StratifiedKFold, learning_curve, RandomizedSearchCV\n",
    "\n",
    "from sklearn.cluster import DBSCAN\n",
    "# import matplotlib.pyplot as plt\n",
    "from sklearn.model_selection import train_test_split\n",
    "from sklearn.metrics import accuracy_score\n"
   ]
  },
  {
   "cell_type": "markdown",
   "metadata": {
    "colab_type": "text",
    "id": "ImIIzVhcagjU"
   },
   "source": [
    "<h2>Loading the Datasets</h2>"
   ]
  },
  {
   "cell_type": "code",
   "execution_count": 2,
   "metadata": {
    "colab": {},
    "colab_type": "code",
    "id": "1X2QwIwCagjV"
   },
   "outputs": [],
   "source": [
    "## Loading the Datasets\n",
    "\n",
    "train = pd.read_csv('../../data/weka_processed/train_pro.csv')\n",
    "test = pd.read_csv('../../data/test.csv')\n",
    "\n",
    "# train = pd.read_csv('drive/My Drive/ML/data/weka_processed/train_pro.csv')\n",
    "# test = pd.read_csv('drive/My Drive/ML/data/test.csv')\n"
   ]
  },
  {
   "cell_type": "markdown",
   "metadata": {
    "colab_type": "text",
    "id": "eCqNfcSoagjZ"
   },
   "source": [
    "<h2>Basic Intuition on the Data</h2>"
   ]
  },
  {
   "cell_type": "code",
   "execution_count": 3,
   "metadata": {
    "colab": {
     "base_uri": "https://localhost:8080/",
     "height": 191
    },
    "colab_type": "code",
    "executionInfo": {
     "elapsed": 1852,
     "status": "ok",
     "timestamp": 1590077171026,
     "user": {
      "displayName": "Thamindu Jayawickrama",
      "photoUrl": "https://lh3.googleusercontent.com/a-/AOh14GjjqO5d7Rx8QIe-jMmmxUH6UihJmmWv_8InY9HO=s64",
      "userId": "13872082558136559787"
     },
     "user_tz": -330
    },
    "id": "RcqP9eNeagja",
    "outputId": "934ae7cb-e127-45d8-89c6-92ecaecd30e8",
    "scrolled": true
   },
   "outputs": [
    {
     "data": {
      "text/html": [
       "<div>\n",
       "<style scoped>\n",
       "    .dataframe tbody tr th:only-of-type {\n",
       "        vertical-align: middle;\n",
       "    }\n",
       "\n",
       "    .dataframe tbody tr th {\n",
       "        vertical-align: top;\n",
       "    }\n",
       "\n",
       "    .dataframe thead th {\n",
       "        text-align: right;\n",
       "    }\n",
       "</style>\n",
       "<table border=\"1\" class=\"dataframe\">\n",
       "  <thead>\n",
       "    <tr style=\"text-align: right;\">\n",
       "      <th></th>\n",
       "      <th>tripid</th>\n",
       "      <th>additional_fare</th>\n",
       "      <th>duration</th>\n",
       "      <th>meter_waiting</th>\n",
       "      <th>meter_waiting_fare</th>\n",
       "      <th>meter_waiting_till_pickup</th>\n",
       "      <th>pickup_time</th>\n",
       "      <th>drop_time</th>\n",
       "      <th>pick_lat</th>\n",
       "      <th>pick_lon</th>\n",
       "      <th>drop_lat</th>\n",
       "      <th>drop_lon</th>\n",
       "      <th>fare</th>\n",
       "      <th>label</th>\n",
       "    </tr>\n",
       "  </thead>\n",
       "  <tbody>\n",
       "    <tr>\n",
       "      <th>0</th>\n",
       "      <td>189123628</td>\n",
       "      <td>10.5</td>\n",
       "      <td>834</td>\n",
       "      <td>56</td>\n",
       "      <td>0</td>\n",
       "      <td>64</td>\n",
       "      <td>'11/1/2019 0:20'</td>\n",
       "      <td>'11/1/2019 0:34'</td>\n",
       "      <td>6.86252</td>\n",
       "      <td>79.8993</td>\n",
       "      <td>6.90330</td>\n",
       "      <td>79.8783</td>\n",
       "      <td>270.32</td>\n",
       "      <td>correct</td>\n",
       "    </tr>\n",
       "    <tr>\n",
       "      <th>1</th>\n",
       "      <td>189125358</td>\n",
       "      <td>10.5</td>\n",
       "      <td>791</td>\n",
       "      <td>47</td>\n",
       "      <td>0</td>\n",
       "      <td>134</td>\n",
       "      <td>'11/1/2019 0:56'</td>\n",
       "      <td>'11/1/2019 1:09'</td>\n",
       "      <td>6.88589</td>\n",
       "      <td>79.8984</td>\n",
       "      <td>6.91373</td>\n",
       "      <td>79.8923</td>\n",
       "      <td>197.85</td>\n",
       "      <td>correct</td>\n",
       "    </tr>\n",
       "    <tr>\n",
       "      <th>2</th>\n",
       "      <td>189125719</td>\n",
       "      <td>10.5</td>\n",
       "      <td>1087</td>\n",
       "      <td>80</td>\n",
       "      <td>0</td>\n",
       "      <td>61</td>\n",
       "      <td>'11/1/2019 1:08'</td>\n",
       "      <td>'11/1/2019 1:26'</td>\n",
       "      <td>6.90839</td>\n",
       "      <td>79.8651</td>\n",
       "      <td>6.93669</td>\n",
       "      <td>79.9146</td>\n",
       "      <td>301.64</td>\n",
       "      <td>correct</td>\n",
       "    </tr>\n",
       "    <tr>\n",
       "      <th>3</th>\n",
       "      <td>189127273</td>\n",
       "      <td>10.5</td>\n",
       "      <td>598</td>\n",
       "      <td>271</td>\n",
       "      <td>15.6638</td>\n",
       "      <td>68</td>\n",
       "      <td>'11/1/2019 2:27'</td>\n",
       "      <td>'11/1/2019 2:37'</td>\n",
       "      <td>6.92570</td>\n",
       "      <td>79.8895</td>\n",
       "      <td>6.92748</td>\n",
       "      <td>79.8971</td>\n",
       "      <td>82.3</td>\n",
       "      <td>correct</td>\n",
       "    </tr>\n",
       "    <tr>\n",
       "      <th>4</th>\n",
       "      <td>189128020</td>\n",
       "      <td>?</td>\n",
       "      <td>?</td>\n",
       "      <td>?</td>\n",
       "      <td>?</td>\n",
       "      <td>?</td>\n",
       "      <td>'11/1/2019 3:34'</td>\n",
       "      <td>'11/1/2019 3:51'</td>\n",
       "      <td>6.87441</td>\n",
       "      <td>79.8615</td>\n",
       "      <td>6.84478</td>\n",
       "      <td>79.9290</td>\n",
       "      <td>358.39</td>\n",
       "      <td>correct</td>\n",
       "    </tr>\n",
       "  </tbody>\n",
       "</table>\n",
       "</div>"
      ],
      "text/plain": [
       "      tripid additional_fare duration meter_waiting meter_waiting_fare  \\\n",
       "0  189123628            10.5      834            56                  0   \n",
       "1  189125358            10.5      791            47                  0   \n",
       "2  189125719            10.5     1087            80                  0   \n",
       "3  189127273            10.5      598           271            15.6638   \n",
       "4  189128020               ?        ?             ?                  ?   \n",
       "\n",
       "  meter_waiting_till_pickup       pickup_time         drop_time  pick_lat  \\\n",
       "0                        64  '11/1/2019 0:20'  '11/1/2019 0:34'   6.86252   \n",
       "1                       134  '11/1/2019 0:56'  '11/1/2019 1:09'   6.88589   \n",
       "2                        61  '11/1/2019 1:08'  '11/1/2019 1:26'   6.90839   \n",
       "3                        68  '11/1/2019 2:27'  '11/1/2019 2:37'   6.92570   \n",
       "4                         ?  '11/1/2019 3:34'  '11/1/2019 3:51'   6.87441   \n",
       "\n",
       "   pick_lon  drop_lat  drop_lon    fare    label  \n",
       "0   79.8993   6.90330   79.8783  270.32  correct  \n",
       "1   79.8984   6.91373   79.8923  197.85  correct  \n",
       "2   79.8651   6.93669   79.9146  301.64  correct  \n",
       "3   79.8895   6.92748   79.8971    82.3  correct  \n",
       "4   79.8615   6.84478   79.9290  358.39  correct  "
      ]
     },
     "execution_count": 3,
     "metadata": {},
     "output_type": "execute_result"
    }
   ],
   "source": [
    "train.head()"
   ]
  },
  {
   "cell_type": "code",
   "execution_count": 4,
   "metadata": {
    "colab": {
     "base_uri": "https://localhost:8080/",
     "height": 191
    },
    "colab_type": "code",
    "executionInfo": {
     "elapsed": 1655,
     "status": "ok",
     "timestamp": 1590077171028,
     "user": {
      "displayName": "Thamindu Jayawickrama",
      "photoUrl": "https://lh3.googleusercontent.com/a-/AOh14GjjqO5d7Rx8QIe-jMmmxUH6UihJmmWv_8InY9HO=s64",
      "userId": "13872082558136559787"
     },
     "user_tz": -330
    },
    "id": "RETRG5bjagjf",
    "outputId": "966f87ea-628d-4607-bae0-d95050229149"
   },
   "outputs": [
    {
     "data": {
      "text/html": [
       "<div>\n",
       "<style scoped>\n",
       "    .dataframe tbody tr th:only-of-type {\n",
       "        vertical-align: middle;\n",
       "    }\n",
       "\n",
       "    .dataframe tbody tr th {\n",
       "        vertical-align: top;\n",
       "    }\n",
       "\n",
       "    .dataframe thead th {\n",
       "        text-align: right;\n",
       "    }\n",
       "</style>\n",
       "<table border=\"1\" class=\"dataframe\">\n",
       "  <thead>\n",
       "    <tr style=\"text-align: right;\">\n",
       "      <th></th>\n",
       "      <th>tripid</th>\n",
       "      <th>additional_fare</th>\n",
       "      <th>duration</th>\n",
       "      <th>meter_waiting</th>\n",
       "      <th>meter_waiting_fare</th>\n",
       "      <th>meter_waiting_till_pickup</th>\n",
       "      <th>pickup_time</th>\n",
       "      <th>drop_time</th>\n",
       "      <th>pick_lat</th>\n",
       "      <th>pick_lon</th>\n",
       "      <th>drop_lat</th>\n",
       "      <th>drop_lon</th>\n",
       "      <th>fare</th>\n",
       "    </tr>\n",
       "  </thead>\n",
       "  <tbody>\n",
       "    <tr>\n",
       "      <th>0</th>\n",
       "      <td>213284604</td>\n",
       "      <td>10.5</td>\n",
       "      <td>924</td>\n",
       "      <td>42</td>\n",
       "      <td>2.4486</td>\n",
       "      <td>148</td>\n",
       "      <td>2/1/2020 0:38</td>\n",
       "      <td>2/1/2020 0:53</td>\n",
       "      <td>6.83454</td>\n",
       "      <td>79.8750</td>\n",
       "      <td>6.77490</td>\n",
       "      <td>79.8840</td>\n",
       "      <td>289.27</td>\n",
       "    </tr>\n",
       "    <tr>\n",
       "      <th>1</th>\n",
       "      <td>213286352</td>\n",
       "      <td>10.5</td>\n",
       "      <td>4249</td>\n",
       "      <td>20</td>\n",
       "      <td>0.0000</td>\n",
       "      <td>91</td>\n",
       "      <td>2/1/2020 1:02</td>\n",
       "      <td>2/1/2020 2:13</td>\n",
       "      <td>6.91168</td>\n",
       "      <td>79.8723</td>\n",
       "      <td>6.55091</td>\n",
       "      <td>79.9706</td>\n",
       "      <td>1912.70</td>\n",
       "    </tr>\n",
       "    <tr>\n",
       "      <th>2</th>\n",
       "      <td>213293973</td>\n",
       "      <td>10.5</td>\n",
       "      <td>1552</td>\n",
       "      <td>255</td>\n",
       "      <td>2.6588</td>\n",
       "      <td>23</td>\n",
       "      <td>2/1/2020 5:02</td>\n",
       "      <td>2/1/2020 5:28</td>\n",
       "      <td>6.92145</td>\n",
       "      <td>79.8478</td>\n",
       "      <td>6.90539</td>\n",
       "      <td>79.8989</td>\n",
       "      <td>394.00</td>\n",
       "    </tr>\n",
       "    <tr>\n",
       "      <th>3</th>\n",
       "      <td>213294622</td>\n",
       "      <td>10.5</td>\n",
       "      <td>462</td>\n",
       "      <td>16</td>\n",
       "      <td>0.0000</td>\n",
       "      <td>198</td>\n",
       "      <td>2/1/2020 5:30</td>\n",
       "      <td>2/1/2020 5:38</td>\n",
       "      <td>6.77433</td>\n",
       "      <td>79.9416</td>\n",
       "      <td>6.80401</td>\n",
       "      <td>79.9407</td>\n",
       "      <td>154.32</td>\n",
       "    </tr>\n",
       "    <tr>\n",
       "      <th>4</th>\n",
       "      <td>213298687</td>\n",
       "      <td>10.5</td>\n",
       "      <td>814</td>\n",
       "      <td>392</td>\n",
       "      <td>12.3692</td>\n",
       "      <td>69</td>\n",
       "      <td>2/1/2020 7:00</td>\n",
       "      <td>2/1/2020 7:14</td>\n",
       "      <td>6.97968</td>\n",
       "      <td>79.9130</td>\n",
       "      <td>6.98875</td>\n",
       "      <td>79.8914</td>\n",
       "      <td>147.47</td>\n",
       "    </tr>\n",
       "  </tbody>\n",
       "</table>\n",
       "</div>"
      ],
      "text/plain": [
       "      tripid  additional_fare  duration  meter_waiting  meter_waiting_fare  \\\n",
       "0  213284604             10.5       924             42              2.4486   \n",
       "1  213286352             10.5      4249             20              0.0000   \n",
       "2  213293973             10.5      1552            255              2.6588   \n",
       "3  213294622             10.5       462             16              0.0000   \n",
       "4  213298687             10.5       814            392             12.3692   \n",
       "\n",
       "   meter_waiting_till_pickup    pickup_time      drop_time  pick_lat  \\\n",
       "0                        148  2/1/2020 0:38  2/1/2020 0:53   6.83454   \n",
       "1                         91  2/1/2020 1:02  2/1/2020 2:13   6.91168   \n",
       "2                         23  2/1/2020 5:02  2/1/2020 5:28   6.92145   \n",
       "3                        198  2/1/2020 5:30  2/1/2020 5:38   6.77433   \n",
       "4                         69  2/1/2020 7:00  2/1/2020 7:14   6.97968   \n",
       "\n",
       "   pick_lon  drop_lat  drop_lon     fare  \n",
       "0   79.8750   6.77490   79.8840   289.27  \n",
       "1   79.8723   6.55091   79.9706  1912.70  \n",
       "2   79.8478   6.90539   79.8989   394.00  \n",
       "3   79.9416   6.80401   79.9407   154.32  \n",
       "4   79.9130   6.98875   79.8914   147.47  "
      ]
     },
     "execution_count": 4,
     "metadata": {},
     "output_type": "execute_result"
    }
   ],
   "source": [
    "test.head()"
   ]
  },
  {
   "cell_type": "code",
   "execution_count": 5,
   "metadata": {
    "colab": {
     "base_uri": "https://localhost:8080/",
     "height": 358
    },
    "colab_type": "code",
    "executionInfo": {
     "elapsed": 2286,
     "status": "ok",
     "timestamp": 1590077171835,
     "user": {
      "displayName": "Thamindu Jayawickrama",
      "photoUrl": "https://lh3.googleusercontent.com/a-/AOh14GjjqO5d7Rx8QIe-jMmmxUH6UihJmmWv_8InY9HO=s64",
      "userId": "13872082558136559787"
     },
     "user_tz": -330
    },
    "id": "pV1pCbgjagjj",
    "outputId": "98de4fb9-7afc-4d4d-c266-d9b51c6f0fc2"
   },
   "outputs": [
    {
     "name": "stdout",
     "output_type": "stream",
     "text": [
      "<class 'pandas.core.frame.DataFrame'>\n",
      "RangeIndex: 15327 entries, 0 to 15326\n",
      "Data columns (total 14 columns):\n",
      "tripid                       15327 non-null int64\n",
      "additional_fare              15327 non-null object\n",
      "duration                     15327 non-null object\n",
      "meter_waiting                15327 non-null object\n",
      "meter_waiting_fare           15327 non-null object\n",
      "meter_waiting_till_pickup    15327 non-null object\n",
      "pickup_time                  15327 non-null object\n",
      "drop_time                    15327 non-null object\n",
      "pick_lat                     15327 non-null float64\n",
      "pick_lon                     15327 non-null float64\n",
      "drop_lat                     15327 non-null float64\n",
      "drop_lon                     15327 non-null float64\n",
      "fare                         15327 non-null object\n",
      "label                        15327 non-null object\n",
      "dtypes: float64(4), int64(1), object(9)\n",
      "memory usage: 1.6+ MB\n"
     ]
    }
   ],
   "source": [
    "train.info()"
   ]
  },
  {
   "cell_type": "code",
   "execution_count": 6,
   "metadata": {
    "colab": {
     "base_uri": "https://localhost:8080/",
     "height": 33
    },
    "colab_type": "code",
    "executionInfo": {
     "elapsed": 2103,
     "status": "ok",
     "timestamp": 1590077171836,
     "user": {
      "displayName": "Thamindu Jayawickrama",
      "photoUrl": "https://lh3.googleusercontent.com/a-/AOh14GjjqO5d7Rx8QIe-jMmmxUH6UihJmmWv_8InY9HO=s64",
      "userId": "13872082558136559787"
     },
     "user_tz": -330
    },
    "id": "f6lHhf0Oagjo",
    "outputId": "2c139665-fbd8-4db3-ae4a-76b9d5ee45a0"
   },
   "outputs": [
    {
     "data": {
      "text/plain": [
       "(15327, 14)"
      ]
     },
     "execution_count": 6,
     "metadata": {},
     "output_type": "execute_result"
    }
   ],
   "source": [
    "train.shape"
   ]
  },
  {
   "cell_type": "code",
   "execution_count": 7,
   "metadata": {
    "colab": {
     "base_uri": "https://localhost:8080/",
     "height": 342
    },
    "colab_type": "code",
    "executionInfo": {
     "elapsed": 1948,
     "status": "ok",
     "timestamp": 1590077171837,
     "user": {
      "displayName": "Thamindu Jayawickrama",
      "photoUrl": "https://lh3.googleusercontent.com/a-/AOh14GjjqO5d7Rx8QIe-jMmmxUH6UihJmmWv_8InY9HO=s64",
      "userId": "13872082558136559787"
     },
     "user_tz": -330
    },
    "id": "FBg3Yhnlagjr",
    "outputId": "8d82dca1-92fb-4585-cdb6-f6f74b2b410f"
   },
   "outputs": [
    {
     "name": "stdout",
     "output_type": "stream",
     "text": [
      "<class 'pandas.core.frame.DataFrame'>\n",
      "RangeIndex: 8576 entries, 0 to 8575\n",
      "Data columns (total 13 columns):\n",
      "tripid                       8576 non-null int64\n",
      "additional_fare              8576 non-null float64\n",
      "duration                     8576 non-null int64\n",
      "meter_waiting                8576 non-null int64\n",
      "meter_waiting_fare           8576 non-null float64\n",
      "meter_waiting_till_pickup    8576 non-null int64\n",
      "pickup_time                  8576 non-null object\n",
      "drop_time                    8576 non-null object\n",
      "pick_lat                     8576 non-null float64\n",
      "pick_lon                     8576 non-null float64\n",
      "drop_lat                     8576 non-null float64\n",
      "drop_lon                     8576 non-null float64\n",
      "fare                         8576 non-null float64\n",
      "dtypes: float64(7), int64(4), object(2)\n",
      "memory usage: 871.1+ KB\n"
     ]
    }
   ],
   "source": [
    "test.info()"
   ]
  },
  {
   "cell_type": "code",
   "execution_count": 8,
   "metadata": {
    "colab": {
     "base_uri": "https://localhost:8080/",
     "height": 33
    },
    "colab_type": "code",
    "executionInfo": {
     "elapsed": 1756,
     "status": "ok",
     "timestamp": 1590077171838,
     "user": {
      "displayName": "Thamindu Jayawickrama",
      "photoUrl": "https://lh3.googleusercontent.com/a-/AOh14GjjqO5d7Rx8QIe-jMmmxUH6UihJmmWv_8InY9HO=s64",
      "userId": "13872082558136559787"
     },
     "user_tz": -330
    },
    "id": "FrmNY5_bagjv",
    "outputId": "6b9b15d9-cfab-41e1-b999-4d31e1637a9b"
   },
   "outputs": [
    {
     "data": {
      "text/plain": [
       "(8576, 13)"
      ]
     },
     "execution_count": 8,
     "metadata": {},
     "output_type": "execute_result"
    }
   ],
   "source": [
    "test.shape"
   ]
  },
  {
   "cell_type": "code",
   "execution_count": null,
   "metadata": {
    "colab": {},
    "colab_type": "code",
    "id": "nDDLtJm9agjz"
   },
   "outputs": [],
   "source": []
  },
  {
   "cell_type": "markdown",
   "metadata": {
    "colab_type": "text",
    "id": "edYqSjpAagj4"
   },
   "source": [
    "<h2>Cleaning the Data</h2>"
   ]
  },
  {
   "cell_type": "code",
   "execution_count": 9,
   "metadata": {
    "colab": {},
    "colab_type": "code",
    "id": "roEyMrCHagj5"
   },
   "outputs": [],
   "source": [
    "## cleaning weka added unnecessary values\n",
    "\n",
    "train = train.replace({'?': np.nan})\n"
   ]
  },
  {
   "cell_type": "code",
   "execution_count": null,
   "metadata": {
    "colab": {},
    "colab_type": "code",
    "id": "9iu839lXagj9"
   },
   "outputs": [],
   "source": []
  },
  {
   "cell_type": "code",
   "execution_count": 10,
   "metadata": {
    "colab": {},
    "colab_type": "code",
    "id": "GHH-02bkagkB"
   },
   "outputs": [],
   "source": [
    "## converting label values into 0,1 instead of correct, incorrect\n",
    "\n",
    "train.label = train.label.map(dict(correct=1, incorrect=0))"
   ]
  },
  {
   "cell_type": "code",
   "execution_count": null,
   "metadata": {
    "colab": {},
    "colab_type": "code",
    "id": "rV-oy4XzagkF"
   },
   "outputs": [],
   "source": []
  },
  {
   "cell_type": "code",
   "execution_count": 11,
   "metadata": {
    "colab": {
     "base_uri": "https://localhost:8080/",
     "height": 261
    },
    "colab_type": "code",
    "executionInfo": {
     "elapsed": 1474,
     "status": "ok",
     "timestamp": 1590077174219,
     "user": {
      "displayName": "Thamindu Jayawickrama",
      "photoUrl": "https://lh3.googleusercontent.com/a-/AOh14GjjqO5d7Rx8QIe-jMmmxUH6UihJmmWv_8InY9HO=s64",
      "userId": "13872082558136559787"
     },
     "user_tz": -330
    },
    "id": "4Wp7-dBqagkI",
    "outputId": "c391bd01-cd32-45c9-f893-dde2a259588e"
   },
   "outputs": [
    {
     "data": {
      "text/plain": [
       "tripid                         0\n",
       "additional_fare              196\n",
       "duration                     196\n",
       "meter_waiting                196\n",
       "meter_waiting_fare           196\n",
       "meter_waiting_till_pickup    196\n",
       "pickup_time                    0\n",
       "drop_time                      0\n",
       "pick_lat                       0\n",
       "pick_lon                       0\n",
       "drop_lat                       0\n",
       "drop_lon                       0\n",
       "fare                         133\n",
       "label                          0\n",
       "dtype: int64"
      ]
     },
     "execution_count": 11,
     "metadata": {},
     "output_type": "execute_result"
    }
   ],
   "source": [
    "## check for missing values in the dataset\n",
    "\n",
    "# train.isna().head()\n",
    "train.isna().sum()"
   ]
  },
  {
   "cell_type": "code",
   "execution_count": 12,
   "metadata": {
    "colab": {
     "base_uri": "https://localhost:8080/",
     "height": 245
    },
    "colab_type": "code",
    "executionInfo": {
     "elapsed": 1267,
     "status": "ok",
     "timestamp": 1590077174220,
     "user": {
      "displayName": "Thamindu Jayawickrama",
      "photoUrl": "https://lh3.googleusercontent.com/a-/AOh14GjjqO5d7Rx8QIe-jMmmxUH6UihJmmWv_8InY9HO=s64",
      "userId": "13872082558136559787"
     },
     "user_tz": -330
    },
    "id": "z8aiXPQNagkM",
    "outputId": "9ba8f4b4-dfdf-4169-d44d-d5a1bb85c2ef"
   },
   "outputs": [
    {
     "data": {
      "text/plain": [
       "tripid                       0\n",
       "additional_fare              0\n",
       "duration                     0\n",
       "meter_waiting                0\n",
       "meter_waiting_fare           0\n",
       "meter_waiting_till_pickup    0\n",
       "pickup_time                  0\n",
       "drop_time                    0\n",
       "pick_lat                     0\n",
       "pick_lon                     0\n",
       "drop_lat                     0\n",
       "drop_lon                     0\n",
       "fare                         0\n",
       "dtype: int64"
      ]
     },
     "execution_count": 12,
     "metadata": {},
     "output_type": "execute_result"
    }
   ],
   "source": [
    "test.isna().sum()"
   ]
  },
  {
   "cell_type": "code",
   "execution_count": 13,
   "metadata": {
    "colab": {},
    "colab_type": "code",
    "id": "nmgu9Z3JagkQ"
   },
   "outputs": [],
   "source": [
    "## fill missing values\n",
    "\n",
    "imputer = KNNImputer(n_neighbors=5, weights='uniform')\n",
    "train.iloc[:,[1,2,3,4,5,12]] = imputer.fit_transform(train.iloc[:,[1,2,3,4,5,12]])\n",
    "\n",
    "# ## drop missing values\n",
    "# train = train.dropna(how='any', axis=0)\n"
   ]
  },
  {
   "cell_type": "code",
   "execution_count": 14,
   "metadata": {
    "colab": {
     "base_uri": "https://localhost:8080/",
     "height": 261
    },
    "colab_type": "code",
    "executionInfo": {
     "elapsed": 1294,
     "status": "ok",
     "timestamp": 1590077175140,
     "user": {
      "displayName": "Thamindu Jayawickrama",
      "photoUrl": "https://lh3.googleusercontent.com/a-/AOh14GjjqO5d7Rx8QIe-jMmmxUH6UihJmmWv_8InY9HO=s64",
      "userId": "13872082558136559787"
     },
     "user_tz": -330
    },
    "id": "F94sbI41agkT",
    "outputId": "2ed3b4f6-d11b-452a-ddda-e0abf31b13cb"
   },
   "outputs": [
    {
     "data": {
      "text/plain": [
       "tripid                       0\n",
       "additional_fare              0\n",
       "duration                     0\n",
       "meter_waiting                0\n",
       "meter_waiting_fare           0\n",
       "meter_waiting_till_pickup    0\n",
       "pickup_time                  0\n",
       "drop_time                    0\n",
       "pick_lat                     0\n",
       "pick_lon                     0\n",
       "drop_lat                     0\n",
       "drop_lon                     0\n",
       "fare                         0\n",
       "label                        0\n",
       "dtype: int64"
      ]
     },
     "execution_count": 14,
     "metadata": {},
     "output_type": "execute_result"
    }
   ],
   "source": [
    "train.isna().sum()"
   ]
  },
  {
   "cell_type": "code",
   "execution_count": null,
   "metadata": {
    "colab": {},
    "colab_type": "code",
    "id": "G7a5MiieagkW"
   },
   "outputs": [],
   "source": []
  },
  {
   "cell_type": "markdown",
   "metadata": {
    "colab_type": "text",
    "id": "rXeIRZftagkZ"
   },
   "source": [
    "<h2>Basic Feature Engineering</h2>"
   ]
  },
  {
   "cell_type": "code",
   "execution_count": 15,
   "metadata": {
    "colab": {},
    "colab_type": "code",
    "id": "aL0VYdW5agka"
   },
   "outputs": [],
   "source": [
    "## Join train and test datasets in order to obtain the same number of features during categorical conversion\n",
    "train_len = len(train)\n",
    "dataset = pd.concat(objs=[train, test], axis=0).reset_index(drop=True)\n"
   ]
  },
  {
   "cell_type": "markdown",
   "metadata": {
    "colab": {},
    "colab_type": "code",
    "id": "We_ytZV_agkd"
   },
   "source": [
    "<h4>Clustering Based Feature Column</h4>"
   ]
  },
  {
   "cell_type": "code",
   "execution_count": 16,
   "metadata": {},
   "outputs": [],
   "source": [
    "dbscan = DBSCAN(eps=0.3, min_samples=5)\n",
    "\n",
    "cluster_pred = dbscan.fit_predict(dataset.drop(labels=['tripid', 'label', 'pickup_time', 'drop_time'], axis=1))\n",
    "\n",
    "# cluster_pred = np.where(cluster_pred == -1, 10, cluster_pred)\n"
   ]
  },
  {
   "cell_type": "code",
   "execution_count": 17,
   "metadata": {},
   "outputs": [
    {
     "data": {
      "text/plain": [
       "{-1: 23774, 0: 17, 1: 112}"
      ]
     },
     "execution_count": 17,
     "metadata": {},
     "output_type": "execute_result"
    }
   ],
   "source": [
    "unique1, count1 = np.unique(cluster_pred, return_counts=True)\n",
    "{k:v for (k,v) in zip(unique1, count1)}\n"
   ]
  },
  {
   "cell_type": "code",
   "execution_count": 18,
   "metadata": {},
   "outputs": [],
   "source": [
    "dataset['cluster'] = cluster_pred\n"
   ]
  },
  {
   "cell_type": "markdown",
   "metadata": {},
   "source": [
    "<h4>Location Cluster Feature Column</h4>"
   ]
  },
  {
   "cell_type": "code",
   "execution_count": 19,
   "metadata": {},
   "outputs": [],
   "source": [
    "pick_coord_dt = dataset.loc[:, ['pick_lat', 'pick_lon']]\n",
    "drop_coord_dt = dataset.loc[:, ['drop_lat', 'drop_lon']]\n"
   ]
  },
  {
   "cell_type": "code",
   "execution_count": 20,
   "metadata": {},
   "outputs": [],
   "source": [
    "dbscan = DBSCAN(eps=0.01, min_samples=5)\n",
    "pick_labels = dbscan.fit_predict(pick_coord_dt)\n",
    "\n",
    "dbscan = DBSCAN(eps=0.01, min_samples=5)\n",
    "drop_labels = dbscan.fit_predict(drop_coord_dt)\n"
   ]
  },
  {
   "cell_type": "code",
   "execution_count": 21,
   "metadata": {},
   "outputs": [],
   "source": [
    "# pick_labels = np.where(pick_labels == -1, 50, pick_labels)\n",
    "# drop_labels = np.where(drop_labels == -1, 50, drop_labels)\n"
   ]
  },
  {
   "cell_type": "code",
   "execution_count": 22,
   "metadata": {},
   "outputs": [
    {
     "data": {
      "text/plain": [
       "{-1: 213,\n",
       " 0: 20205,\n",
       " 1: 2760,\n",
       " 2: 88,\n",
       " 3: 37,\n",
       " 4: 76,\n",
       " 5: 5,\n",
       " 6: 22,\n",
       " 7: 12,\n",
       " 8: 8,\n",
       " 9: 20,\n",
       " 10: 12,\n",
       " 11: 27,\n",
       " 12: 7,\n",
       " 13: 6,\n",
       " 14: 28,\n",
       " 15: 8,\n",
       " 16: 14,\n",
       " 17: 9,\n",
       " 18: 5,\n",
       " 19: 5,\n",
       " 20: 6,\n",
       " 21: 7,\n",
       " 22: 5,\n",
       " 23: 159,\n",
       " 24: 149,\n",
       " 25: 5,\n",
       " 26: 5}"
      ]
     },
     "execution_count": 22,
     "metadata": {},
     "output_type": "execute_result"
    }
   ],
   "source": [
    "unique1, count1 = np.unique(pick_labels, return_counts=True)\n",
    "{k:v for (k,v) in zip(unique1, count1)}\n"
   ]
  },
  {
   "cell_type": "code",
   "execution_count": 23,
   "metadata": {},
   "outputs": [
    {
     "data": {
      "text/plain": [
       "{-1: 351,\n",
       " 0: 20147,\n",
       " 1: 2738,\n",
       " 2: 75,\n",
       " 3: 25,\n",
       " 4: 10,\n",
       " 5: 62,\n",
       " 6: 25,\n",
       " 7: 8,\n",
       " 8: 21,\n",
       " 9: 17,\n",
       " 10: 6,\n",
       " 11: 10,\n",
       " 12: 6,\n",
       " 13: 17,\n",
       " 14: 17,\n",
       " 15: 13,\n",
       " 16: 13,\n",
       " 17: 5,\n",
       " 18: 9,\n",
       " 19: 5,\n",
       " 20: 5,\n",
       " 21: 5,\n",
       " 22: 5,\n",
       " 23: 6,\n",
       " 24: 5,\n",
       " 25: 6,\n",
       " 26: 4,\n",
       " 27: 3,\n",
       " 28: 132,\n",
       " 29: 146,\n",
       " 30: 5,\n",
       " 31: 1}"
      ]
     },
     "execution_count": 23,
     "metadata": {},
     "output_type": "execute_result"
    }
   ],
   "source": [
    "unique1, count1 = np.unique(drop_labels, return_counts=True)\n",
    "{k:v for (k,v) in zip(unique1, count1)}\n"
   ]
  },
  {
   "cell_type": "code",
   "execution_count": 24,
   "metadata": {},
   "outputs": [],
   "source": [
    "dataset['pick_cluster'] = pick_labels\n",
    "dataset['drop_cluster'] = drop_labels\n"
   ]
  },
  {
   "cell_type": "code",
   "execution_count": null,
   "metadata": {},
   "outputs": [],
   "source": []
  },
  {
   "cell_type": "markdown",
   "metadata": {
    "colab_type": "text",
    "id": "UyoRFor8agkg"
   },
   "source": [
    "<h2>Advanced Feature Engineering</h2>"
   ]
  },
  {
   "cell_type": "code",
   "execution_count": 26,
   "metadata": {
    "colab": {},
    "colab_type": "code",
    "id": "QQcDcorwagkh"
   },
   "outputs": [],
   "source": [
    "## new feature columns\n",
    "trip_fare = []\n",
    "trip_duration = []\n",
    "trip_distance = []\n",
    "\n",
    "distance_to_duration = []\n",
    "distance_to_duration_min_meter_waiting = []\n",
    "fare_to_duration = []\n",
    "fare_to_distance = []\n",
    "waiting_fare_to_waiting_duration = []\n",
    "duration_min_waiting_to_fare = []\n",
    "additional_fare_to_distance = []\n",
    "fare_min_waiting_fare_to_duration_min_meter_waiting = []\n",
    "waiting_duration_to_duration = []\n",
    "additional_fare_to_fare = []\n",
    "\n",
    "duration_from_time = []\n",
    "duration_error = []\n",
    "\n",
    "## j48 rules\n",
    "duration_bucket = []    ## 50\n",
    "fare_bucket = []        ## 50\n",
    "\n",
    "## dataset inspection rules\n",
    "fare_waiting_gap = []\n",
    "additional_fare_greater_than_250 = []\n",
    "is_duration_zero = []\n",
    "\n",
    "# time based new features\n",
    "fare_month = []\n",
    "fare_hour = []\n",
    "is_midnight = []\n",
    "is_weekend = []\n"
   ]
  },
  {
   "cell_type": "code",
   "execution_count": 27,
   "metadata": {
    "colab": {},
    "colab_type": "code",
    "id": "jv7TRvNZagkp"
   },
   "outputs": [],
   "source": [
    "## iterate through each row in the dataset\n",
    "for row in dataset.itertuples():\n",
    "    fare = float(row.fare)\n",
    "    additional_fare = float(row.additional_fare)\n",
    "    meter_waiting_fare = float(row.meter_waiting_fare)\n",
    "    \n",
    "    meter_waiting = row.meter_waiting\n",
    "    meter_waiting_till_pickup = row.meter_waiting_till_pickup\n",
    "    duration = row.duration\n",
    "    \n",
    "    pick_lat = row.pick_lat\n",
    "    pick_lon = row.pick_lon\n",
    "    drop_lat = row.drop_lat\n",
    "    drop_lon = row.drop_lon\n",
    "    \n",
    "    pickup_time = row.pickup_time.replace('\\'', '')\n",
    "    drop_time = row.drop_time.replace('\\'', '')\n",
    "    pickup_time = pickup_time.split('/')\n",
    "    drop_time = drop_time.split('/')\n",
    "    \n",
    "    # fare bucket\n",
    "    fare_bucket.append(int(math.ceil(fare / 50)))\n",
    "    \n",
    "    # total fare for the trip\n",
    "    cur_trip_fare = fare - (additional_fare + meter_waiting_fare)\n",
    "    trip_fare.append(cur_trip_fare)\n",
    "    \n",
    "    # trip duration\n",
    "    cur_trip_duration = duration - meter_waiting - meter_waiting_till_pickup\n",
    "    trip_duration.append(cur_trip_duration)\n",
    "    duration_bucket.append(int(math.ceil(cur_trip_duration / 50)))\n",
    "    \n",
    "    if(duration != 0):\n",
    "        is_duration_zero.append(0)\n",
    "    else:\n",
    "        is_duration_zero.append(1)\n",
    "    \n",
    "    # trip distance\n",
    "    cur_trip_distance = float(great_circle((drop_lat, drop_lon),(pick_lat, pick_lon)).kilometers)\n",
    "    trip_distance.append(cur_trip_distance)\n",
    "    \n",
    "    # trip distance to duration\n",
    "    try:\n",
    "        cur_dist_to_dur = cur_trip_distance / cur_trip_duration\n",
    "    except ZeroDivisionError:\n",
    "        cur_dist_to_dur  = 0\n",
    "    distance_to_duration.append(cur_dist_to_dur)\n",
    "    \n",
    "    # trip distance to (duration - meter_waiting_duration)\n",
    "    try:\n",
    "        cur_temp = cur_trip_distance / (duration - meter_waiting)\n",
    "    except ZeroDivisionError:\n",
    "        cur_temp = 0\n",
    "    distance_to_duration_min_meter_waiting.append(cur_temp)\n",
    "    \n",
    "    # trip fare to trip duration\n",
    "    try:\n",
    "        cur_fare_to_duration = cur_trip_fare / cur_trip_duration\n",
    "    except ZeroDivisionError:\n",
    "        cur_fare_to_duration  = 0\n",
    "    fare_to_duration.append(cur_fare_to_duration)\n",
    "    \n",
    "    # trip fare to trip distance\n",
    "    try:\n",
    "        cur_fare_to_distance = cur_trip_fare / cur_trip_distance\n",
    "    except ZeroDivisionError:\n",
    "        cur_fare_to_distance  = 0\n",
    "    fare_to_distance.append(cur_fare_to_distance)\n",
    "    \n",
    "    # trip waiting fare to waiting duration\n",
    "    try:\n",
    "        cur_waiting_fare_to_waiting_dur = meter_waiting_fare / meter_waiting\n",
    "    except ZeroDivisionError:\n",
    "        cur_waiting_fare_to_waiting_dur  = 0\n",
    "    waiting_fare_to_waiting_duration.append(cur_waiting_fare_to_waiting_dur)\n",
    "    \n",
    "    # (trip_duration - waiting_duration) to trip_fare\n",
    "    try:\n",
    "        cur_temp = (duration - meter_waiting) / fare\n",
    "    except ZeroDivisionError:\n",
    "        cur_temp = 0\n",
    "    duration_min_waiting_to_fare.append(cur_temp)\n",
    "    \n",
    "    # additional_fare to distance\n",
    "    try:\n",
    "        cur_additional_fare_to_distance = additional_fare / cur_trip_distance\n",
    "    except ZeroDivisionError:\n",
    "        cur_additional_fare_to_distance = 0\n",
    "    additional_fare_to_distance.append(cur_additional_fare_to_distance)\n",
    "    \n",
    "    # (fare - waiting_fare) to (duration - meter_waiting_duration)\n",
    "    try:\n",
    "        cur_temp = (fare - meter_waiting_fare) / (duration - meter_waiting)\n",
    "    except ZeroDivisionError:\n",
    "        cur_temp = 0\n",
    "    fare_min_waiting_fare_to_duration_min_meter_waiting.append(cur_temp)\n",
    "    \n",
    "    # waiting_duration to duration\n",
    "    try:\n",
    "        cur_waiting_duration_to_duration = meter_waiting / duration\n",
    "    except ZeroDivisionError:\n",
    "        cur_waiting_duration_to_duration = 0\n",
    "    waiting_duration_to_duration.append(cur_waiting_duration_to_duration)\n",
    "    \n",
    "    # additional_fare to fare\n",
    "    try:\n",
    "        cur_additional_fare_to_fare = additional_fare / fare\n",
    "    except ZeroDivisionError:\n",
    "        cur_additional_fare_to_fare = 0\n",
    "    additional_fare_to_fare.append(cur_additional_fare_to_fare)\n",
    "    \n",
    "    # trip fare to waiting fare\n",
    "    try:\n",
    "        cur_fare_waiting_gap = (fare - meter_waiting_fare) / fare\n",
    "    except ZeroDivisionError:\n",
    "        cur_fare_waiting_gap  = 0\n",
    "    fare_waiting_gap.append(cur_fare_waiting_gap)\n",
    "    \n",
    "    # additional fare greater than 250\n",
    "    if(additional_fare > 250):\n",
    "        additional_fare_greater_than_250.append(1)\n",
    "    else:\n",
    "        additional_fare_greater_than_250.append(0)\n",
    "    \n",
    "    # time duration\n",
    "    # pickup time\n",
    "    month, day, y_hm = int(pickup_time[0]), int(pickup_time[1]), pickup_time[2].split(' ')\n",
    "    year, h_m = int(y_hm[0]), y_hm[1].split(':')\n",
    "    hour, minute = int(h_m[0]), int(h_m[1])\n",
    "    pickup_time = datetime.datetime(year, month, day, hour, minute)\n",
    "\n",
    "    fare_month.append(month)\n",
    "    fare_hour.append(hour)\n",
    "\n",
    "    if 0 <= hour <= 5:\n",
    "        is_midnight.append(1)\n",
    "    else:\n",
    "        is_midnight.append(0)\n",
    "    \n",
    "    weekday = pickup_time.weekday()\n",
    "    if 0 <= weekday <= 4:\n",
    "        is_weekend.append(1)\n",
    "    else:\n",
    "        is_weekend.append(0)\n",
    "    \n",
    "    # drop time\n",
    "    month, day, y_hm = int(drop_time[0]), int(drop_time[1]), drop_time[2].split(' ')\n",
    "    year, h_m = int(y_hm[0]), y_hm[1].split(':')\n",
    "    hour, minute = int(h_m[0]), int(h_m[1])\n",
    "    drop_time = datetime.datetime(year, month, day, hour, minute)\n",
    "    \n",
    "    # duration\n",
    "    cur_duration_from_time = (drop_time - pickup_time).seconds\n",
    "    duration_from_time.append(cur_duration_from_time)\n",
    "    duration_error.append(cur_duration_from_time - duration)\n"
   ]
  },
  {
   "cell_type": "code",
   "execution_count": 28,
   "metadata": {
    "colab": {},
    "colab_type": "code",
    "id": "Y8ZNq1khagkx"
   },
   "outputs": [],
   "source": [
    "## append new columns to dataset\n",
    "dataset['trip_fare'] = trip_fare\n",
    "dataset['distance_to_duration_min_meter_waiting'] = distance_to_duration_min_meter_waiting\n",
    "dataset['trip_duration'] = trip_duration\n",
    "dataset['trip_distance'] = trip_distance\n",
    "dataset['distance_to_duration'] = distance_to_duration\n",
    "dataset['fare_to_duration'] = fare_to_duration\n",
    "dataset['fare_to_distance'] = fare_to_distance\n",
    "dataset['waiting_fare_to_waiting_duration'] = waiting_fare_to_waiting_duration\n",
    "dataset['duration_min_waiting_to_fare'] = duration_min_waiting_to_fare\n",
    "dataset['additional_fare_to_distance'] = additional_fare_to_distance\n",
    "dataset['fare_min_waiting_fare_to_duration_min_meter_waiting'] = fare_min_waiting_fare_to_duration_min_meter_waiting\n",
    "dataset['waiting_duration_to_duration'] = waiting_duration_to_duration\n",
    "dataset['additional_fare_to_fare'] = additional_fare_to_fare\n",
    "dataset['duration_from_time'] = duration_from_time\n",
    "dataset['duration_error'] = duration_error\n",
    "dataset['duration_bucket'] = duration_bucket\n",
    "dataset['fare_bucket'] = fare_bucket\n",
    "\n",
    "dataset['fare_waiting_gap'] = fare_waiting_gap\n",
    "dataset['additional_fare_greater_than_250'] = additional_fare_greater_than_250\n",
    "dataset['is_duration_zero'] = is_duration_zero\n",
    "\n",
    "dataset['fare_month'] = fare_month\n",
    "dataset['fare_hour'] = fare_hour\n",
    "dataset['is_midnight'] = is_midnight\n",
    "dataset['is_weekend'] = is_weekend\n"
   ]
  },
  {
   "cell_type": "code",
   "execution_count": null,
   "metadata": {
    "colab": {},
    "colab_type": "code",
    "id": "N1HHRLvOagk0"
   },
   "outputs": [],
   "source": []
  },
  {
   "cell_type": "code",
   "execution_count": 29,
   "metadata": {},
   "outputs": [],
   "source": [
    "# ## column average values\n",
    "# avg_fare = dataset['fare'].mean()\n",
    "# avg_trip_fare = dataset['trip_fare'].mean()\n",
    "# avg_waiting_fare = dataset['meter_waiting_fare'].mean()\n",
    "# avg_fare_to_distance = dataset['fare_to_distance'].mean()\n",
    "# avg_waiting_fare_to_duration = dataset['waiting_fare_to_waiting_duration'].mean()\n"
   ]
  },
  {
   "cell_type": "code",
   "execution_count": 30,
   "metadata": {},
   "outputs": [],
   "source": [
    "## new columns\n",
    "is_invalid_total_fare = []\n",
    "# div_from_avg_total_fare = []\n",
    "# div_from_avg_waiting_fare = []\n",
    "# div_from_avg_waiting_fare_to_waiting_duration = []\n"
   ]
  },
  {
   "cell_type": "code",
   "execution_count": 31,
   "metadata": {},
   "outputs": [],
   "source": [
    "## iterate through each row in the dataset\n",
    "for row in dataset.itertuples():\n",
    "    fare = float(row.fare)\n",
    "    trip_fare = float(row.trip_fare)\n",
    "    meter_waiting_fare = float(row.meter_waiting_fare)\n",
    "    additional_fare = float(row.additional_fare)\n",
    "    \n",
    "    fare_to_distance = float(row.fare_to_distance)\n",
    "    waiting_fare_to_waiting_duration = float(row.waiting_fare_to_waiting_duration)\n",
    "    \n",
    "    # total fare less than or equal to zero\n",
    "    if(fare-meter_waiting_fare-additional_fare <= 0):\n",
    "        is_invalid_total_fare.append(1)\n",
    "    else:\n",
    "        is_invalid_total_fare.append(0)\n",
    "        \n",
    "#     # diviation from average\n",
    "#     div_from_avg_total_fare.append(fare - avg_fare)\n",
    "#     div_from_avg_waiting_fare.append(meter_waiting_fare - avg_waiting_fare)\n",
    "#     div_from_avg_waiting_fare_to_waiting_duration.append(waiting_fare_to_waiting_duration - avg_waiting_fare_to_duration)\n"
   ]
  },
  {
   "cell_type": "code",
   "execution_count": 32,
   "metadata": {},
   "outputs": [],
   "source": [
    "## append new columns to dataset\n",
    "\n",
    "dataset['is_invalid_total_fare'] = is_invalid_total_fare\n",
    "# dataset['div_from_avg_total_fare'] = div_from_avg_total_fare\n",
    "# dataset['div_from_avg_waiting_fare'] = div_from_avg_waiting_fare\n",
    "# dataset['div_from_avg_waiting_fare_to_waiting_duration'] = div_from_avg_waiting_fare_to_waiting_duration\n"
   ]
  },
  {
   "cell_type": "code",
   "execution_count": null,
   "metadata": {},
   "outputs": [],
   "source": []
  },
  {
   "cell_type": "markdown",
   "metadata": {
    "colab_type": "text",
    "id": "gFfgcRq1aglK"
   },
   "source": [
    "<h2>Feature Preprocessing</h2>"
   ]
  },
  {
   "cell_type": "code",
   "execution_count": 33,
   "metadata": {
    "colab": {},
    "colab_type": "code",
    "id": "ZhP_E7_uaglL"
   },
   "outputs": [],
   "source": [
    "## Scaling values into 0-10 range\n",
    "\n",
    "scaler = MinMaxScaler(feature_range=(0,1))\n",
    "features = [\n",
    "    'additional_fare',\n",
    "    'duration',\n",
    "    'meter_waiting',\n",
    "    'meter_waiting_fare',\n",
    "    'meter_waiting_till_pickup',\n",
    "    'pick_lat',\n",
    "    'pick_lon',\n",
    "    'drop_lat',\n",
    "    'drop_lon',\n",
    "    'fare',\n",
    "    'trip_fare',\n",
    "    'trip_duration',\n",
    "    'trip_distance',\n",
    "    'distance_to_duration',\n",
    "    'fare_to_duration',\n",
    "    'fare_to_distance',\n",
    "    'waiting_fare_to_waiting_duration', \n",
    "    'duration_from_time',\n",
    "    'duration_error',\n",
    "    'duration_bucket',\n",
    "    'fare_bucket',\n",
    "    'distance_to_duration_min_meter_waiting',\n",
    "    'duration_min_waiting_to_fare',\n",
    "    'additional_fare_to_distance',\n",
    "    'fare_min_waiting_fare_to_duration_min_meter_waiting',\n",
    "    'waiting_duration_to_duration',\n",
    "    'additional_fare_to_fare',\n",
    "    'pick_cluster',\n",
    "    'drop_cluster',\n",
    "    # 'fare_hour',\n",
    "    # 'fare_month'\n",
    "]\n",
    "\n",
    "dataset[features] = scaler.fit_transform(dataset[features])\n"
   ]
  },
  {
   "cell_type": "code",
   "execution_count": 34,
   "metadata": {
    "colab": {},
    "colab_type": "code",
    "id": "K0ahm8kNaglO"
   },
   "outputs": [],
   "source": [
    "## Split into training and testing again\n",
    "\n",
    "train = dataset[:train_len]\n",
    "test = dataset[train_len:]\n",
    "test.drop(labels=['label'], axis=1, inplace=True)\n",
    "\n",
    "train['label'] = train['label'].astype(int)\n"
   ]
  },
  {
   "cell_type": "code",
   "execution_count": 35,
   "metadata": {
    "colab": {},
    "colab_type": "code",
    "id": "F62QSsWoaglQ"
   },
   "outputs": [],
   "source": [
    "## Drop unnecessary columns\n",
    "labels_to_drop = [\n",
    "    'tripid',\n",
    "    'pickup_time',\n",
    "    'drop_time'\n",
    "]\n",
    "\n",
    "train.drop(labels=labels_to_drop, axis=1, inplace=True)\n"
   ]
  },
  {
   "cell_type": "code",
   "execution_count": null,
   "metadata": {
    "colab": {},
    "colab_type": "code",
    "id": "4owV29b8aglU",
    "scrolled": false
   },
   "outputs": [],
   "source": []
  },
  {
   "cell_type": "markdown",
   "metadata": {
    "colab_type": "text",
    "id": "3LElFYL6aglY"
   },
   "source": [
    "<h2>Feature Importance</h2>"
   ]
  },
  {
   "cell_type": "code",
   "execution_count": 36,
   "metadata": {
    "colab": {},
    "colab_type": "code",
    "id": "S261d9qFaglY"
   },
   "outputs": [],
   "source": [
    "# y = train['label']\n",
    "# X = train.drop(labels=['label'], axis=1)\n",
    "\n",
    "# # apply SelectKBest class to extract top 20 best features\n",
    "# bestfeatures = SelectKBest(score_func=chi2, k='all')\n",
    "# fit = bestfeatures.fit(X, y)\n",
    "# dfscores = pd.DataFrame(fit.scores_)\n",
    "# dfcolumns = pd.DataFrame(X.columns)\n",
    "\n",
    "# # concat two dataframes for better visualization\n",
    "# featureScores = pd.concat([dfcolumns, dfscores], axis=1)\n",
    "# featureScores.columns = ['Specs', 'Score']  #naming the dataframe columns\n",
    "# print(featureScores.nlargest(40, 'Score'))  #print 40 best features\n"
   ]
  },
  {
   "cell_type": "code",
   "execution_count": 37,
   "metadata": {
    "colab": {},
    "colab_type": "code",
    "id": "S5GtJuwQaglb"
   },
   "outputs": [],
   "source": [
    "## Drop less important columns\n",
    "labels_to_drop = [\n",
    "    'pick_lat',\n",
    "    'pick_lon',\n",
    "    'drop_lat',\n",
    "    'drop_lon',\n",
    "\n",
    "    # 'trip_duration',\n",
    "    # 'duration_bucket',\n",
    "    # 'fare_to_duration',\n",
    "    # 'distance_to_duration',\n",
    "#     'fare_hour',\n",
    "#     'is_weekend'\n",
    "]\n",
    "\n",
    "train.drop(labels=labels_to_drop, axis=1, inplace=True)\n"
   ]
  },
  {
   "cell_type": "markdown",
   "metadata": {
    "colab_type": "text",
    "id": "O77G1K4Waglg"
   },
   "source": [
    "<h2>Training and Evaluating Basic XGBoost Setup</h2>"
   ]
  },
  {
   "cell_type": "code",
   "execution_count": 38,
   "metadata": {
    "colab": {},
    "colab_type": "code",
    "id": "fc9x00_oaglg"
   },
   "outputs": [],
   "source": [
    "## Seperate train features and label\n",
    "\n",
    "y_train = train['label']\n",
    "X_train = train.drop(labels='label', axis=1)\n",
    "\n",
    "X2_train, X2_test, y2_train, y2_test = train_test_split(X_train, y_train, test_size=0.2, random_state=42)\n"
   ]
  },
  {
   "cell_type": "code",
   "execution_count": 39,
   "metadata": {
    "colab": {},
    "colab_type": "code",
    "id": "QBNg9UTjaglk"
   },
   "outputs": [],
   "source": [
    "def XGBmodel(X_train, X_test, y_train, y_test, params):\n",
    "    matrix_train = xgb.DMatrix(X_train, label=y_train)\n",
    "    matrix_test = xgb.DMatrix(X_test, label=y_test)\n",
    "    \n",
    "    model=xgb.train(\n",
    "        params=params,\n",
    "        dtrain=matrix_train,\n",
    "        num_boost_round=5000, \n",
    "        early_stopping_rounds=10,\n",
    "        evals=[(matrix_test, 'test')]\n",
    "    )\n",
    "    \n",
    "    return model\n"
   ]
  },
  {
   "cell_type": "code",
   "execution_count": 42,
   "metadata": {},
   "outputs": [],
   "source": [
    "params = {\n",
    "    'max_depth': 10,\n",
    "    'gamma': 0,\n",
    "    'eta': .03,\n",
    "    'subsample': 1,             # use high value\n",
    "    'colsample_bytree': 0.8,    # use low value\n",
    "    'eval_metric':'rmse',\n",
    "    'silent': 0,\n",
    "    \n",
    "    'booster': 'dart',\n",
    "    'learning_rate': 0.01,\n",
    "    'objective': 'binary:logistic',\n",
    "    'sample_type': 'weighted',\n",
    "    'normalize_type': 'forest',\n",
    "    'rate_drop': 0.2,\n",
    "    'skip_drop': 0.5,\n",
    "    'alpha': 1\n",
    "}\n"
   ]
  },
  {
   "cell_type": "code",
   "execution_count": 43,
   "metadata": {
    "scrolled": true
   },
   "outputs": [
    {
     "name": "stdout",
     "output_type": "stream",
     "text": [
      "[11:34:15] WARNING: /workspace/src/learner.cc:480: \n",
      "Parameters: { silent } might not be used.\n",
      "\n",
      "  This may not be accurate due to some parameters are only used in language bindings but\n",
      "  passed down to XGBoost core.  Or some parameters are not used but slip through this\n",
      "  verification. Please open an issue if you find above cases.\n",
      "\n",
      "\n",
      "[0]\ttest-rmse:0.49571\n",
      "Will train until test-rmse hasn't improved in 10 rounds.\n",
      "[1]\ttest-rmse:0.49147\n",
      "[2]\ttest-rmse:0.48725\n",
      "[3]\ttest-rmse:0.48311\n",
      "[4]\ttest-rmse:0.47899\n",
      "[5]\ttest-rmse:0.47492\n",
      "[6]\ttest-rmse:0.47096\n",
      "[7]\ttest-rmse:0.46705\n",
      "[8]\ttest-rmse:0.46316\n",
      "[9]\ttest-rmse:0.45929\n",
      "[10]\ttest-rmse:0.45547\n",
      "[11]\ttest-rmse:0.45176\n",
      "[12]\ttest-rmse:0.44806\n",
      "[13]\ttest-rmse:0.44443\n",
      "[14]\ttest-rmse:0.44084\n",
      "[15]\ttest-rmse:0.43722\n",
      "[16]\ttest-rmse:0.43363\n",
      "[17]\ttest-rmse:0.43013\n",
      "[18]\ttest-rmse:0.42664\n",
      "[19]\ttest-rmse:0.42323\n",
      "[20]\ttest-rmse:0.41979\n",
      "[21]\ttest-rmse:0.41649\n",
      "[22]\ttest-rmse:0.41322\n",
      "[23]\ttest-rmse:0.40997\n",
      "[24]\ttest-rmse:0.40673\n",
      "[25]\ttest-rmse:0.40359\n",
      "[26]\ttest-rmse:0.40041\n",
      "[27]\ttest-rmse:0.39727\n",
      "[28]\ttest-rmse:0.39416\n",
      "[29]\ttest-rmse:0.39115\n",
      "[30]\ttest-rmse:0.38811\n",
      "[31]\ttest-rmse:0.38512\n",
      "[32]\ttest-rmse:0.38217\n",
      "[33]\ttest-rmse:0.37937\n",
      "[34]\ttest-rmse:0.37663\n",
      "[35]\ttest-rmse:0.37389\n",
      "[36]\ttest-rmse:0.37104\n",
      "[37]\ttest-rmse:0.36827\n",
      "[38]\ttest-rmse:0.36553\n",
      "[39]\ttest-rmse:0.36281\n",
      "[40]\ttest-rmse:0.36022\n",
      "[41]\ttest-rmse:0.35757\n",
      "[42]\ttest-rmse:0.35492\n",
      "[43]\ttest-rmse:0.35234\n",
      "[44]\ttest-rmse:0.34979\n",
      "[45]\ttest-rmse:0.34736\n",
      "[46]\ttest-rmse:0.34487\n",
      "[47]\ttest-rmse:0.34255\n",
      "[48]\ttest-rmse:0.34025\n",
      "[49]\ttest-rmse:0.33796\n",
      "[50]\ttest-rmse:0.33572\n",
      "[51]\ttest-rmse:0.33338\n",
      "[52]\ttest-rmse:0.33123\n",
      "[53]\ttest-rmse:0.32894\n",
      "[54]\ttest-rmse:0.32681\n",
      "[55]\ttest-rmse:0.32473\n",
      "[56]\ttest-rmse:0.32252\n",
      "[57]\ttest-rmse:0.32033\n",
      "[58]\ttest-rmse:0.31818\n",
      "[59]\ttest-rmse:0.31621\n",
      "[60]\ttest-rmse:0.31428\n",
      "[61]\ttest-rmse:0.31218\n",
      "[62]\ttest-rmse:0.31033\n",
      "[63]\ttest-rmse:0.30832\n",
      "[64]\ttest-rmse:0.30654\n",
      "[65]\ttest-rmse:0.30456\n",
      "[66]\ttest-rmse:0.30279\n",
      "[67]\ttest-rmse:0.30111\n",
      "[68]\ttest-rmse:0.29934\n",
      "[69]\ttest-rmse:0.29746\n",
      "[70]\ttest-rmse:0.29562\n",
      "[71]\ttest-rmse:0.29397\n",
      "[72]\ttest-rmse:0.29237\n",
      "[73]\ttest-rmse:0.29058\n",
      "[74]\ttest-rmse:0.28904\n",
      "[75]\ttest-rmse:0.28730\n",
      "[76]\ttest-rmse:0.28572\n",
      "[77]\ttest-rmse:0.28425\n",
      "[78]\ttest-rmse:0.28257\n",
      "[79]\ttest-rmse:0.28090\n",
      "[80]\ttest-rmse:0.27927\n",
      "[81]\ttest-rmse:0.27765\n",
      "[82]\ttest-rmse:0.27607\n",
      "[83]\ttest-rmse:0.27448\n",
      "[84]\ttest-rmse:0.27291\n",
      "[85]\ttest-rmse:0.27138\n",
      "[86]\ttest-rmse:0.27004\n",
      "[87]\ttest-rmse:0.26877\n",
      "[88]\ttest-rmse:0.26754\n",
      "[89]\ttest-rmse:0.26607\n",
      "[90]\ttest-rmse:0.26463\n",
      "[91]\ttest-rmse:0.26345\n",
      "[92]\ttest-rmse:0.26226\n",
      "[93]\ttest-rmse:0.26104\n",
      "[94]\ttest-rmse:0.25989\n",
      "[95]\ttest-rmse:0.25854\n",
      "[96]\ttest-rmse:0.25741\n",
      "[97]\ttest-rmse:0.25627\n",
      "[98]\ttest-rmse:0.25497\n",
      "[99]\ttest-rmse:0.25387\n",
      "[100]\ttest-rmse:0.25288\n",
      "[101]\ttest-rmse:0.25163\n",
      "[102]\ttest-rmse:0.25060\n",
      "[103]\ttest-rmse:0.24964\n",
      "[104]\ttest-rmse:0.24867\n",
      "[105]\ttest-rmse:0.24774\n",
      "[106]\ttest-rmse:0.24656\n",
      "[107]\ttest-rmse:0.24539\n",
      "[108]\ttest-rmse:0.24425\n",
      "[109]\ttest-rmse:0.24336\n",
      "[110]\ttest-rmse:0.24250\n",
      "[111]\ttest-rmse:0.24140\n",
      "[112]\ttest-rmse:0.24033\n",
      "[113]\ttest-rmse:0.23948\n",
      "[114]\ttest-rmse:0.23843\n",
      "[115]\ttest-rmse:0.23740\n",
      "[116]\ttest-rmse:0.23661\n",
      "[117]\ttest-rmse:0.23562\n",
      "[118]\ttest-rmse:0.23462\n",
      "[119]\ttest-rmse:0.23387\n",
      "[120]\ttest-rmse:0.23304\n",
      "[121]\ttest-rmse:0.23236\n",
      "[122]\ttest-rmse:0.23141\n",
      "[123]\ttest-rmse:0.23073\n",
      "[124]\ttest-rmse:0.23001\n",
      "[125]\ttest-rmse:0.22912\n",
      "[126]\ttest-rmse:0.22821\n",
      "[127]\ttest-rmse:0.22735\n",
      "[128]\ttest-rmse:0.22664\n",
      "[129]\ttest-rmse:0.22580\n",
      "[130]\ttest-rmse:0.22519\n",
      "[131]\ttest-rmse:0.22437\n",
      "[132]\ttest-rmse:0.22375\n",
      "[133]\ttest-rmse:0.22295\n",
      "[134]\ttest-rmse:0.22236\n",
      "[135]\ttest-rmse:0.22158\n",
      "[136]\ttest-rmse:0.22082\n",
      "[137]\ttest-rmse:0.22006\n",
      "[138]\ttest-rmse:0.21956\n",
      "[139]\ttest-rmse:0.21882\n",
      "[140]\ttest-rmse:0.21810\n",
      "[141]\ttest-rmse:0.21757\n",
      "[142]\ttest-rmse:0.21702\n",
      "[143]\ttest-rmse:0.21646\n",
      "[144]\ttest-rmse:0.21576\n",
      "[145]\ttest-rmse:0.21509\n",
      "[146]\ttest-rmse:0.21460\n",
      "[147]\ttest-rmse:0.21413\n",
      "[148]\ttest-rmse:0.21347\n",
      "[149]\ttest-rmse:0.21285\n",
      "[150]\ttest-rmse:0.21225\n",
      "[151]\ttest-rmse:0.21166\n",
      "[152]\ttest-rmse:0.21120\n",
      "[153]\ttest-rmse:0.21080\n",
      "[154]\ttest-rmse:0.21032\n",
      "[155]\ttest-rmse:0.20990\n",
      "[156]\ttest-rmse:0.20950\n",
      "[157]\ttest-rmse:0.20894\n",
      "[158]\ttest-rmse:0.20858\n",
      "[159]\ttest-rmse:0.20802\n",
      "[160]\ttest-rmse:0.20749\n",
      "[161]\ttest-rmse:0.20717\n",
      "[162]\ttest-rmse:0.20663\n",
      "[163]\ttest-rmse:0.20611\n",
      "[164]\ttest-rmse:0.20577\n",
      "[165]\ttest-rmse:0.20545\n",
      "[166]\ttest-rmse:0.20504\n",
      "[167]\ttest-rmse:0.20453\n",
      "[168]\ttest-rmse:0.20406\n",
      "[169]\ttest-rmse:0.20370\n",
      "[170]\ttest-rmse:0.20322\n",
      "[171]\ttest-rmse:0.20274\n",
      "[172]\ttest-rmse:0.20247\n",
      "[173]\ttest-rmse:0.20202\n",
      "[174]\ttest-rmse:0.20156\n",
      "[175]\ttest-rmse:0.20112\n",
      "[176]\ttest-rmse:0.20069\n",
      "[177]\ttest-rmse:0.20025\n",
      "[178]\ttest-rmse:0.19982\n",
      "[179]\ttest-rmse:0.19959\n",
      "[180]\ttest-rmse:0.19932\n",
      "[181]\ttest-rmse:0.19904\n",
      "[182]\ttest-rmse:0.19863\n",
      "[183]\ttest-rmse:0.19824\n",
      "[184]\ttest-rmse:0.19800\n",
      "[185]\ttest-rmse:0.19773\n",
      "[186]\ttest-rmse:0.19734\n",
      "[187]\ttest-rmse:0.19696\n",
      "[188]\ttest-rmse:0.19659\n",
      "[189]\ttest-rmse:0.19639\n",
      "[190]\ttest-rmse:0.19618\n",
      "[191]\ttest-rmse:0.19584\n",
      "[192]\ttest-rmse:0.19565\n",
      "[193]\ttest-rmse:0.19531\n",
      "[194]\ttest-rmse:0.19498\n",
      "[195]\ttest-rmse:0.19465\n",
      "[196]\ttest-rmse:0.19432\n",
      "[197]\ttest-rmse:0.19400\n",
      "[198]\ttest-rmse:0.19382\n",
      "[199]\ttest-rmse:0.19352\n",
      "[200]\ttest-rmse:0.19321\n",
      "[201]\ttest-rmse:0.19307\n",
      "[202]\ttest-rmse:0.19292\n",
      "[203]\ttest-rmse:0.19262\n",
      "[204]\ttest-rmse:0.19235\n",
      "[205]\ttest-rmse:0.19207\n",
      "[206]\ttest-rmse:0.19179\n",
      "[207]\ttest-rmse:0.19154\n",
      "[208]\ttest-rmse:0.19137\n",
      "[209]\ttest-rmse:0.19112\n",
      "[210]\ttest-rmse:0.19100\n",
      "[211]\ttest-rmse:0.19074\n",
      "[212]\ttest-rmse:0.19059\n",
      "[213]\ttest-rmse:0.19043\n",
      "[214]\ttest-rmse:0.19031\n",
      "[215]\ttest-rmse:0.19009\n",
      "[216]\ttest-rmse:0.18986\n",
      "[217]\ttest-rmse:0.18974\n",
      "[218]\ttest-rmse:0.18950\n",
      "[219]\ttest-rmse:0.18936\n",
      "[220]\ttest-rmse:0.18924\n",
      "[221]\ttest-rmse:0.18913\n",
      "[222]\ttest-rmse:0.18904\n",
      "[223]\ttest-rmse:0.18893\n",
      "[224]\ttest-rmse:0.18871\n",
      "[225]\ttest-rmse:0.18850\n",
      "[226]\ttest-rmse:0.18841\n",
      "[227]\ttest-rmse:0.18823\n",
      "[228]\ttest-rmse:0.18805\n",
      "[229]\ttest-rmse:0.18787\n",
      "[230]\ttest-rmse:0.18778\n",
      "[231]\ttest-rmse:0.18757\n",
      "[232]\ttest-rmse:0.18749\n",
      "[233]\ttest-rmse:0.18738\n",
      "[234]\ttest-rmse:0.18730\n",
      "[235]\ttest-rmse:0.18713\n",
      "[236]\ttest-rmse:0.18701\n",
      "[237]\ttest-rmse:0.18692\n",
      "[238]\ttest-rmse:0.18687\n",
      "[239]\ttest-rmse:0.18678\n",
      "[240]\ttest-rmse:0.18671\n",
      "[241]\ttest-rmse:0.18654\n",
      "[242]\ttest-rmse:0.18645\n",
      "[243]\ttest-rmse:0.18629\n",
      "[244]\ttest-rmse:0.18613\n",
      "[245]\ttest-rmse:0.18606\n",
      "[246]\ttest-rmse:0.18590\n",
      "[247]\ttest-rmse:0.18574\n",
      "[248]\ttest-rmse:0.18558\n",
      "[249]\ttest-rmse:0.18543\n",
      "[250]\ttest-rmse:0.18529\n",
      "[251]\ttest-rmse:0.18512\n",
      "[252]\ttest-rmse:0.18499\n",
      "[253]\ttest-rmse:0.18493\n",
      "[254]\ttest-rmse:0.18479\n",
      "[255]\ttest-rmse:0.18466\n",
      "[256]\ttest-rmse:0.18454\n",
      "[257]\ttest-rmse:0.18449\n",
      "[258]\ttest-rmse:0.18444\n",
      "[259]\ttest-rmse:0.18431\n",
      "[260]\ttest-rmse:0.18427\n",
      "[261]\ttest-rmse:0.18414\n",
      "[262]\ttest-rmse:0.18402\n",
      "[263]\ttest-rmse:0.18399\n",
      "[264]\ttest-rmse:0.18388\n",
      "[265]\ttest-rmse:0.18386\n",
      "[266]\ttest-rmse:0.18375\n",
      "[267]\ttest-rmse:0.18370\n",
      "[268]\ttest-rmse:0.18366\n",
      "[269]\ttest-rmse:0.18355\n",
      "[270]\ttest-rmse:0.18343\n",
      "[271]\ttest-rmse:0.18339\n",
      "[272]\ttest-rmse:0.18330\n",
      "[273]\ttest-rmse:0.18321\n",
      "[274]\ttest-rmse:0.18315\n",
      "[275]\ttest-rmse:0.18305\n",
      "[276]\ttest-rmse:0.18302\n",
      "[277]\ttest-rmse:0.18299\n",
      "[278]\ttest-rmse:0.18295\n",
      "[279]\ttest-rmse:0.18293\n",
      "[280]\ttest-rmse:0.18292\n",
      "[281]\ttest-rmse:0.18288\n",
      "[282]\ttest-rmse:0.18277\n",
      "[283]\ttest-rmse:0.18274\n",
      "[284]\ttest-rmse:0.18264\n",
      "[285]\ttest-rmse:0.18257\n",
      "[286]\ttest-rmse:0.18252\n",
      "[287]\ttest-rmse:0.18247\n",
      "[288]\ttest-rmse:0.18237\n",
      "[289]\ttest-rmse:0.18227\n",
      "[290]\ttest-rmse:0.18222\n",
      "[291]\ttest-rmse:0.18220\n",
      "[292]\ttest-rmse:0.18216\n",
      "[293]\ttest-rmse:0.18209\n",
      "[294]\ttest-rmse:0.18202\n",
      "[295]\ttest-rmse:0.18191\n",
      "[296]\ttest-rmse:0.18183\n",
      "[297]\ttest-rmse:0.18176\n",
      "[298]\ttest-rmse:0.18175\n",
      "[299]\ttest-rmse:0.18171\n",
      "[300]\ttest-rmse:0.18166\n",
      "[301]\ttest-rmse:0.18166\n",
      "[302]\ttest-rmse:0.18161\n",
      "[303]\ttest-rmse:0.18158\n",
      "[304]\ttest-rmse:0.18155\n",
      "[305]\ttest-rmse:0.18145\n",
      "[306]\ttest-rmse:0.18145\n",
      "[307]\ttest-rmse:0.18138\n",
      "[308]\ttest-rmse:0.18133\n",
      "[309]\ttest-rmse:0.18130\n",
      "[310]\ttest-rmse:0.18128\n",
      "[311]\ttest-rmse:0.18121\n",
      "[312]\ttest-rmse:0.18119\n",
      "[313]\ttest-rmse:0.18117\n",
      "[314]\ttest-rmse:0.18117\n",
      "[315]\ttest-rmse:0.18114\n",
      "[316]\ttest-rmse:0.18111\n",
      "[317]\ttest-rmse:0.18105\n",
      "[318]\ttest-rmse:0.18099\n",
      "[319]\ttest-rmse:0.18095\n",
      "[320]\ttest-rmse:0.18087\n",
      "[321]\ttest-rmse:0.18081\n",
      "[322]\ttest-rmse:0.18077\n",
      "[323]\ttest-rmse:0.18074\n",
      "[324]\ttest-rmse:0.18068\n",
      "[325]\ttest-rmse:0.18065\n",
      "[326]\ttest-rmse:0.18061\n",
      "[327]\ttest-rmse:0.18056\n",
      "[328]\ttest-rmse:0.18056\n",
      "[329]\ttest-rmse:0.18055\n"
     ]
    },
    {
     "name": "stdout",
     "output_type": "stream",
     "text": [
      "[330]\ttest-rmse:0.18049\n",
      "[331]\ttest-rmse:0.18043\n",
      "[332]\ttest-rmse:0.18042\n",
      "[333]\ttest-rmse:0.18038\n",
      "[334]\ttest-rmse:0.18033\n",
      "[335]\ttest-rmse:0.18032\n",
      "[336]\ttest-rmse:0.18029\n",
      "[337]\ttest-rmse:0.18026\n",
      "[338]\ttest-rmse:0.18026\n",
      "[339]\ttest-rmse:0.18025\n",
      "[340]\ttest-rmse:0.18021\n",
      "[341]\ttest-rmse:0.18015\n",
      "[342]\ttest-rmse:0.18010\n",
      "[343]\ttest-rmse:0.18011\n",
      "[344]\ttest-rmse:0.18009\n",
      "[345]\ttest-rmse:0.18004\n",
      "[346]\ttest-rmse:0.18002\n",
      "[347]\ttest-rmse:0.18000\n",
      "[348]\ttest-rmse:0.17995\n",
      "[349]\ttest-rmse:0.17991\n",
      "[350]\ttest-rmse:0.17989\n",
      "[351]\ttest-rmse:0.17983\n",
      "[352]\ttest-rmse:0.17978\n",
      "[353]\ttest-rmse:0.17972\n",
      "[354]\ttest-rmse:0.17969\n",
      "[355]\ttest-rmse:0.17969\n",
      "[356]\ttest-rmse:0.17966\n",
      "[357]\ttest-rmse:0.17959\n",
      "[358]\ttest-rmse:0.17955\n",
      "[359]\ttest-rmse:0.17954\n",
      "[360]\ttest-rmse:0.17951\n",
      "[361]\ttest-rmse:0.17944\n",
      "[362]\ttest-rmse:0.17944\n",
      "[363]\ttest-rmse:0.17943\n",
      "[364]\ttest-rmse:0.17939\n",
      "[365]\ttest-rmse:0.17939\n",
      "[366]\ttest-rmse:0.17937\n",
      "[367]\ttest-rmse:0.17933\n",
      "[368]\ttest-rmse:0.17930\n",
      "[369]\ttest-rmse:0.17927\n",
      "[370]\ttest-rmse:0.17925\n",
      "[371]\ttest-rmse:0.17922\n",
      "[372]\ttest-rmse:0.17923\n",
      "[373]\ttest-rmse:0.17919\n",
      "[374]\ttest-rmse:0.17918\n",
      "[375]\ttest-rmse:0.17914\n",
      "[376]\ttest-rmse:0.17913\n",
      "[377]\ttest-rmse:0.17911\n",
      "[378]\ttest-rmse:0.17913\n",
      "[379]\ttest-rmse:0.17911\n",
      "[380]\ttest-rmse:0.17907\n",
      "[381]\ttest-rmse:0.17905\n",
      "[382]\ttest-rmse:0.17902\n",
      "[383]\ttest-rmse:0.17904\n",
      "[384]\ttest-rmse:0.17903\n",
      "[385]\ttest-rmse:0.17901\n",
      "[386]\ttest-rmse:0.17898\n",
      "[387]\ttest-rmse:0.17898\n",
      "[388]\ttest-rmse:0.17898\n",
      "[389]\ttest-rmse:0.17895\n",
      "[390]\ttest-rmse:0.17893\n",
      "[391]\ttest-rmse:0.17892\n",
      "[392]\ttest-rmse:0.17888\n",
      "[393]\ttest-rmse:0.17886\n",
      "[394]\ttest-rmse:0.17884\n",
      "[395]\ttest-rmse:0.17883\n",
      "[396]\ttest-rmse:0.17882\n",
      "[397]\ttest-rmse:0.17880\n",
      "[398]\ttest-rmse:0.17878\n",
      "[399]\ttest-rmse:0.17875\n",
      "[400]\ttest-rmse:0.17876\n",
      "[401]\ttest-rmse:0.17874\n",
      "[402]\ttest-rmse:0.17873\n",
      "[403]\ttest-rmse:0.17872\n",
      "[404]\ttest-rmse:0.17869\n",
      "[405]\ttest-rmse:0.17868\n",
      "[406]\ttest-rmse:0.17869\n",
      "[407]\ttest-rmse:0.17870\n",
      "[408]\ttest-rmse:0.17869\n",
      "[409]\ttest-rmse:0.17870\n",
      "[410]\ttest-rmse:0.17870\n",
      "[411]\ttest-rmse:0.17869\n",
      "[412]\ttest-rmse:0.17866\n",
      "[413]\ttest-rmse:0.17864\n",
      "[414]\ttest-rmse:0.17863\n",
      "[415]\ttest-rmse:0.17863\n",
      "[416]\ttest-rmse:0.17863\n",
      "[417]\ttest-rmse:0.17864\n",
      "[418]\ttest-rmse:0.17865\n",
      "[419]\ttest-rmse:0.17863\n",
      "[420]\ttest-rmse:0.17864\n",
      "[421]\ttest-rmse:0.17861\n",
      "[422]\ttest-rmse:0.17860\n",
      "[423]\ttest-rmse:0.17857\n",
      "[424]\ttest-rmse:0.17859\n",
      "[425]\ttest-rmse:0.17858\n",
      "[426]\ttest-rmse:0.17857\n",
      "[427]\ttest-rmse:0.17855\n",
      "[428]\ttest-rmse:0.17855\n",
      "[429]\ttest-rmse:0.17855\n",
      "[430]\ttest-rmse:0.17856\n",
      "[431]\ttest-rmse:0.17854\n",
      "[432]\ttest-rmse:0.17855\n",
      "[433]\ttest-rmse:0.17853\n",
      "[434]\ttest-rmse:0.17853\n",
      "[435]\ttest-rmse:0.17853\n",
      "[436]\ttest-rmse:0.17850\n",
      "[437]\ttest-rmse:0.17851\n",
      "[438]\ttest-rmse:0.17848\n",
      "[439]\ttest-rmse:0.17846\n",
      "[440]\ttest-rmse:0.17844\n",
      "[441]\ttest-rmse:0.17840\n",
      "[442]\ttest-rmse:0.17839\n",
      "[443]\ttest-rmse:0.17836\n",
      "[444]\ttest-rmse:0.17835\n",
      "[445]\ttest-rmse:0.17834\n",
      "[446]\ttest-rmse:0.17833\n",
      "[447]\ttest-rmse:0.17833\n",
      "[448]\ttest-rmse:0.17833\n",
      "[449]\ttest-rmse:0.17830\n",
      "[450]\ttest-rmse:0.17830\n",
      "[451]\ttest-rmse:0.17829\n",
      "[452]\ttest-rmse:0.17826\n",
      "[453]\ttest-rmse:0.17826\n",
      "[454]\ttest-rmse:0.17827\n",
      "[455]\ttest-rmse:0.17830\n",
      "[456]\ttest-rmse:0.17827\n",
      "[457]\ttest-rmse:0.17826\n",
      "[458]\ttest-rmse:0.17823\n",
      "[459]\ttest-rmse:0.17824\n",
      "[460]\ttest-rmse:0.17825\n",
      "[461]\ttest-rmse:0.17824\n",
      "[462]\ttest-rmse:0.17823\n",
      "[463]\ttest-rmse:0.17822\n",
      "[464]\ttest-rmse:0.17821\n",
      "[465]\ttest-rmse:0.17818\n",
      "[466]\ttest-rmse:0.17814\n",
      "[467]\ttest-rmse:0.17816\n",
      "[468]\ttest-rmse:0.17815\n",
      "[469]\ttest-rmse:0.17812\n",
      "[470]\ttest-rmse:0.17808\n",
      "[471]\ttest-rmse:0.17806\n",
      "[472]\ttest-rmse:0.17805\n",
      "[473]\ttest-rmse:0.17803\n",
      "[474]\ttest-rmse:0.17801\n",
      "[475]\ttest-rmse:0.17800\n",
      "[476]\ttest-rmse:0.17798\n",
      "[477]\ttest-rmse:0.17797\n",
      "[478]\ttest-rmse:0.17798\n",
      "[479]\ttest-rmse:0.17800\n",
      "[480]\ttest-rmse:0.17797\n",
      "[481]\ttest-rmse:0.17795\n",
      "[482]\ttest-rmse:0.17792\n",
      "[483]\ttest-rmse:0.17789\n",
      "[484]\ttest-rmse:0.17788\n",
      "[485]\ttest-rmse:0.17786\n",
      "[486]\ttest-rmse:0.17785\n",
      "[487]\ttest-rmse:0.17781\n",
      "[488]\ttest-rmse:0.17780\n",
      "[489]\ttest-rmse:0.17779\n",
      "[490]\ttest-rmse:0.17777\n",
      "[491]\ttest-rmse:0.17777\n",
      "[492]\ttest-rmse:0.17773\n",
      "[493]\ttest-rmse:0.17771\n",
      "[494]\ttest-rmse:0.17770\n",
      "[495]\ttest-rmse:0.17771\n",
      "[496]\ttest-rmse:0.17770\n",
      "[497]\ttest-rmse:0.17771\n",
      "[498]\ttest-rmse:0.17770\n",
      "[499]\ttest-rmse:0.17771\n",
      "[500]\ttest-rmse:0.17768\n",
      "[501]\ttest-rmse:0.17766\n",
      "[502]\ttest-rmse:0.17765\n",
      "[503]\ttest-rmse:0.17763\n",
      "[504]\ttest-rmse:0.17763\n",
      "[505]\ttest-rmse:0.17761\n",
      "[506]\ttest-rmse:0.17761\n",
      "[507]\ttest-rmse:0.17759\n",
      "[508]\ttest-rmse:0.17759\n",
      "[509]\ttest-rmse:0.17758\n",
      "[510]\ttest-rmse:0.17760\n",
      "[511]\ttest-rmse:0.17758\n",
      "[512]\ttest-rmse:0.17759\n",
      "[513]\ttest-rmse:0.17757\n",
      "[514]\ttest-rmse:0.17757\n",
      "[515]\ttest-rmse:0.17757\n",
      "[516]\ttest-rmse:0.17758\n",
      "[517]\ttest-rmse:0.17758\n",
      "[518]\ttest-rmse:0.17757\n",
      "[519]\ttest-rmse:0.17757\n",
      "[520]\ttest-rmse:0.17758\n",
      "[521]\ttest-rmse:0.17759\n",
      "[522]\ttest-rmse:0.17758\n",
      "[523]\ttest-rmse:0.17757\n",
      "[524]\ttest-rmse:0.17755\n",
      "[525]\ttest-rmse:0.17755\n",
      "[526]\ttest-rmse:0.17755\n",
      "[527]\ttest-rmse:0.17754\n",
      "[528]\ttest-rmse:0.17753\n",
      "[529]\ttest-rmse:0.17753\n",
      "[530]\ttest-rmse:0.17753\n",
      "[531]\ttest-rmse:0.17753\n",
      "[532]\ttest-rmse:0.17749\n",
      "[533]\ttest-rmse:0.17750\n",
      "[534]\ttest-rmse:0.17750\n",
      "[535]\ttest-rmse:0.17751\n",
      "[536]\ttest-rmse:0.17752\n",
      "[537]\ttest-rmse:0.17753\n",
      "[538]\ttest-rmse:0.17752\n",
      "[539]\ttest-rmse:0.17751\n",
      "[540]\ttest-rmse:0.17751\n",
      "[541]\ttest-rmse:0.17752\n",
      "[542]\ttest-rmse:0.17752\n",
      "Stopping. Best iteration:\n",
      "[532]\ttest-rmse:0.17749\n",
      "\n"
     ]
    }
   ],
   "source": [
    "model = XGBmodel(X2_train, X2_test, y2_train, y2_test, params)\n"
   ]
  },
  {
   "cell_type": "code",
   "execution_count": null,
   "metadata": {
    "scrolled": true
   },
   "outputs": [],
   "source": []
  },
  {
   "cell_type": "markdown",
   "metadata": {},
   "source": [
    "<h2>Predicting and Preparing Submission</h2>"
   ]
  },
  {
   "cell_type": "code",
   "execution_count": 44,
   "metadata": {},
   "outputs": [],
   "source": [
    "trip_ids = test.tripid\n",
    "\n",
    "labels_to_drop = [\n",
    "    'tripid',\n",
    "    'pick_lat',\n",
    "    'pick_lon',\n",
    "    'drop_lat',\n",
    "    'drop_lon',\n",
    "    'pickup_time',\n",
    "    'drop_time',\n",
    "\n",
    "#     'fare_hour',\n",
    "#     'is_weekend'\n",
    "    \n",
    "#     'trip_distance',\n",
    "#     'fare_to_duration',\n",
    "#     'trip_duration',\n",
    "#     'distance_to_duration',\n",
    "#     'duration_error',\n",
    "#     'meter_waiting_till_pickup',\n",
    "#     'additional_fare'\n",
    "]\n",
    "\n",
    "test = test.drop(labels=labels_to_drop, axis=1)\n"
   ]
  },
  {
   "cell_type": "code",
   "execution_count": 47,
   "metadata": {},
   "outputs": [],
   "source": [
    "predictions = model.predict(xgb.DMatrix(test), ntree_limit = model.best_ntree_limit).tolist()\n",
    "\n",
    "# round predictions\n",
    "pred_rounded = []\n",
    "\n",
    "for pred in predictions:\n",
    "    if pred > 0.5:\n",
    "        pred_rounded.append(1)\n",
    "    else:\n",
    "        pred_rounded.append(0)\n",
    "\n",
    "#     pred_rounded.append(round(pred))\n"
   ]
  },
  {
   "cell_type": "code",
   "execution_count": 48,
   "metadata": {},
   "outputs": [
    {
     "data": {
      "text/plain": [
       "{0: 458, 1: 8118}"
      ]
     },
     "execution_count": 48,
     "metadata": {},
     "output_type": "execute_result"
    }
   ],
   "source": [
    "unique, count = np.unique(pred_rounded, return_counts=True)\n",
    "{k:v for (k,v) in zip(unique, count)}\n"
   ]
  },
  {
   "cell_type": "code",
   "execution_count": null,
   "metadata": {},
   "outputs": [],
   "source": []
  },
  {
   "cell_type": "code",
   "execution_count": null,
   "metadata": {},
   "outputs": [],
   "source": []
  },
  {
   "cell_type": "code",
   "execution_count": 49,
   "metadata": {},
   "outputs": [
    {
     "name": "stdout",
     "output_type": "stream",
     "text": [
      "Completed!\n"
     ]
    }
   ],
   "source": [
    "output = pd.DataFrame({'tripid': trip_ids, 'prediction': pred_rounded})\n",
    "output.to_csv('../../submissions/160253h_submission_37.csv', index=False)\n",
    "print('Completed!')\n",
    "\n",
    "# # output = pd.DataFrame({'tripid': trip_ids, 'prediction': predictions})\n",
    "# # output.to_csv('160253h_submission_37.csv', index=False)\n",
    "\n",
    "# # !cp '160253h_submission_37.csv' \"drive/My Drive/ML/submissions/\"\n",
    "\n",
    "# # print('Completed!')\n"
   ]
  },
  {
   "cell_type": "code",
   "execution_count": 0,
   "metadata": {
    "colab": {},
    "colab_type": "code",
    "id": "MPBCAWHDagnC"
   },
   "outputs": [],
   "source": []
  },
  {
   "cell_type": "markdown",
   "metadata": {
    "colab_type": "text",
    "id": "WLiWogtxagnE"
   },
   "source": [
    "model training.\n",
    "\n",
    "with feature engineering (added more new features).\n",
    "\n",
    "datetime columns and coordinates have dropped (new features added).\n",
    "\n",
    "clustering features.\n",
    "\n",
    "submissions:\n",
    "\n",
    "===============================================================================\n",
    "\n",
    "(imputing missing values)\n",
    "\n",
    "[model: XGBoost (regression)]\n",
    "\n",
    "'objective': 'reg:logistic' | colsample_bytree: 0.8 | alpha: 1 | weighted | forest | threshold: 0.56\n",
    "\n",
    "160253h_submission_35.csv\n",
    "\n",
    "score: 0.97915\n"
   ]
  },
  {
   "cell_type": "code",
   "execution_count": 0,
   "metadata": {
    "colab": {},
    "colab_type": "code",
    "id": "8w2qmiRtagnE"
   },
   "outputs": [],
   "source": []
  }
 ],
 "metadata": {
  "colab": {
   "collapsed_sections": [],
   "name": "15_fare_classification_with_---_added_new_features_xgboost_letting_missing_values.ipynb",
   "provenance": []
  },
  "kernelspec": {
   "display_name": "Python 3",
   "language": "python",
   "name": "python3"
  },
  "language_info": {
   "codemirror_mode": {
    "name": "ipython",
    "version": 3
   },
   "file_extension": ".py",
   "mimetype": "text/x-python",
   "name": "python",
   "nbconvert_exporter": "python",
   "pygments_lexer": "ipython3",
   "version": "3.6.9"
  }
 },
 "nbformat": 4,
 "nbformat_minor": 1
}
