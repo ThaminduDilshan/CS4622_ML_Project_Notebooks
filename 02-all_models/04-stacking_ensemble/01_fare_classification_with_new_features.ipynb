{
 "cells": [
  {
   "cell_type": "code",
   "execution_count": 0,
   "metadata": {
    "colab": {},
    "colab_type": "code",
    "id": "nIItSWUi_zk9"
   },
   "outputs": [],
   "source": [
    "from google.colab import drive\n",
    "drive.mount('/content/drive')"
   ]
  },
  {
   "cell_type": "markdown",
   "metadata": {
    "colab_type": "text",
    "id": "B5_sLpLNBD8E"
   },
   "source": [
    "## Importing Libraries and Modules"
   ]
  },
  {
   "cell_type": "code",
   "execution_count": 0,
   "metadata": {
    "colab": {},
    "colab_type": "code",
    "id": "P2RH-otqA87Y"
   },
   "outputs": [],
   "source": [
    "import warnings\n",
    "warnings.filterwarnings('ignore')\n",
    "\n",
    "import pandas as pd\n",
    "import numpy as np\n",
    "from matplotlib import pyplot as plt\n",
    "\n",
    "from geopy.distance import great_circle\n",
    "import datetime\n",
    "import os\n",
    "\n",
    "from sklearn.preprocessing import MinMaxScaler\n",
    "from sklearn.experimental import enable_iterative_imputer\n",
    "from sklearn.impute import IterativeImputer, KNNImputer\n",
    "\n",
    "from sklearn.feature_selection import SelectKBest\n",
    "from sklearn.feature_selection import chi2\n",
    "from sklearn.model_selection import train_test_split\n",
    "\n",
    "from numpy import loadtxt\n",
    "from keras.models import Sequential\n",
    "from keras.layers import Dense\n",
    "from keras.layers import Dropout\n",
    "import keras.backend as K\n",
    "from keras.callbacks import EarlyStopping\n",
    "from keras.callbacks import ModelCheckpoint\n",
    "from keras.models import load_model\n",
    "from keras.utils import to_categorical\n",
    "from keras.utils import plot_model\n",
    "from keras.models import Model\n",
    "from keras.layers import Input\n",
    "from keras.layers.merge import concatenate\n",
    "from numpy import argmax\n",
    "from numpy import dstack\n",
    "\n",
    "from sklearn.model_selection import GridSearchCV, cross_val_score, StratifiedKFold, learning_curve, RandomizedSearchCV\n",
    "from sklearn.linear_model import LogisticRegression\n",
    "from sklearn.ensemble import RandomForestClassifier\n",
    "from sklearn.metrics import accuracy_score\n",
    "\n",
    "from sklearn.utils import class_weight\n",
    "from imblearn.over_sampling import SMOTE\n"
   ]
  },
  {
   "cell_type": "markdown",
   "metadata": {
    "colab_type": "text",
    "id": "1uIU6swyBTt5"
   },
   "source": [
    "## Loading the Datasets"
   ]
  },
  {
   "cell_type": "code",
   "execution_count": 0,
   "metadata": {
    "colab": {},
    "colab_type": "code",
    "id": "p4CvDRT4AgmZ"
   },
   "outputs": [],
   "source": [
    "## Loading the Datasets\n",
    "train = pd.read_csv('drive/My Drive/ML/data/weka_processed/train_pro.csv')\n",
    "test = pd.read_csv('drive/My Drive/ML/data/test.csv')\n"
   ]
  },
  {
   "cell_type": "markdown",
   "metadata": {
    "colab_type": "text",
    "id": "OvGnxohQCLTb"
   },
   "source": [
    "## Basic Intuition on the Data"
   ]
  },
  {
   "cell_type": "code",
   "execution_count": 77,
   "metadata": {
    "colab": {
     "base_uri": "https://localhost:8080/",
     "height": 292
    },
    "colab_type": "code",
    "executionInfo": {
     "elapsed": 2571,
     "status": "ok",
     "timestamp": 1590166801452,
     "user": {
      "displayName": "Thamindu Jayawickrama",
      "photoUrl": "https://lh3.googleusercontent.com/a-/AOh14GjjqO5d7Rx8QIe-jMmmxUH6UihJmmWv_8InY9HO=s64",
      "userId": "13872082558136559787"
     },
     "user_tz": -330
    },
    "id": "5FJAcBb5Bnlc",
    "outputId": "482d5763-9550-4641-b70b-a6e1ca859797"
   },
   "outputs": [
    {
     "data": {
      "text/html": [
       "<div>\n",
       "<style scoped>\n",
       "    .dataframe tbody tr th:only-of-type {\n",
       "        vertical-align: middle;\n",
       "    }\n",
       "\n",
       "    .dataframe tbody tr th {\n",
       "        vertical-align: top;\n",
       "    }\n",
       "\n",
       "    .dataframe thead th {\n",
       "        text-align: right;\n",
       "    }\n",
       "</style>\n",
       "<table border=\"1\" class=\"dataframe\">\n",
       "  <thead>\n",
       "    <tr style=\"text-align: right;\">\n",
       "      <th></th>\n",
       "      <th>tripid</th>\n",
       "      <th>additional_fare</th>\n",
       "      <th>duration</th>\n",
       "      <th>meter_waiting</th>\n",
       "      <th>meter_waiting_fare</th>\n",
       "      <th>meter_waiting_till_pickup</th>\n",
       "      <th>pickup_time</th>\n",
       "      <th>drop_time</th>\n",
       "      <th>pick_lat</th>\n",
       "      <th>pick_lon</th>\n",
       "      <th>drop_lat</th>\n",
       "      <th>drop_lon</th>\n",
       "      <th>fare</th>\n",
       "      <th>label</th>\n",
       "    </tr>\n",
       "  </thead>\n",
       "  <tbody>\n",
       "    <tr>\n",
       "      <th>0</th>\n",
       "      <td>189123628</td>\n",
       "      <td>10.5</td>\n",
       "      <td>834</td>\n",
       "      <td>56</td>\n",
       "      <td>0</td>\n",
       "      <td>64</td>\n",
       "      <td>'11/1/2019 0:20'</td>\n",
       "      <td>'11/1/2019 0:34'</td>\n",
       "      <td>6.86252</td>\n",
       "      <td>79.8993</td>\n",
       "      <td>6.90330</td>\n",
       "      <td>79.8783</td>\n",
       "      <td>270.32</td>\n",
       "      <td>correct</td>\n",
       "    </tr>\n",
       "    <tr>\n",
       "      <th>1</th>\n",
       "      <td>189125358</td>\n",
       "      <td>10.5</td>\n",
       "      <td>791</td>\n",
       "      <td>47</td>\n",
       "      <td>0</td>\n",
       "      <td>134</td>\n",
       "      <td>'11/1/2019 0:56'</td>\n",
       "      <td>'11/1/2019 1:09'</td>\n",
       "      <td>6.88589</td>\n",
       "      <td>79.8984</td>\n",
       "      <td>6.91373</td>\n",
       "      <td>79.8923</td>\n",
       "      <td>197.85</td>\n",
       "      <td>correct</td>\n",
       "    </tr>\n",
       "    <tr>\n",
       "      <th>2</th>\n",
       "      <td>189125719</td>\n",
       "      <td>10.5</td>\n",
       "      <td>1087</td>\n",
       "      <td>80</td>\n",
       "      <td>0</td>\n",
       "      <td>61</td>\n",
       "      <td>'11/1/2019 1:08'</td>\n",
       "      <td>'11/1/2019 1:26'</td>\n",
       "      <td>6.90839</td>\n",
       "      <td>79.8651</td>\n",
       "      <td>6.93669</td>\n",
       "      <td>79.9146</td>\n",
       "      <td>301.64</td>\n",
       "      <td>correct</td>\n",
       "    </tr>\n",
       "    <tr>\n",
       "      <th>3</th>\n",
       "      <td>189127273</td>\n",
       "      <td>10.5</td>\n",
       "      <td>598</td>\n",
       "      <td>271</td>\n",
       "      <td>15.6638</td>\n",
       "      <td>68</td>\n",
       "      <td>'11/1/2019 2:27'</td>\n",
       "      <td>'11/1/2019 2:37'</td>\n",
       "      <td>6.92570</td>\n",
       "      <td>79.8895</td>\n",
       "      <td>6.92748</td>\n",
       "      <td>79.8971</td>\n",
       "      <td>82.3</td>\n",
       "      <td>correct</td>\n",
       "    </tr>\n",
       "    <tr>\n",
       "      <th>4</th>\n",
       "      <td>189128020</td>\n",
       "      <td>?</td>\n",
       "      <td>?</td>\n",
       "      <td>?</td>\n",
       "      <td>?</td>\n",
       "      <td>?</td>\n",
       "      <td>'11/1/2019 3:34'</td>\n",
       "      <td>'11/1/2019 3:51'</td>\n",
       "      <td>6.87441</td>\n",
       "      <td>79.8615</td>\n",
       "      <td>6.84478</td>\n",
       "      <td>79.9290</td>\n",
       "      <td>358.39</td>\n",
       "      <td>correct</td>\n",
       "    </tr>\n",
       "  </tbody>\n",
       "</table>\n",
       "</div>"
      ],
      "text/plain": [
       "      tripid additional_fare duration  ... drop_lon    fare    label\n",
       "0  189123628            10.5      834  ...  79.8783  270.32  correct\n",
       "1  189125358            10.5      791  ...  79.8923  197.85  correct\n",
       "2  189125719            10.5     1087  ...  79.9146  301.64  correct\n",
       "3  189127273            10.5      598  ...  79.8971    82.3  correct\n",
       "4  189128020               ?        ?  ...  79.9290  358.39  correct\n",
       "\n",
       "[5 rows x 14 columns]"
      ]
     },
     "execution_count": 77,
     "metadata": {
      "tags": []
     },
     "output_type": "execute_result"
    }
   ],
   "source": [
    "train.head()"
   ]
  },
  {
   "cell_type": "code",
   "execution_count": 78,
   "metadata": {
    "colab": {
     "base_uri": "https://localhost:8080/",
     "height": 292
    },
    "colab_type": "code",
    "executionInfo": {
     "elapsed": 2495,
     "status": "ok",
     "timestamp": 1590166801453,
     "user": {
      "displayName": "Thamindu Jayawickrama",
      "photoUrl": "https://lh3.googleusercontent.com/a-/AOh14GjjqO5d7Rx8QIe-jMmmxUH6UihJmmWv_8InY9HO=s64",
      "userId": "13872082558136559787"
     },
     "user_tz": -330
    },
    "id": "LSyjWqNHCOMG",
    "outputId": "1dea49fa-c13d-42ec-ac82-6429f8398765"
   },
   "outputs": [
    {
     "data": {
      "text/html": [
       "<div>\n",
       "<style scoped>\n",
       "    .dataframe tbody tr th:only-of-type {\n",
       "        vertical-align: middle;\n",
       "    }\n",
       "\n",
       "    .dataframe tbody tr th {\n",
       "        vertical-align: top;\n",
       "    }\n",
       "\n",
       "    .dataframe thead th {\n",
       "        text-align: right;\n",
       "    }\n",
       "</style>\n",
       "<table border=\"1\" class=\"dataframe\">\n",
       "  <thead>\n",
       "    <tr style=\"text-align: right;\">\n",
       "      <th></th>\n",
       "      <th>tripid</th>\n",
       "      <th>additional_fare</th>\n",
       "      <th>duration</th>\n",
       "      <th>meter_waiting</th>\n",
       "      <th>meter_waiting_fare</th>\n",
       "      <th>meter_waiting_till_pickup</th>\n",
       "      <th>pickup_time</th>\n",
       "      <th>drop_time</th>\n",
       "      <th>pick_lat</th>\n",
       "      <th>pick_lon</th>\n",
       "      <th>drop_lat</th>\n",
       "      <th>drop_lon</th>\n",
       "      <th>fare</th>\n",
       "    </tr>\n",
       "  </thead>\n",
       "  <tbody>\n",
       "    <tr>\n",
       "      <th>0</th>\n",
       "      <td>213284604</td>\n",
       "      <td>10.5</td>\n",
       "      <td>924</td>\n",
       "      <td>42</td>\n",
       "      <td>2.4486</td>\n",
       "      <td>148</td>\n",
       "      <td>2/1/2020 0:38</td>\n",
       "      <td>2/1/2020 0:53</td>\n",
       "      <td>6.83454</td>\n",
       "      <td>79.8750</td>\n",
       "      <td>6.77490</td>\n",
       "      <td>79.8840</td>\n",
       "      <td>289.27</td>\n",
       "    </tr>\n",
       "    <tr>\n",
       "      <th>1</th>\n",
       "      <td>213286352</td>\n",
       "      <td>10.5</td>\n",
       "      <td>4249</td>\n",
       "      <td>20</td>\n",
       "      <td>0.0000</td>\n",
       "      <td>91</td>\n",
       "      <td>2/1/2020 1:02</td>\n",
       "      <td>2/1/2020 2:13</td>\n",
       "      <td>6.91168</td>\n",
       "      <td>79.8723</td>\n",
       "      <td>6.55091</td>\n",
       "      <td>79.9706</td>\n",
       "      <td>1912.70</td>\n",
       "    </tr>\n",
       "    <tr>\n",
       "      <th>2</th>\n",
       "      <td>213293973</td>\n",
       "      <td>10.5</td>\n",
       "      <td>1552</td>\n",
       "      <td>255</td>\n",
       "      <td>2.6588</td>\n",
       "      <td>23</td>\n",
       "      <td>2/1/2020 5:02</td>\n",
       "      <td>2/1/2020 5:28</td>\n",
       "      <td>6.92145</td>\n",
       "      <td>79.8478</td>\n",
       "      <td>6.90539</td>\n",
       "      <td>79.8989</td>\n",
       "      <td>394.00</td>\n",
       "    </tr>\n",
       "    <tr>\n",
       "      <th>3</th>\n",
       "      <td>213294622</td>\n",
       "      <td>10.5</td>\n",
       "      <td>462</td>\n",
       "      <td>16</td>\n",
       "      <td>0.0000</td>\n",
       "      <td>198</td>\n",
       "      <td>2/1/2020 5:30</td>\n",
       "      <td>2/1/2020 5:38</td>\n",
       "      <td>6.77433</td>\n",
       "      <td>79.9416</td>\n",
       "      <td>6.80401</td>\n",
       "      <td>79.9407</td>\n",
       "      <td>154.32</td>\n",
       "    </tr>\n",
       "    <tr>\n",
       "      <th>4</th>\n",
       "      <td>213298687</td>\n",
       "      <td>10.5</td>\n",
       "      <td>814</td>\n",
       "      <td>392</td>\n",
       "      <td>12.3692</td>\n",
       "      <td>69</td>\n",
       "      <td>2/1/2020 7:00</td>\n",
       "      <td>2/1/2020 7:14</td>\n",
       "      <td>6.97968</td>\n",
       "      <td>79.9130</td>\n",
       "      <td>6.98875</td>\n",
       "      <td>79.8914</td>\n",
       "      <td>147.47</td>\n",
       "    </tr>\n",
       "  </tbody>\n",
       "</table>\n",
       "</div>"
      ],
      "text/plain": [
       "      tripid  additional_fare  duration  ...  drop_lat  drop_lon     fare\n",
       "0  213284604             10.5       924  ...   6.77490   79.8840   289.27\n",
       "1  213286352             10.5      4249  ...   6.55091   79.9706  1912.70\n",
       "2  213293973             10.5      1552  ...   6.90539   79.8989   394.00\n",
       "3  213294622             10.5       462  ...   6.80401   79.9407   154.32\n",
       "4  213298687             10.5       814  ...   6.98875   79.8914   147.47\n",
       "\n",
       "[5 rows x 13 columns]"
      ]
     },
     "execution_count": 78,
     "metadata": {
      "tags": []
     },
     "output_type": "execute_result"
    }
   ],
   "source": [
    "test.head()"
   ]
  },
  {
   "cell_type": "code",
   "execution_count": 79,
   "metadata": {
    "colab": {
     "base_uri": "https://localhost:8080/",
     "height": 358
    },
    "colab_type": "code",
    "executionInfo": {
     "elapsed": 2369,
     "status": "ok",
     "timestamp": 1590166801454,
     "user": {
      "displayName": "Thamindu Jayawickrama",
      "photoUrl": "https://lh3.googleusercontent.com/a-/AOh14GjjqO5d7Rx8QIe-jMmmxUH6UihJmmWv_8InY9HO=s64",
      "userId": "13872082558136559787"
     },
     "user_tz": -330
    },
    "id": "BLlQzTJQCPVl",
    "outputId": "4f80629b-e54c-4ef1-df06-c664f5461c6c"
   },
   "outputs": [
    {
     "name": "stdout",
     "output_type": "stream",
     "text": [
      "<class 'pandas.core.frame.DataFrame'>\n",
      "RangeIndex: 15327 entries, 0 to 15326\n",
      "Data columns (total 14 columns):\n",
      " #   Column                     Non-Null Count  Dtype  \n",
      "---  ------                     --------------  -----  \n",
      " 0   tripid                     15327 non-null  int64  \n",
      " 1   additional_fare            15327 non-null  object \n",
      " 2   duration                   15327 non-null  object \n",
      " 3   meter_waiting              15327 non-null  object \n",
      " 4   meter_waiting_fare         15327 non-null  object \n",
      " 5   meter_waiting_till_pickup  15327 non-null  object \n",
      " 6   pickup_time                15327 non-null  object \n",
      " 7   drop_time                  15327 non-null  object \n",
      " 8   pick_lat                   15327 non-null  float64\n",
      " 9   pick_lon                   15327 non-null  float64\n",
      " 10  drop_lat                   15327 non-null  float64\n",
      " 11  drop_lon                   15327 non-null  float64\n",
      " 12  fare                       15327 non-null  object \n",
      " 13  label                      15327 non-null  object \n",
      "dtypes: float64(4), int64(1), object(9)\n",
      "memory usage: 1.6+ MB\n"
     ]
    }
   ],
   "source": [
    "train.info()"
   ]
  },
  {
   "cell_type": "code",
   "execution_count": 80,
   "metadata": {
    "colab": {
     "base_uri": "https://localhost:8080/",
     "height": 33
    },
    "colab_type": "code",
    "executionInfo": {
     "elapsed": 2210,
     "status": "ok",
     "timestamp": 1590166801455,
     "user": {
      "displayName": "Thamindu Jayawickrama",
      "photoUrl": "https://lh3.googleusercontent.com/a-/AOh14GjjqO5d7Rx8QIe-jMmmxUH6UihJmmWv_8InY9HO=s64",
      "userId": "13872082558136559787"
     },
     "user_tz": -330
    },
    "id": "rZRmS0bjCRi0",
    "outputId": "42b597a7-5fc7-4545-98b5-9c98b637df0f"
   },
   "outputs": [
    {
     "data": {
      "text/plain": [
       "(15327, 14)"
      ]
     },
     "execution_count": 80,
     "metadata": {
      "tags": []
     },
     "output_type": "execute_result"
    }
   ],
   "source": [
    "train.shape"
   ]
  },
  {
   "cell_type": "code",
   "execution_count": 81,
   "metadata": {
    "colab": {
     "base_uri": "https://localhost:8080/",
     "height": 342
    },
    "colab_type": "code",
    "executionInfo": {
     "elapsed": 2087,
     "status": "ok",
     "timestamp": 1590166801456,
     "user": {
      "displayName": "Thamindu Jayawickrama",
      "photoUrl": "https://lh3.googleusercontent.com/a-/AOh14GjjqO5d7Rx8QIe-jMmmxUH6UihJmmWv_8InY9HO=s64",
      "userId": "13872082558136559787"
     },
     "user_tz": -330
    },
    "id": "lcLTfOeICS8O",
    "outputId": "970de6f4-933b-4ebb-913e-7881371dc326"
   },
   "outputs": [
    {
     "name": "stdout",
     "output_type": "stream",
     "text": [
      "<class 'pandas.core.frame.DataFrame'>\n",
      "RangeIndex: 8576 entries, 0 to 8575\n",
      "Data columns (total 13 columns):\n",
      " #   Column                     Non-Null Count  Dtype  \n",
      "---  ------                     --------------  -----  \n",
      " 0   tripid                     8576 non-null   int64  \n",
      " 1   additional_fare            8576 non-null   float64\n",
      " 2   duration                   8576 non-null   int64  \n",
      " 3   meter_waiting              8576 non-null   int64  \n",
      " 4   meter_waiting_fare         8576 non-null   float64\n",
      " 5   meter_waiting_till_pickup  8576 non-null   int64  \n",
      " 6   pickup_time                8576 non-null   object \n",
      " 7   drop_time                  8576 non-null   object \n",
      " 8   pick_lat                   8576 non-null   float64\n",
      " 9   pick_lon                   8576 non-null   float64\n",
      " 10  drop_lat                   8576 non-null   float64\n",
      " 11  drop_lon                   8576 non-null   float64\n",
      " 12  fare                       8576 non-null   float64\n",
      "dtypes: float64(7), int64(4), object(2)\n",
      "memory usage: 871.1+ KB\n"
     ]
    }
   ],
   "source": [
    "test.info()"
   ]
  },
  {
   "cell_type": "code",
   "execution_count": 82,
   "metadata": {
    "colab": {
     "base_uri": "https://localhost:8080/",
     "height": 33
    },
    "colab_type": "code",
    "executionInfo": {
     "elapsed": 3378,
     "status": "ok",
     "timestamp": 1590166802885,
     "user": {
      "displayName": "Thamindu Jayawickrama",
      "photoUrl": "https://lh3.googleusercontent.com/a-/AOh14GjjqO5d7Rx8QIe-jMmmxUH6UihJmmWv_8InY9HO=s64",
      "userId": "13872082558136559787"
     },
     "user_tz": -330
    },
    "id": "RwRJ6X7xCUJG",
    "outputId": "94139d13-950c-4923-cee6-93497517257f"
   },
   "outputs": [
    {
     "data": {
      "text/plain": [
       "(8576, 13)"
      ]
     },
     "execution_count": 82,
     "metadata": {
      "tags": []
     },
     "output_type": "execute_result"
    }
   ],
   "source": [
    "test.shape"
   ]
  },
  {
   "cell_type": "code",
   "execution_count": 0,
   "metadata": {
    "colab": {},
    "colab_type": "code",
    "id": "nSixeBT0CVsW"
   },
   "outputs": [],
   "source": []
  },
  {
   "cell_type": "markdown",
   "metadata": {
    "colab_type": "text",
    "id": "nNm3Tm80CXKg"
   },
   "source": [
    "## Cleaning the Data"
   ]
  },
  {
   "cell_type": "code",
   "execution_count": 0,
   "metadata": {
    "colab": {},
    "colab_type": "code",
    "id": "A9exv-3KCWRl"
   },
   "outputs": [],
   "source": [
    "## cleaning weka added unnecessary values\n",
    "\n",
    "train = train.replace({'?': np.nan})\n"
   ]
  },
  {
   "cell_type": "code",
   "execution_count": 0,
   "metadata": {
    "colab": {},
    "colab_type": "code",
    "id": "SD1xFj25CcCY"
   },
   "outputs": [],
   "source": [
    "## converting label values into 0,1 instead of correct, incorrect\n",
    "\n",
    "train.label = train.label.map(dict(correct=1, incorrect=0))"
   ]
  },
  {
   "cell_type": "code",
   "execution_count": 85,
   "metadata": {
    "colab": {
     "base_uri": "https://localhost:8080/",
     "height": 261
    },
    "colab_type": "code",
    "executionInfo": {
     "elapsed": 2661,
     "status": "ok",
     "timestamp": 1590166802888,
     "user": {
      "displayName": "Thamindu Jayawickrama",
      "photoUrl": "https://lh3.googleusercontent.com/a-/AOh14GjjqO5d7Rx8QIe-jMmmxUH6UihJmmWv_8InY9HO=s64",
      "userId": "13872082558136559787"
     },
     "user_tz": -330
    },
    "id": "pkIEHZ3uCdPx",
    "outputId": "9c402d88-d1f6-4312-cad4-96c36ef04094"
   },
   "outputs": [
    {
     "data": {
      "text/plain": [
       "tripid                         0\n",
       "additional_fare              196\n",
       "duration                     196\n",
       "meter_waiting                196\n",
       "meter_waiting_fare           196\n",
       "meter_waiting_till_pickup    196\n",
       "pickup_time                    0\n",
       "drop_time                      0\n",
       "pick_lat                       0\n",
       "pick_lon                       0\n",
       "drop_lat                       0\n",
       "drop_lon                       0\n",
       "fare                         133\n",
       "label                          0\n",
       "dtype: int64"
      ]
     },
     "execution_count": 85,
     "metadata": {
      "tags": []
     },
     "output_type": "execute_result"
    }
   ],
   "source": [
    "## check for missing values in the dataset\n",
    "\n",
    "# train.isna().head()\n",
    "train.isna().sum()"
   ]
  },
  {
   "cell_type": "code",
   "execution_count": 86,
   "metadata": {
    "colab": {
     "base_uri": "https://localhost:8080/",
     "height": 245
    },
    "colab_type": "code",
    "executionInfo": {
     "elapsed": 2527,
     "status": "ok",
     "timestamp": 1590166802889,
     "user": {
      "displayName": "Thamindu Jayawickrama",
      "photoUrl": "https://lh3.googleusercontent.com/a-/AOh14GjjqO5d7Rx8QIe-jMmmxUH6UihJmmWv_8InY9HO=s64",
      "userId": "13872082558136559787"
     },
     "user_tz": -330
    },
    "id": "CIoWKPGUCefX",
    "outputId": "45d4af90-14fa-4137-88ba-a9f4fe7c555e"
   },
   "outputs": [
    {
     "data": {
      "text/plain": [
       "tripid                       0\n",
       "additional_fare              0\n",
       "duration                     0\n",
       "meter_waiting                0\n",
       "meter_waiting_fare           0\n",
       "meter_waiting_till_pickup    0\n",
       "pickup_time                  0\n",
       "drop_time                    0\n",
       "pick_lat                     0\n",
       "pick_lon                     0\n",
       "drop_lat                     0\n",
       "drop_lon                     0\n",
       "fare                         0\n",
       "dtype: int64"
      ]
     },
     "execution_count": 86,
     "metadata": {
      "tags": []
     },
     "output_type": "execute_result"
    }
   ],
   "source": [
    "test.isna().sum()"
   ]
  },
  {
   "cell_type": "code",
   "execution_count": 0,
   "metadata": {
    "colab": {},
    "colab_type": "code",
    "id": "Bn59t_ZfCfyO"
   },
   "outputs": [],
   "source": [
    "## fill missing values\n",
    "\n",
    "imputer = KNNImputer(n_neighbors=5, weights='uniform')\n",
    "train.iloc[:,[1,2,3,4,5,12]] = imputer.fit_transform(train.iloc[:,[1,2,3,4,5,12]])\n"
   ]
  },
  {
   "cell_type": "code",
   "execution_count": 88,
   "metadata": {
    "colab": {
     "base_uri": "https://localhost:8080/",
     "height": 261
    },
    "colab_type": "code",
    "executionInfo": {
     "elapsed": 3111,
     "status": "ok",
     "timestamp": 1590166803814,
     "user": {
      "displayName": "Thamindu Jayawickrama",
      "photoUrl": "https://lh3.googleusercontent.com/a-/AOh14GjjqO5d7Rx8QIe-jMmmxUH6UihJmmWv_8InY9HO=s64",
      "userId": "13872082558136559787"
     },
     "user_tz": -330
    },
    "id": "ePRqzSOcCh25",
    "outputId": "6d4d06cb-fdd7-435e-eec2-270975c1c412"
   },
   "outputs": [
    {
     "data": {
      "text/plain": [
       "tripid                       0\n",
       "additional_fare              0\n",
       "duration                     0\n",
       "meter_waiting                0\n",
       "meter_waiting_fare           0\n",
       "meter_waiting_till_pickup    0\n",
       "pickup_time                  0\n",
       "drop_time                    0\n",
       "pick_lat                     0\n",
       "pick_lon                     0\n",
       "drop_lat                     0\n",
       "drop_lon                     0\n",
       "fare                         0\n",
       "label                        0\n",
       "dtype: int64"
      ]
     },
     "execution_count": 88,
     "metadata": {
      "tags": []
     },
     "output_type": "execute_result"
    }
   ],
   "source": [
    "train.isna().sum()"
   ]
  },
  {
   "cell_type": "markdown",
   "metadata": {
    "colab_type": "text",
    "id": "d9h95k_3CmJ5"
   },
   "source": [
    "## Basic Feature Engineering"
   ]
  },
  {
   "cell_type": "code",
   "execution_count": 0,
   "metadata": {
    "colab": {},
    "colab_type": "code",
    "id": "Yg8QLVeZCppT"
   },
   "outputs": [],
   "source": [
    "## Join train and test datasets in order to obtain the same number of features during categorical conversion\n",
    "train_len = len(train)\n",
    "dataset = pd.concat(objs=[train, test], axis=0).reset_index(drop=True)\n"
   ]
  },
  {
   "cell_type": "markdown",
   "metadata": {
    "colab_type": "text",
    "id": "4FRA7vLECtXy"
   },
   "source": [
    "## Advanced Feature Engineering"
   ]
  },
  {
   "cell_type": "code",
   "execution_count": 0,
   "metadata": {
    "colab": {},
    "colab_type": "code",
    "id": "0nE83IeCCrIL"
   },
   "outputs": [],
   "source": [
    "## new feature columns\n",
    "trip_fare = []\n",
    "trip_duration = []\n",
    "trip_distance = []\n",
    "\n",
    "distance_to_duration = []\n",
    "fare_to_duration = []\n",
    "fare_to_distance = []\n",
    "waiting_fare_to_waiting_duration = []\n",
    "\n",
    "duration_from_time = []\n",
    "duration_error = []\n"
   ]
  },
  {
   "cell_type": "code",
   "execution_count": 0,
   "metadata": {
    "colab": {},
    "colab_type": "code",
    "id": "Skp_MRI8Cvop"
   },
   "outputs": [],
   "source": [
    "## iterate through each row in the dataset\n",
    "for row in dataset.itertuples():\n",
    "    fare = float(row.fare)\n",
    "    additional_fare = float(row.additional_fare)\n",
    "    meter_waiting_fare = float(row.meter_waiting_fare)\n",
    "    \n",
    "    meter_waiting = row.meter_waiting\n",
    "    meter_waiting_till_pickup = row.meter_waiting_till_pickup\n",
    "    duration = row.duration\n",
    "    \n",
    "    pick_lat = row.pick_lat\n",
    "    pick_lon = row.pick_lon\n",
    "    drop_lat = row.drop_lat\n",
    "    drop_lon = row.drop_lon\n",
    "    \n",
    "    pickup_time = row.pickup_time.replace('\\'', '')\n",
    "    drop_time = row.drop_time.replace('\\'', '')\n",
    "    pickup_time = pickup_time.split('/')\n",
    "    drop_time = drop_time.split('/')\n",
    "    \n",
    "    # total fare for the trip\n",
    "    cur_trip_fare = fare - (additional_fare + meter_waiting_fare)\n",
    "    trip_fare.append(cur_trip_fare)\n",
    "    \n",
    "    # trip duration\n",
    "    cur_trip_duration = duration - meter_waiting - meter_waiting_till_pickup\n",
    "    trip_duration.append(cur_trip_duration)\n",
    "    \n",
    "    # trip distance\n",
    "    cur_trip_distance = float(great_circle((drop_lat, drop_lon),(pick_lat, pick_lon)).kilometers)\n",
    "    trip_distance.append(cur_trip_distance)\n",
    "    \n",
    "    # trip distance to duration\n",
    "    try:\n",
    "        cur_dist_to_dur = cur_trip_distance / cur_trip_duration\n",
    "    except ZeroDivisionError:\n",
    "        cur_dist_to_dur  = 0\n",
    "    distance_to_duration.append(cur_dist_to_dur)\n",
    "    \n",
    "    # trip fare to trip duration\n",
    "    try:\n",
    "        cur_fare_to_duration = cur_trip_fare / cur_trip_duration\n",
    "    except ZeroDivisionError:\n",
    "        cur_fare_to_duration  = 0\n",
    "    fare_to_duration.append(cur_fare_to_duration)\n",
    "    \n",
    "    # trip fare to trip distance\n",
    "    try:\n",
    "        cur_fare_to_distance = cur_trip_fare / cur_trip_distance\n",
    "    except ZeroDivisionError:\n",
    "        cur_fare_to_distance  = 0\n",
    "    fare_to_distance.append(cur_fare_to_distance)\n",
    "    \n",
    "    # trip waiting fare to waiting duration\n",
    "    try:\n",
    "        cur_waiting_fare_to_waiting_dur = meter_waiting_fare / meter_waiting\n",
    "    except ZeroDivisionError:\n",
    "        cur_waiting_fare_to_waiting_dur  = 0\n",
    "    waiting_fare_to_waiting_duration.append(cur_waiting_fare_to_waiting_dur)\n",
    "    \n",
    "    # time duration\n",
    "    # pickup time\n",
    "    month, day, y_hm = int(pickup_time[0]), int(pickup_time[1]), pickup_time[2].split(' ')\n",
    "    year, h_m = int(y_hm[0]), y_hm[1].split(':')\n",
    "    hour, minute = int(h_m[0]), int(h_m[1])\n",
    "    pickup_time = datetime.datetime(year, month, day, hour, minute)\n",
    "    \n",
    "    # drop time\n",
    "    month, day, y_hm = int(drop_time[0]), int(drop_time[1]), drop_time[2].split(' ')\n",
    "    year, h_m = int(y_hm[0]), y_hm[1].split(':')\n",
    "    hour, minute = int(h_m[0]), int(h_m[1])\n",
    "    drop_time = datetime.datetime(year, month, day, hour, minute)\n",
    "    \n",
    "    # duration\n",
    "    cur_duration_from_time = (drop_time - pickup_time).seconds\n",
    "    duration_from_time.append(cur_duration_from_time)\n",
    "    duration_error.append(cur_duration_from_time - duration)\n"
   ]
  },
  {
   "cell_type": "code",
   "execution_count": 0,
   "metadata": {
    "colab": {},
    "colab_type": "code",
    "id": "wUNv-kTyCxG3"
   },
   "outputs": [],
   "source": [
    "## append new columns to dataset\n",
    "dataset['trip_fare'] = trip_fare\n",
    "dataset['trip_duration'] = trip_duration\n",
    "dataset['trip_distance'] = trip_distance\n",
    "dataset['distance_to_duration'] = distance_to_duration\n",
    "dataset['fare_to_duration'] = fare_to_duration\n",
    "dataset['fare_to_distance'] = fare_to_distance\n",
    "dataset['waiting_fare_to_waiting_duration'] = waiting_fare_to_waiting_duration\n",
    "dataset['duration_from_time'] = duration_from_time\n",
    "dataset['duration_error'] = duration_error\n"
   ]
  },
  {
   "cell_type": "code",
   "execution_count": 0,
   "metadata": {
    "colab": {},
    "colab_type": "code",
    "id": "axXoRLVyCy8k"
   },
   "outputs": [],
   "source": []
  },
  {
   "cell_type": "code",
   "execution_count": 0,
   "metadata": {
    "colab": {},
    "colab_type": "code",
    "id": "7uOJcl9seyWX"
   },
   "outputs": [],
   "source": [
    "## few more new features"
   ]
  },
  {
   "cell_type": "code",
   "execution_count": 0,
   "metadata": {
    "colab": {},
    "colab_type": "code",
    "id": "BbAg2XZxeypq"
   },
   "outputs": [],
   "source": [
    "## column average values\n",
    "avg_fare = dataset['fare'].mean()\n",
    "avg_trip_fare = dataset['trip_fare'].mean()\n",
    "avg_waiting_fare = dataset['meter_waiting_fare'].mean()\n",
    "avg_fare_to_distance = dataset['fare_to_distance'].mean()\n",
    "avg_waiting_fare_to_duration = dataset['waiting_fare_to_waiting_duration'].mean()"
   ]
  },
  {
   "cell_type": "code",
   "execution_count": 0,
   "metadata": {
    "colab": {},
    "colab_type": "code",
    "id": "4RZhr2NBeymU"
   },
   "outputs": [],
   "source": [
    "## new columns\n",
    "is_invalid_total_fare = []\n",
    "\n",
    "div_from_avg_total_fare = []\n",
    "div_from_avg_trip_fare = []\n",
    "div_from_avg_waiting_fare = []\n",
    "\n",
    "div_from_avg_fare_to_distance = []\n",
    "div_from_avg_waiting_fare_to_waiting_duration = []"
   ]
  },
  {
   "cell_type": "code",
   "execution_count": 0,
   "metadata": {
    "colab": {},
    "colab_type": "code",
    "id": "YHsHGeqwe4VR"
   },
   "outputs": [],
   "source": [
    "## iterate through each row in the dataset\n",
    "for row in dataset.itertuples():\n",
    "    fare = float(row.fare)\n",
    "    trip_fare = float(row.trip_fare)\n",
    "    meter_waiting_fare = float(row.meter_waiting_fare)\n",
    "    additional_fare = float(row.additional_fare)\n",
    "    \n",
    "    fare_to_distance = float(row.fare_to_distance)\n",
    "    waiting_fare_to_waiting_duration = float(row.waiting_fare_to_waiting_duration)\n",
    "    \n",
    "    # total fare less than or equal to zero\n",
    "    if(fare-meter_waiting_fare-additional_fare <= 0):\n",
    "        is_invalid_total_fare.append(1)\n",
    "    else:\n",
    "        is_invalid_total_fare.append(0)\n",
    "        \n",
    "    # diviation from average\n",
    "    div_from_avg_total_fare.append(fare - avg_fare)\n",
    "    div_from_avg_trip_fare.append(trip_fare - avg_trip_fare)\n",
    "    div_from_avg_waiting_fare.append(meter_waiting_fare - avg_waiting_fare)\n",
    "    div_from_avg_fare_to_distance.append(fare_to_distance - avg_fare_to_distance)\n",
    "    div_from_avg_waiting_fare_to_waiting_duration.append(waiting_fare_to_waiting_duration - avg_waiting_fare_to_duration)\n"
   ]
  },
  {
   "cell_type": "code",
   "execution_count": 0,
   "metadata": {
    "colab": {},
    "colab_type": "code",
    "id": "kK2kGW0Ye8C2"
   },
   "outputs": [],
   "source": [
    "## append new columns to dataset\n",
    "dataset['is_invalid_total_fare'] = is_invalid_total_fare\n",
    "dataset['div_from_avg_total_fare'] = div_from_avg_total_fare\n",
    "dataset['div_from_avg_trip_fare'] = div_from_avg_trip_fare\n",
    "dataset['div_from_avg_waiting_fare'] = div_from_avg_waiting_fare\n",
    "dataset['div_from_avg_fare_to_distance'] = div_from_avg_fare_to_distance\n",
    "dataset['div_from_avg_waiting_fare_to_waiting_duration'] = div_from_avg_waiting_fare_to_waiting_duration\n"
   ]
  },
  {
   "cell_type": "markdown",
   "metadata": {
    "colab_type": "text",
    "id": "DD9FY_rbC0-h"
   },
   "source": [
    "## Feature Preprocessing"
   ]
  },
  {
   "cell_type": "code",
   "execution_count": 0,
   "metadata": {
    "colab": {},
    "colab_type": "code",
    "id": "2H58Xzh9C2xe"
   },
   "outputs": [],
   "source": [
    "## Scaling values into 0-1 range\n",
    "\n",
    "scaler = MinMaxScaler(feature_range=(0,1))\n",
    "features = [\n",
    "    'additional_fare',\n",
    "    'duration',\n",
    "    'meter_waiting',\n",
    "    'meter_waiting_fare',\n",
    "    'meter_waiting_till_pickup',\n",
    "    'pick_lat',\n",
    "    'pick_lon',\n",
    "    'drop_lat',\n",
    "    'drop_lon',\n",
    "    'fare',\n",
    "    \n",
    "    'trip_fare',\n",
    "    'trip_duration',\n",
    "    'trip_distance',\n",
    "    'distance_to_duration',\n",
    "    'fare_to_duration',\n",
    "    'fare_to_distance',\n",
    "    'waiting_fare_to_waiting_duration', \n",
    "    'duration_from_time',\n",
    "    'duration_error',\n",
    "    \n",
    "    'div_from_avg_total_fare',\n",
    "    'div_from_avg_trip_fare',\n",
    "    'div_from_avg_waiting_fare',\n",
    "    'div_from_avg_fare_to_distance',\n",
    "    'div_from_avg_waiting_fare_to_waiting_duration'\n",
    "]\n",
    "\n",
    "dataset[features] = scaler.fit_transform(dataset[features])\n"
   ]
  },
  {
   "cell_type": "code",
   "execution_count": 0,
   "metadata": {
    "colab": {},
    "colab_type": "code",
    "id": "kPXNYx2PC4EQ"
   },
   "outputs": [],
   "source": [
    "## Split into training and testing again\n",
    "\n",
    "train = dataset[:train_len]\n",
    "test = dataset[train_len:]\n",
    "test.drop(labels=['label'], axis=1, inplace=True)\n",
    "\n",
    "train['label'] = train['label'].astype(int)\n"
   ]
  },
  {
   "cell_type": "code",
   "execution_count": 0,
   "metadata": {
    "colab": {},
    "colab_type": "code",
    "id": "LD_DUtWyC6nW"
   },
   "outputs": [],
   "source": [
    "## Drop unnecessary columns\n",
    "labels_to_drop = [\n",
    "    'tripid',\n",
    "#     'pick_lat',\n",
    "#     'pick_lon',\n",
    "#     'drop_lat',\n",
    "#     'drop_lon',\n",
    "    'pickup_time',\n",
    "    'drop_time'\n",
    "]\n",
    "\n",
    "train.drop(labels=labels_to_drop, axis=1, inplace=True)\n"
   ]
  },
  {
   "cell_type": "code",
   "execution_count": 0,
   "metadata": {
    "colab": {},
    "colab_type": "code",
    "id": "-rOl3kndC9q0"
   },
   "outputs": [],
   "source": []
  },
  {
   "cell_type": "markdown",
   "metadata": {
    "colab_type": "text",
    "id": "Axk2O-PAC_rE"
   },
   "source": [
    "## Feature Importance"
   ]
  },
  {
   "cell_type": "code",
   "execution_count": 101,
   "metadata": {
    "colab": {
     "base_uri": "https://localhost:8080/",
     "height": 440
    },
    "colab_type": "code",
    "executionInfo": {
     "elapsed": 1580,
     "status": "ok",
     "timestamp": 1590166807944,
     "user": {
      "displayName": "Thamindu Jayawickrama",
      "photoUrl": "https://lh3.googleusercontent.com/a-/AOh14GjjqO5d7Rx8QIe-jMmmxUH6UihJmmWv_8InY9HO=s64",
      "userId": "13872082558136559787"
     },
     "user_tz": -330
    },
    "id": "shc3mrdQDBfw",
    "outputId": "262739c5-55b2-4ce8-f8bf-2fc9ee3a5a81"
   },
   "outputs": [
    {
     "name": "stdout",
     "output_type": "stream",
     "text": [
      "                                            Specs       Score\n",
      "19                          is_invalid_total_fare  108.180246\n",
      "3                              meter_waiting_fare   45.763162\n",
      "22                      div_from_avg_waiting_fare   45.763162\n",
      "2                                   meter_waiting   41.708268\n",
      "17                             duration_from_time   26.766455\n",
      "9                                            fare   16.321160\n",
      "20                        div_from_avg_total_fare   16.321160\n",
      "1                                        duration   15.022474\n",
      "24  div_from_avg_waiting_fare_to_waiting_duration    9.070288\n",
      "16               waiting_fare_to_waiting_duration    9.070288\n",
      "6                                        pick_lon    7.465128\n",
      "21                         div_from_avg_trip_fare    6.433426\n",
      "10                                      trip_fare    6.433426\n",
      "0                                 additional_fare    1.522073\n",
      "15                               fare_to_distance    1.288787\n",
      "23                  div_from_avg_fare_to_distance    1.288787\n",
      "4                       meter_waiting_till_pickup    0.240755\n",
      "5                                        pick_lat    0.161323\n",
      "18                                 duration_error    0.010059\n",
      "7                                        drop_lat    0.006369\n",
      "12                                  trip_distance    0.003396\n",
      "8                                        drop_lon    0.001578\n",
      "13                           distance_to_duration    0.001346\n",
      "14                               fare_to_duration    0.000332\n",
      "11                                  trip_duration    0.000002\n"
     ]
    }
   ],
   "source": [
    "y = train['label']\n",
    "X = train.drop(labels=['label'], axis=1)\n",
    "\n",
    "# apply SelectKBest class to extract top 20 best features\n",
    "bestfeatures = SelectKBest(score_func=chi2, k='all')\n",
    "fit = bestfeatures.fit(X, y)\n",
    "dfscores = pd.DataFrame(fit.scores_)\n",
    "dfcolumns = pd.DataFrame(X.columns)\n",
    "\n",
    "# concat two dataframes for better visualization\n",
    "featureScores = pd.concat([dfcolumns, dfscores], axis=1)\n",
    "featureScores.columns = ['Specs', 'Score']  #naming the dataframe columns\n",
    "print(featureScores.nlargest(30, 'Score'))  #print 10 best features\n"
   ]
  },
  {
   "cell_type": "code",
   "execution_count": 0,
   "metadata": {
    "colab": {},
    "colab_type": "code",
    "id": "zZe5gJK5DDDg"
   },
   "outputs": [],
   "source": [
    "## Drop less important columns\n",
    "labels_to_drop = [\n",
    "#     'trip_duration',\n",
    "#     'fare_to_duration',\n",
    "#     'distance_to_duration',\n",
    "    'drop_lon',\n",
    "    'drop_lat',\n",
    "#     'trip_distance',\n",
    "#     'duration_error',\n",
    "#     'pick_lat',\n",
    "#     'pick_lon',\n",
    "#     'meter_waiting_till_pickup',\n",
    "#     'div_from_avg_fare_to_distance',\n",
    "#     'fare_to_distance',\n",
    "#     'additional_fare'\n",
    "]\n",
    "\n",
    "train.drop(labels=labels_to_drop, axis=1, inplace=True)\n"
   ]
  },
  {
   "cell_type": "markdown",
   "metadata": {
    "colab_type": "text",
    "id": "4DoEaunxDth5"
   },
   "source": [
    "## Train and Save Sub Models"
   ]
  },
  {
   "cell_type": "code",
   "execution_count": 0,
   "metadata": {
    "colab": {},
    "colab_type": "code",
    "id": "rpgavifdLf0Q"
   },
   "outputs": [],
   "source": [
    "## function to calculate F1 score\n",
    "def f1_score(y_true, y_pred):\n",
    "    true_positives = K.sum(K.round(K.clip(y_true*y_pred, 0, 1)))\n",
    "    possible_positives = K.sum(K.round(K.clip(y_true, 0, 1)))\n",
    "    predicted_positives = K.sum(K.round(K.clip(y_pred, 0, 1)))\n",
    "    precision = true_positives / (predicted_positives + K.epsilon())\n",
    "    recall = true_positives / (possible_positives + K.epsilon())\n",
    "    f1_val = 2 * (precision * recall) / (precision + recall + K.epsilon())\n",
    "    return f1_val\n"
   ]
  },
  {
   "cell_type": "code",
   "execution_count": 0,
   "metadata": {
    "colab": {},
    "colab_type": "code",
    "id": "HzRwPX9Vv2z_"
   },
   "outputs": [],
   "source": [
    "# ## function to fit model on dataset\n",
    "# def fit_model(X_train, y_train):\n",
    "#     model = Sequential()\n",
    "#     model.add(Dense(36, input_dim=23, activation='relu'))\n",
    "#     model.add(Dense(18, activation='relu'))\n",
    "#     model.add(Dense(8, activation='relu'))\n",
    "#     model.add(Dense(1, activation='sigmoid'))\n",
    "\n",
    "#     # model.compile(loss='binary_crossentropy', optimizer='adam', metrics=[f1_score])\n",
    "#     model.compile(loss='binary_crossentropy', optimizer='adam', metrics=['accuracy'])\n",
    "#     model.fit(X_train, y_train, epochs=500, verbose=0)\n",
    "    \n",
    "#     return model\n"
   ]
  },
  {
   "cell_type": "code",
   "execution_count": 0,
   "metadata": {
    "colab": {},
    "colab_type": "code",
    "id": "y-QH73Hvg1oK"
   },
   "outputs": [],
   "source": []
  },
  {
   "cell_type": "code",
   "execution_count": 0,
   "metadata": {
    "colab": {},
    "colab_type": "code",
    "id": "j9-0kQaNfjqT"
   },
   "outputs": [],
   "source": [
    "## Seperate train features and label\n",
    "\n",
    "y = train['label']\n",
    "X = train.drop(labels='label', axis=1)\n",
    "\n",
    "## Spliting into training and testing\n",
    "X_train, X_eval, y_train, y_eval = train_test_split(X, y, test_size=0.2, random_state=42)\n"
   ]
  },
  {
   "cell_type": "code",
   "execution_count": 0,
   "metadata": {
    "colab": {},
    "colab_type": "code",
    "id": "rFERR6o1w2ZH"
   },
   "outputs": [],
   "source": [
    "# create directory for models\n",
    "os.makedirs('models')\n"
   ]
  },
  {
   "cell_type": "code",
   "execution_count": 107,
   "metadata": {
    "colab": {
     "base_uri": "https://localhost:8080/",
     "height": 98
    },
    "colab_type": "code",
    "executionInfo": {
     "elapsed": 566312,
     "status": "ok",
     "timestamp": 1590169696060,
     "user": {
      "displayName": "Thamindu Jayawickrama",
      "photoUrl": "https://lh3.googleusercontent.com/a-/AOh14GjjqO5d7Rx8QIe-jMmmxUH6UihJmmWv_8InY9HO=s64",
      "userId": "13872082558136559787"
     },
     "user_tz": -330
    },
    "id": "l36_pJa9DK8B",
    "outputId": "88ef8ffc-efe6-465b-94d5-2631f8941154"
   },
   "outputs": [
    {
     "name": "stdout",
     "output_type": "stream",
     "text": [
      "models/model_1.h5 Saved successfully!\n",
      "models/model_2.h5 Saved successfully!\n",
      "models/model_3.h5 Saved successfully!\n",
      "models/model_4.h5 Saved successfully!\n",
      "models/model_5.h5 Saved successfully!\n"
     ]
    }
   ],
   "source": [
    "# fit and save models\n",
    "n_models = 5\n",
    "\n",
    "# for i in range(n_models):\n",
    "#     model = fit_model(X_train, y_train)\n",
    "#     filename = 'models/model_' + str(i+1) + '.h5'\n",
    "#     model.save(filename)\n",
    "#     print('%s Saved successfully!' % filename)\n",
    "\n",
    "\n",
    "# sub model 1\n",
    "model = Sequential()\n",
    "model.add(Dense(36, input_dim=23, activation='relu'))\n",
    "model.add(Dense(18, activation='relu'))\n",
    "model.add(Dense(8, activation='relu'))\n",
    "model.add(Dense(1, activation='sigmoid'))\n",
    "model.compile(loss='binary_crossentropy', optimizer='adam', metrics=['accuracy'])\n",
    "model.fit(X_train, y_train, epochs=500, verbose=0)\n",
    "filename = 'models/model_1.h5'\n",
    "model.save(filename)\n",
    "print('%s Saved successfully!' % filename)\n",
    "\n",
    "# sub model 2\n",
    "model = Sequential()\n",
    "model.add(Dropout(0.2, input_shape=(23,)))\n",
    "model.add(Dense(18, activation='relu'))\n",
    "model.add(Dense(9, activation='relu'))\n",
    "model.add(Dense(1, activation='sigmoid'))\n",
    "model.compile(loss='binary_crossentropy', optimizer='adam', metrics=['accuracy'])\n",
    "model.fit(X_train, y_train, epochs=500, verbose=0)\n",
    "filename = 'models/model_2.h5'\n",
    "model.save(filename)\n",
    "print('%s Saved successfully!' % filename)\n",
    "\n",
    "# sub model 3\n",
    "model = Sequential()\n",
    "model.add(Dense(36, input_dim=23, activation='relu'))\n",
    "model.add(Dense(18, activation='relu'))\n",
    "model.add(Dense(9, activation='relu'))\n",
    "model.add(Dense(1, activation='sigmoid'))\n",
    "model.compile(loss='binary_crossentropy', optimizer='adam', metrics=['accuracy'])\n",
    "model.fit(X_train, y_train, epochs=500, verbose=0)\n",
    "filename = 'models/model_3.h5'\n",
    "model.save(filename)\n",
    "print('%s Saved successfully!' % filename)\n",
    "\n",
    "# sub model 4\n",
    "model = Sequential()\n",
    "model.add(Dense(36, input_dim=23, activation='relu'))\n",
    "model.add(Dense(12, activation='relu'))\n",
    "model.add(Dense(1, activation='sigmoid'))\n",
    "model.compile(loss='binary_crossentropy', optimizer='adam', metrics=['accuracy'])\n",
    "model.fit(X_train, y_train, epochs=500, verbose=0)\n",
    "filename = 'models/model_4.h5'\n",
    "model.save(filename)\n",
    "print('%s Saved successfully!' % filename)\n",
    "\n",
    "# sub model 5\n",
    "model = Sequential()\n",
    "model.add(Dense(23, input_dim=23, activation='relu'))\n",
    "model.add(Dense(12, activation='relu'))\n",
    "model.add(Dense(6, activation='relu'))\n",
    "model.add(Dense(1, activation='sigmoid'))\n",
    "model.compile(loss='binary_crossentropy', optimizer='adam', metrics=['accuracy'])\n",
    "model.fit(X_train, y_train, epochs=500, verbose=0)\n",
    "filename = 'models/model_5.h5'\n",
    "model.save(filename)\n",
    "print('%s Saved successfully!' % filename)\n"
   ]
  },
  {
   "cell_type": "code",
   "execution_count": 0,
   "metadata": {
    "colab": {},
    "colab_type": "code",
    "id": "DnqdB6_gDzY_"
   },
   "outputs": [],
   "source": []
  },
  {
   "cell_type": "markdown",
   "metadata": {
    "colab_type": "text",
    "id": "uWs-v__yy7gt"
   },
   "source": [
    "## Seperate Stacking Model (Meta Learner)"
   ]
  },
  {
   "cell_type": "code",
   "execution_count": 0,
   "metadata": {
    "colab": {},
    "colab_type": "code",
    "id": "wSTPWcpLyy3b"
   },
   "outputs": [],
   "source": [
    "# load saved models\n",
    "def load_models(n_models):\n",
    "    models = list()\n",
    "    for i in range(n_models):\n",
    "        filename = 'models/model_' + str(i+1) + '.h5'\n",
    "        model = load_model(filename)\n",
    "        models.append(model)\n",
    "        print('%s loaded' % filename)\n",
    "    return models\n"
   ]
  },
  {
   "cell_type": "code",
   "execution_count": 0,
   "metadata": {
    "colab": {},
    "colab_type": "code",
    "id": "AcMDVjTT2o9F"
   },
   "outputs": [],
   "source": [
    "# create stacked model dataset from the outputs of ensembles\n",
    "def stacked_dataset(models, X_input):\n",
    "    X_stack = None\n",
    "\n",
    "    for model in models:\n",
    "        yhat = model.predict(X_input, verbose=0)\n",
    "\n",
    "        # stack into [rows, n_models, probabilities]\n",
    "        if X_stack is None:\n",
    "            X_stack = yhat\n",
    "        else:\n",
    "            X_stack = dstack((X_stack, yhat))\n",
    "\n",
    "    # flatten to [rows, n_models x probabilities]\n",
    "    X_stack = X_stack.reshape((X_stack.shape[0], X_stack.shape[1]*X_stack.shape[2]))\n",
    "\n",
    "    return X_stack\n"
   ]
  },
  {
   "cell_type": "code",
   "execution_count": 0,
   "metadata": {
    "colab": {},
    "colab_type": "code",
    "id": "qHUwmWV54UZa"
   },
   "outputs": [],
   "source": [
    "# fit a model based on outputs from ensemble models\n",
    "def fit_stacked_model(models, X_input, y_input):\n",
    "    X_stacked = stacked_dataset(models, X_input)\n",
    "    # model = LogisticRegression()\n",
    "    model = RandomForestClassifier()\n",
    "    model.fit(X_stacked, y_input)\n",
    "    return model\n",
    "\n",
    "# make a prediction with the stacked model\n",
    "def predict_stacked_model(models, model, X_input):\n",
    "    X_stacked = stacked_dataset(models, X_input)\n",
    "    yhat = model.predict(X_stacked)\n",
    "    return yhat\n"
   ]
  },
  {
   "cell_type": "code",
   "execution_count": 0,
   "metadata": {
    "colab": {},
    "colab_type": "code",
    "id": "tCJqXl3x4Uks"
   },
   "outputs": [],
   "source": []
  },
  {
   "cell_type": "code",
   "execution_count": 127,
   "metadata": {
    "colab": {
     "base_uri": "https://localhost:8080/",
     "height": 196
    },
    "colab_type": "code",
    "executionInfo": {
     "elapsed": 4699,
     "status": "ok",
     "timestamp": 1590170426428,
     "user": {
      "displayName": "Thamindu Jayawickrama",
      "photoUrl": "https://lh3.googleusercontent.com/a-/AOh14GjjqO5d7Rx8QIe-jMmmxUH6UihJmmWv_8InY9HO=s64",
      "userId": "13872082558136559787"
     },
     "user_tz": -330
    },
    "id": "Kl56ESYX0BSq",
    "outputId": "98bf70ec-fa48-4e4f-8e9d-45b2b58e516e"
   },
   "outputs": [
    {
     "name": "stdout",
     "output_type": "stream",
     "text": [
      "models/model_1.h5 loaded\n",
      "models/model_2.h5 loaded\n",
      "models/model_3.h5 loaded\n",
      "models/model_4.h5 loaded\n",
      "models/model_5.h5 loaded\n",
      "\n",
      "Model accuracy: 0.9583\n",
      "Model accuracy: 0.9165\n",
      "Model accuracy: 0.9517\n",
      "Model accuracy: 0.9540\n",
      "Model accuracy: 0.9478\n"
     ]
    }
   ],
   "source": [
    "# load all models\n",
    "model_list = load_models(n_models)\n",
    "\n",
    "print('')\n",
    "\n",
    "# evaluate standalone models on evaluation set\n",
    "for model in model_list:\n",
    "    _, acc = model.evaluate(X_eval, y_eval, verbose=0)\n",
    "    print('Model accuracy: %.4f' % acc)\n"
   ]
  },
  {
   "cell_type": "code",
   "execution_count": 0,
   "metadata": {
    "colab": {},
    "colab_type": "code",
    "id": "ceIyXrjq0CGc"
   },
   "outputs": [],
   "source": [
    "# fit stacked model using the ensemble\n",
    "model = fit_stacked_model(model_list, X_eval, y_eval)\n"
   ]
  },
  {
   "cell_type": "code",
   "execution_count": 129,
   "metadata": {
    "colab": {
     "base_uri": "https://localhost:8080/",
     "height": 33
    },
    "colab_type": "code",
    "executionInfo": {
     "elapsed": 3408,
     "status": "ok",
     "timestamp": 1590170438650,
     "user": {
      "displayName": "Thamindu Jayawickrama",
      "photoUrl": "https://lh3.googleusercontent.com/a-/AOh14GjjqO5d7Rx8QIe-jMmmxUH6UihJmmWv_8InY9HO=s64",
      "userId": "13872082558136559787"
     },
     "user_tz": -330
    },
    "id": "74vNa6XV5Nux",
    "outputId": "616d5af1-29dc-495e-c1bd-745245189eb8"
   },
   "outputs": [
    {
     "name": "stdout",
     "output_type": "stream",
     "text": [
      "Stacked Test Accuracy: 0.9993\n"
     ]
    }
   ],
   "source": [
    "# evaluation model on test data\n",
    "yhat = predict_stacked_model(model_list, model, X_eval)\n",
    "acc = accuracy_score(y_eval, yhat)\n",
    "print('Stacked Test Accuracy: %.4f' % acc)\n"
   ]
  },
  {
   "cell_type": "code",
   "execution_count": 0,
   "metadata": {
    "colab": {},
    "colab_type": "code",
    "id": "kMiF-sVd6Hw5"
   },
   "outputs": [],
   "source": []
  },
  {
   "cell_type": "code",
   "execution_count": 130,
   "metadata": {
    "colab": {
     "base_uri": "https://localhost:8080/",
     "height": 33
    },
    "colab_type": "code",
    "executionInfo": {
     "elapsed": 13721,
     "status": "ok",
     "timestamp": 1590170460623,
     "user": {
      "displayName": "Thamindu Jayawickrama",
      "photoUrl": "https://lh3.googleusercontent.com/a-/AOh14GjjqO5d7Rx8QIe-jMmmxUH6UihJmmWv_8InY9HO=s64",
      "userId": "13872082558136559787"
     },
     "user_tz": -330
    },
    "id": "AzAJCC2RZFk4",
    "outputId": "5c330741-778b-427d-d3c8-545f6fd26d69"
   },
   "outputs": [
    {
     "name": "stdout",
     "output_type": "stream",
     "text": [
      "% Accuracy : 97.8849\n"
     ]
    }
   ],
   "source": [
    "## cross val score for the complete train set\n",
    "\n",
    "kfold = StratifiedKFold(n_splits=4, random_state=42, shuffle=False)\n",
    "\n",
    "X_st = stacked_dataset(model_list, X)\n",
    "model1 = RandomForestClassifier()\n",
    "\n",
    "rfc_scores = []\n",
    "score = cross_val_score(model1, X_st, y, cv=kfold, scoring='f1')\n",
    "rfc_scores.append(score.mean())\n",
    "\n",
    "print('% Accuracy :', round(score.mean()*100, 4))\n"
   ]
  },
  {
   "cell_type": "code",
   "execution_count": 0,
   "metadata": {
    "colab": {},
    "colab_type": "code",
    "id": "i1xUWjCOZFil"
   },
   "outputs": [],
   "source": []
  },
  {
   "cell_type": "code",
   "execution_count": 0,
   "metadata": {
    "colab": {},
    "colab_type": "code",
    "id": "ErWN9avEHzJG"
   },
   "outputs": [],
   "source": []
  },
  {
   "cell_type": "markdown",
   "metadata": {
    "colab_type": "text",
    "id": "fnORgZd5D6u5"
   },
   "source": [
    "## Predicting and Preparing the Submission"
   ]
  },
  {
   "cell_type": "code",
   "execution_count": 0,
   "metadata": {
    "colab": {},
    "colab_type": "code",
    "id": "QfI45MEMD9RI"
   },
   "outputs": [],
   "source": [
    "trip_ids = test.tripid\n",
    "\n",
    "labels_to_drop = [\n",
    "    'tripid',\n",
    "#     'pick_lat',\n",
    "#     'pick_lon',\n",
    "    'drop_lat',\n",
    "    'drop_lon',\n",
    "    'pickup_time',\n",
    "    'drop_time',\n",
    "#     'trip_distance',\n",
    "#     'fare_to_duration',\n",
    "#     'trip_duration',\n",
    "#     'distance_to_duration',\n",
    "#     'duration_error',\n",
    "#     'meter_waiting_till_pickup',\n",
    "#     'additional_fare'\n",
    "]\n",
    "\n",
    "test = test.drop(labels=labels_to_drop, axis=1)\n"
   ]
  },
  {
   "cell_type": "code",
   "execution_count": 0,
   "metadata": {
    "colab": {},
    "colab_type": "code",
    "id": "yCaTsnRLaobd"
   },
   "outputs": [],
   "source": [
    "predictions = predict_stacked_model(model_list, model, test)\n"
   ]
  },
  {
   "cell_type": "code",
   "execution_count": 135,
   "metadata": {
    "colab": {
     "base_uri": "https://localhost:8080/",
     "height": 33
    },
    "colab_type": "code",
    "executionInfo": {
     "elapsed": 9900,
     "status": "ok",
     "timestamp": 1590170574107,
     "user": {
      "displayName": "Thamindu Jayawickrama",
      "photoUrl": "https://lh3.googleusercontent.com/a-/AOh14GjjqO5d7Rx8QIe-jMmmxUH6UihJmmWv_8InY9HO=s64",
      "userId": "13872082558136559787"
     },
     "user_tz": -330
    },
    "id": "B3IddUuDjN9c",
    "outputId": "644c10a4-cf5b-4ebd-8275-f45c3de6160d"
   },
   "outputs": [
    {
     "name": "stdout",
     "output_type": "stream",
     "text": [
      "Completed!\n"
     ]
    }
   ],
   "source": [
    "output = pd.DataFrame({'tripid': trip_ids, 'prediction': predictions})\n",
    "output.to_csv('160253h_submission_18.csv', index=False)\n",
    "\n",
    "!cp '160253h_submission_18.csv' \"drive/My Drive/ML/submissions/\"\n",
    "\n",
    "print('Completed!')\n"
   ]
  },
  {
   "cell_type": "code",
   "execution_count": 0,
   "metadata": {
    "colab": {},
    "colab_type": "code",
    "id": "inHp4ZgFkR5e"
   },
   "outputs": [],
   "source": []
  },
  {
   "cell_type": "markdown",
   "metadata": {
    "colab_type": "text",
    "id": "2trDFAYfEAWG"
   },
   "source": [
    "model training.\n",
    "\n",
    "remove outliers only (-Weka).\n",
    "\n",
    "KNNImputer to impute missing values.\n",
    "\n",
    "with feature engineering (added 15 new features)\n",
    "\n",
    "datetime columns have dropped.\n",
    "\n",
    "[model: Neural Networks + Random Forest]\n",
    "\n",
    "score: 0.97705\n"
   ]
  },
  {
   "cell_type": "code",
   "execution_count": 0,
   "metadata": {
    "colab": {},
    "colab_type": "code",
    "id": "lhspY8AHECwc"
   },
   "outputs": [],
   "source": []
  }
 ],
 "metadata": {
  "accelerator": "GPU",
  "colab": {
   "authorship_tag": "ABX9TyPbTo7Emj8Jt7cplLjPIwRj",
   "collapsed_sections": [],
   "name": "01_fare_classification_with_new_features.ipynb",
   "provenance": []
  },
  "kernelspec": {
   "display_name": "Python 3",
   "language": "python",
   "name": "python3"
  },
  "language_info": {
   "codemirror_mode": {
    "name": "ipython",
    "version": 3
   },
   "file_extension": ".py",
   "mimetype": "text/x-python",
   "name": "python",
   "nbconvert_exporter": "python",
   "pygments_lexer": "ipython3",
   "version": "3.6.9"
  }
 },
 "nbformat": 4,
 "nbformat_minor": 1
}
